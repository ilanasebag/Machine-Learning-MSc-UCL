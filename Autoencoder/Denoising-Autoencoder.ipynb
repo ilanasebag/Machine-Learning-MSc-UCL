{
 "cells": [
  {
   "cell_type": "code",
   "execution_count": 1,
   "metadata": {},
   "outputs": [],
   "source": [
    "import sys, os\n",
    "import random\n",
    "import numpy as np\n",
    "import matplotlib.pyplot as plt\n",
    "from tqdm.notebook import tqdm\n",
    "import torch\n",
    "import torch.nn as nn\n",
    "import torch.nn.functional as F\n",
    "from torch.utils.data import DataLoader, Dataset, TensorDataset\n",
    "from torch.optim import *\n",
    "import torchvision\n",
    "import torchvision.transforms as transforms\n",
    "from torch import Tensor\n",
    "from torch.autograd import Variable\n",
    "from tensorflow.keras.datasets import fashion_mnist"
   ]
  },
  {
   "cell_type": "markdown",
   "metadata": {},
   "source": [
    "# Load the data "
   ]
  },
  {
   "cell_type": "code",
   "execution_count": 2,
   "metadata": {},
   "outputs": [],
   "source": [
    "(trainxs, trainys), (testxs, testys) = fashion_mnist.load_data()\n",
    "#train/validation/test split\n",
    "input_size = testxs.shape[1] ** 2\n",
    "y_train = trainys[:50000]\n",
    "x_train = trainxs[:50000]\n",
    "y_val = trainys[50000:]\n",
    "x_val = trainxs[50000:]\n",
    "x_test = testxs\n",
    "y_test = testys"
   ]
  },
  {
   "cell_type": "markdown",
   "metadata": {},
   "source": [
    "# Define the noise function"
   ]
  },
  {
   "cell_type": "code",
   "execution_count": 6,
   "metadata": {},
   "outputs": [],
   "source": [
    "# define a noise function that removes one or two quadrants of the image\n",
    "c = [0,1]\n",
    "def add_noise(x):\n",
    "    for k in c:\n",
    "        xoffset = np.random.choice([0,14])\n",
    "        yoffset = np.random.choice([0,14])\n",
    "        for i in range(xoffset, xoffset+14):\n",
    "            for j in range(yoffset, yoffset+14):\n",
    "                x[i, j] = 0\n",
    "    return x"
   ]
  },
  {
   "cell_type": "markdown",
   "metadata": {},
   "source": [
    "# Create dataloaders\n",
    "\n",
    "In this step, we create clean DataLoaders for the train, validation and test sets, add noise and then create\n",
    "new noisy DataLoaders"
   ]
  },
  {
   "cell_type": "code",
   "execution_count": 8,
   "metadata": {},
   "outputs": [
    {
     "name": "stderr",
     "output_type": "stream",
     "text": [
      "<ipython-input-8-f514b0d5624f>:4: UserWarning: The given NumPy array is not writeable, and PyTorch does not support non-writeable tensors. This means you can write to the underlying (supposedly non-writeable) NumPy array using the tensor. You may want to copy the array to protect its data or make it writeable before converting it to a tensor. This type of warning will be suppressed for the rest of this program. (Triggered internally at  ../torch/csrc/utils/tensor_numpy.cpp:141.)\n",
      "  x_train_tensor = torch.from_numpy(x_train)\n"
     ]
    },
    {
     "data": {
      "application/vnd.jupyter.widget-view+json": {
       "model_id": "63f09e3d12654750b5f4bc53b1eaff89",
       "version_major": 2,
       "version_minor": 0
      },
      "text/plain": [
       "HBox(children=(FloatProgress(value=0.0, max=50000.0), HTML(value='')))"
      ]
     },
     "metadata": {},
     "output_type": "display_data"
    },
    {
     "name": "stdout",
     "output_type": "stream",
     "text": [
      "\n"
     ]
    },
    {
     "data": {
      "application/vnd.jupyter.widget-view+json": {
       "model_id": "67346169d1f9471ead367bdcfc3ef19c",
       "version_major": 2,
       "version_minor": 0
      },
      "text/plain": [
       "HBox(children=(FloatProgress(value=0.0, max=10000.0), HTML(value='')))"
      ]
     },
     "metadata": {},
     "output_type": "display_data"
    },
    {
     "name": "stdout",
     "output_type": "stream",
     "text": [
      "\n"
     ]
    },
    {
     "data": {
      "application/vnd.jupyter.widget-view+json": {
       "model_id": "ea0bdad1e96f41c0a1d98872ba7f2091",
       "version_major": 2,
       "version_minor": 0
      },
      "text/plain": [
       "HBox(children=(FloatProgress(value=0.0, max=10000.0), HTML(value='')))"
      ]
     },
     "metadata": {},
     "output_type": "display_data"
    },
    {
     "name": "stdout",
     "output_type": "stream",
     "text": [
      "\n"
     ]
    }
   ],
   "source": [
    "#TRAIN SET :\n",
    "x_clean_train = np.zeros((len(x_train),28,28))\n",
    "x_noise_train = np.zeros((len(x_train),28,28))\n",
    "x_train_tensor = torch.from_numpy(x_train)\n",
    "y_train_tensor = torch.from_numpy(y_train)\n",
    "train_dataset = TensorDataset( x_train_tensor)\n",
    "train_loader = torch.utils.data.DataLoader(train_dataset)\n",
    "#add noise\n",
    "i = 0\n",
    "for data in tqdm(iter(train_loader)):\n",
    "    x = data[0]\n",
    "    x_clean_train[i] = x.numpy()\n",
    "    x_noise = torch.reshape(add_noise(x[0]), (28,28))\n",
    "    x_noise_train[i] = x_noise.numpy()\n",
    "    i +=1\n",
    "train_data = TensorDataset(torch.Tensor(x_clean_train), torch.Tensor(x_noise_train))\n",
    "train_load = torch.utils.data.DataLoader(train_data, batch_size = 64, shuffle=True, num_workers = 4)\n",
    "\n",
    "\n",
    "#VALIDATION SET :\n",
    "x_clean_val = np.zeros((len(x_val),28,28))\n",
    "x_noise_val = np.zeros((len(x_val),28,28))\n",
    "x_val_tensor = torch.from_numpy(x_val)\n",
    "y_val_tensor = torch.from_numpy(y_val)\n",
    "val_dataset = TensorDataset( x_val_tensor)\n",
    "val_loader = torch.utils.data.DataLoader(val_dataset)\n",
    "#add noise\n",
    "i = 0\n",
    "for data in tqdm(iter(val_loader)):\n",
    "    x = data[0]\n",
    "    x_clean_val[i] = x.numpy()\n",
    "    x_noise = torch.reshape(add_noise(x[0]), (28,28))\n",
    "    x_noise_val[i] = x_noise.numpy()\n",
    "    i +=1\n",
    "val_data = TensorDataset(torch.Tensor(x_clean_val), torch.Tensor(x_noise_val))\n",
    "val_load = torch.utils.data.DataLoader(val_data, batch_size = 64, shuffle=True, num_workers = 4)\n",
    "\n",
    "\n",
    "#TEST SET :\n",
    "x_clean_test = np.zeros((len(x_test),28,28))\n",
    "x_noise_test = np.zeros((len(x_test),28,28))\n",
    "10\n",
    "x_test_tensor = torch.from_numpy(x_test)\n",
    "y_test_tensor = torch.from_numpy(y_test)\n",
    "test_dataset = TensorDataset( x_test_tensor)\n",
    "test_loader = torch.utils.data.DataLoader(test_dataset)\n",
    "#add noise\n",
    "i = 0\n",
    "for data in tqdm(iter(test_loader)):\n",
    "    x = data[0]\n",
    "    x_clean_test[i] = x.numpy()\n",
    "    x_noise = torch.reshape(add_noise(x[0]), (28,28))\n",
    "    x_noise_test[i] = x_noise.numpy()\n",
    "    i +=1\n",
    "test_data = TensorDataset(torch.Tensor(x_clean_test), torch.Tensor(x_noise_test))\n",
    "test_load = torch.utils.data.DataLoader(test_data, batch_size = 64, shuffle=True, num_workers = 4)"
   ]
  },
  {
   "cell_type": "markdown",
   "metadata": {},
   "source": [
    "# Implement denosing autoencoder with MSE loss\n",
    "\n",
    "The auto-encoder is a specific type of neural network with a symmetric architecture of hidden layers. It\n",
    "consists of 3 components: encoder, code and decoder. The encoder compresses the input and produces the\n",
    "code and the decoder reconstructs the input."
   ]
  },
  {
   "cell_type": "code",
   "execution_count": 10,
   "metadata": {},
   "outputs": [],
   "source": [
    "class AutoEncoder(nn.Module):\n",
    "    def __init__(self):\n",
    "        super(AutoEncoder,self).__init__()\n",
    "        #step 1 : Encoder\n",
    "        self.enc1 = nn.Linear(in_features = 28*28, out_features = 256)\n",
    "        self.enc2 = nn.Linear(in_features=256, out_features=128)\n",
    "        self.enc3 = nn.Linear(in_features=128, out_features=64)\n",
    "        self.enc4 = nn.Linear(in_features= 64, out_features=32)\n",
    "        self.enc5 = nn.Linear(in_features=32, out_features=16)\n",
    "        #step 2 : Decoder\n",
    "        self.dec1 = nn.Linear(in_features=16, out_features=32)\n",
    "        self.dec2 = nn.Linear(in_features=32, out_features=64)\n",
    "        self.dec3 = nn.Linear(in_features=64, out_features=128)\n",
    "        self.dec4 = nn.Linear(in_features=128, out_features=256)\n",
    "        self.dec5 = nn.Linear(in_features=256, out_features=28*28)\n",
    "    \n",
    "    def forward(self,x):\n",
    "        x = F.relu(self.enc1(x))\n",
    "        x = F.relu(self.enc2(x))\n",
    "        x = F.relu(self.enc3(x))\n",
    "        x = F.relu(self.enc4(x))\n",
    "        x = F.relu(self.enc5(x))\n",
    "        x = F.relu(self.dec1(x))\n",
    "        x = F.relu(self.dec2(x))\n",
    "        x = F.relu(self.dec3(x))\n",
    "        x = F.relu(self.dec4(x))\n",
    "        x = F.sigmoid(self.dec5(x)) #last layer of decoder part uses sigmoid activation function\n",
    "        return x"
   ]
  },
  {
   "cell_type": "markdown",
   "metadata": {},
   "source": [
    "# Train the model to convergence"
   ]
  },
  {
   "cell_type": "code",
   "execution_count": 11,
   "metadata": {},
   "outputs": [
    {
     "data": {
      "application/vnd.jupyter.widget-view+json": {
       "model_id": "017b4dcd78fd42a989af78537202709b",
       "version_major": 2,
       "version_minor": 0
      },
      "text/plain": [
       "HBox(children=(FloatProgress(value=0.0, max=150.0), HTML(value='')))"
      ]
     },
     "metadata": {},
     "output_type": "display_data"
    },
    {
     "data": {
      "application/vnd.jupyter.widget-view+json": {
       "model_id": "9d02ece0d5e34e12bed2f88aeb23acd8",
       "version_major": 2,
       "version_minor": 0
      },
      "text/plain": [
       "HBox(children=(FloatProgress(value=0.0, max=782.0), HTML(value='')))"
      ]
     },
     "metadata": {},
     "output_type": "display_data"
    },
    {
     "name": "stderr",
     "output_type": "stream",
     "text": [
      "/opt/anaconda3/lib/python3.8/site-packages/torch/nn/functional.py:1639: UserWarning: nn.functional.sigmoid is deprecated. Use torch.sigmoid instead.\n",
      "  warnings.warn(\"nn.functional.sigmoid is deprecated. Use torch.sigmoid instead.\")\n"
     ]
    },
    {
     "name": "stdout",
     "output_type": "stream",
     "text": [
      "\n",
      "epoch : 1/150, loss = 0.048045\n",
      "loss list : [0.04804488558731878]\n"
     ]
    },
    {
     "data": {
      "application/vnd.jupyter.widget-view+json": {
       "model_id": "e036fd8c37564646842e9b63dddc8a67",
       "version_major": 2,
       "version_minor": 0
      },
      "text/plain": [
       "HBox(children=(FloatProgress(value=0.0, max=782.0), HTML(value='')))"
      ]
     },
     "metadata": {},
     "output_type": "display_data"
    },
    {
     "name": "stdout",
     "output_type": "stream",
     "text": [
      "\n",
      "epoch : 2/150, loss = 0.030687\n",
      "loss list : [0.04804488558731878, 0.030687242127059366]\n"
     ]
    },
    {
     "data": {
      "application/vnd.jupyter.widget-view+json": {
       "model_id": "e3761d015b244b4ba6d1ccf9b95cc4b5",
       "version_major": 2,
       "version_minor": 0
      },
      "text/plain": [
       "HBox(children=(FloatProgress(value=0.0, max=782.0), HTML(value='')))"
      ]
     },
     "metadata": {},
     "output_type": "display_data"
    },
    {
     "name": "stdout",
     "output_type": "stream",
     "text": [
      "\n",
      "epoch : 3/150, loss = 0.028326\n",
      "loss list : [0.04804488558731878, 0.030687242127059366, 0.028325845446923504]\n"
     ]
    },
    {
     "data": {
      "application/vnd.jupyter.widget-view+json": {
       "model_id": "7c60892d9e634971be65eac5156fc274",
       "version_major": 2,
       "version_minor": 0
      },
      "text/plain": [
       "HBox(children=(FloatProgress(value=0.0, max=782.0), HTML(value='')))"
      ]
     },
     "metadata": {},
     "output_type": "display_data"
    },
    {
     "name": "stdout",
     "output_type": "stream",
     "text": [
      "\n",
      "epoch : 4/150, loss = 0.027207\n",
      "loss list : [0.04804488558731878, 0.030687242127059366, 0.028325845446923504, 0.02720706879883014]\n"
     ]
    },
    {
     "data": {
      "application/vnd.jupyter.widget-view+json": {
       "model_id": "c1932f0eb12248c19cdd751760f8e55f",
       "version_major": 2,
       "version_minor": 0
      },
      "text/plain": [
       "HBox(children=(FloatProgress(value=0.0, max=782.0), HTML(value='')))"
      ]
     },
     "metadata": {},
     "output_type": "display_data"
    },
    {
     "name": "stdout",
     "output_type": "stream",
     "text": [
      "\n",
      "epoch : 5/150, loss = 0.026197\n",
      "loss list : [0.04804488558731878, 0.030687242127059366, 0.028325845446923504, 0.02720706879883014, 0.026197104626680578]\n"
     ]
    },
    {
     "data": {
      "application/vnd.jupyter.widget-view+json": {
       "model_id": "eefc1aa594be4f32b0ce8b3b5c623206",
       "version_major": 2,
       "version_minor": 0
      },
      "text/plain": [
       "HBox(children=(FloatProgress(value=0.0, max=782.0), HTML(value='')))"
      ]
     },
     "metadata": {},
     "output_type": "display_data"
    },
    {
     "name": "stdout",
     "output_type": "stream",
     "text": [
      "\n",
      "epoch : 6/150, loss = 0.025064\n",
      "loss list : [0.04804488558731878, 0.030687242127059366, 0.028325845446923504, 0.02720706879883014, 0.026197104626680578, 0.02506364527089364]\n"
     ]
    },
    {
     "data": {
      "application/vnd.jupyter.widget-view+json": {
       "model_id": "a3f246e3f195479c872433ddd8d4602d",
       "version_major": 2,
       "version_minor": 0
      },
      "text/plain": [
       "HBox(children=(FloatProgress(value=0.0, max=782.0), HTML(value='')))"
      ]
     },
     "metadata": {},
     "output_type": "display_data"
    },
    {
     "name": "stdout",
     "output_type": "stream",
     "text": [
      "\n",
      "epoch : 7/150, loss = 0.024190\n",
      "loss list : [0.04804488558731878, 0.030687242127059366, 0.028325845446923504, 0.02720706879883014, 0.026197104626680578, 0.02506364527089364, 0.02418971135069037]\n"
     ]
    },
    {
     "data": {
      "application/vnd.jupyter.widget-view+json": {
       "model_id": "5c3b516e410c4429b84b414205faaf20",
       "version_major": 2,
       "version_minor": 0
      },
      "text/plain": [
       "HBox(children=(FloatProgress(value=0.0, max=782.0), HTML(value='')))"
      ]
     },
     "metadata": {},
     "output_type": "display_data"
    },
    {
     "name": "stdout",
     "output_type": "stream",
     "text": [
      "\n",
      "epoch : 8/150, loss = 0.023624\n",
      "loss list : [0.04804488558731878, 0.030687242127059366, 0.028325845446923504, 0.02720706879883014, 0.026197104626680578, 0.02506364527089364, 0.02418971135069037, 0.023623952858835992]\n"
     ]
    },
    {
     "data": {
      "application/vnd.jupyter.widget-view+json": {
       "model_id": "6fec0b43fd344575809f6c6909f641b6",
       "version_major": 2,
       "version_minor": 0
      },
      "text/plain": [
       "HBox(children=(FloatProgress(value=0.0, max=782.0), HTML(value='')))"
      ]
     },
     "metadata": {},
     "output_type": "display_data"
    },
    {
     "name": "stdout",
     "output_type": "stream",
     "text": [
      "\n",
      "epoch : 9/150, loss = 0.023153\n",
      "loss list : [0.04804488558731878, 0.030687242127059366, 0.028325845446923504, 0.02720706879883014, 0.026197104626680578, 0.02506364527089364, 0.02418971135069037, 0.023623952858835992, 0.02315334045349637]\n"
     ]
    },
    {
     "data": {
      "application/vnd.jupyter.widget-view+json": {
       "model_id": "ef40cbf4dbff41dda943c4edca012fce",
       "version_major": 2,
       "version_minor": 0
      },
      "text/plain": [
       "HBox(children=(FloatProgress(value=0.0, max=782.0), HTML(value='')))"
      ]
     },
     "metadata": {},
     "output_type": "display_data"
    },
    {
     "name": "stdout",
     "output_type": "stream",
     "text": [
      "\n",
      "epoch : 10/150, loss = 0.022693\n",
      "loss list : [0.04804488558731878, 0.030687242127059366, 0.028325845446923504, 0.02720706879883014, 0.026197104626680578, 0.02506364527089364, 0.02418971135069037, 0.023623952858835992, 0.02315334045349637, 0.022692977669922745]\n"
     ]
    },
    {
     "data": {
      "application/vnd.jupyter.widget-view+json": {
       "model_id": "692633a2dee14ad09d51d7ed843460cc",
       "version_major": 2,
       "version_minor": 0
      },
      "text/plain": [
       "HBox(children=(FloatProgress(value=0.0, max=782.0), HTML(value='')))"
      ]
     },
     "metadata": {},
     "output_type": "display_data"
    },
    {
     "name": "stdout",
     "output_type": "stream",
     "text": [
      "\n",
      "epoch : 11/150, loss = 0.022341\n",
      "loss list : [0.04804488558731878, 0.030687242127059366, 0.028325845446923504, 0.02720706879883014, 0.026197104626680578, 0.02506364527089364, 0.02418971135069037, 0.023623952858835992, 0.02315334045349637, 0.022692977669922745, 0.0223407316309831]\n"
     ]
    },
    {
     "data": {
      "application/vnd.jupyter.widget-view+json": {
       "model_id": "f774a27a9b904b3887f874d0a1c75cff",
       "version_major": 2,
       "version_minor": 0
      },
      "text/plain": [
       "HBox(children=(FloatProgress(value=0.0, max=782.0), HTML(value='')))"
      ]
     },
     "metadata": {},
     "output_type": "display_data"
    },
    {
     "name": "stdout",
     "output_type": "stream",
     "text": [
      "\n",
      "epoch : 12/150, loss = 0.021954\n",
      "loss list : [0.04804488558731878, 0.030687242127059366, 0.028325845446923504, 0.02720706879883014, 0.026197104626680578, 0.02506364527089364, 0.02418971135069037, 0.023623952858835992, 0.02315334045349637, 0.022692977669922745, 0.0223407316309831, 0.021953678999543952]\n"
     ]
    },
    {
     "data": {
      "application/vnd.jupyter.widget-view+json": {
       "model_id": "d8fcfd9cb8c744fabe7e4219193b517c",
       "version_major": 2,
       "version_minor": 0
      },
      "text/plain": [
       "HBox(children=(FloatProgress(value=0.0, max=782.0), HTML(value='')))"
      ]
     },
     "metadata": {},
     "output_type": "display_data"
    },
    {
     "name": "stdout",
     "output_type": "stream",
     "text": [
      "\n",
      "epoch : 13/150, loss = 0.021653\n",
      "loss list : [0.04804488558731878, 0.030687242127059366, 0.028325845446923504, 0.02720706879883014, 0.026197104626680578, 0.02506364527089364, 0.02418971135069037, 0.023623952858835992, 0.02315334045349637, 0.022692977669922745, 0.0223407316309831, 0.021953678999543952, 0.02165310765328386]\n"
     ]
    },
    {
     "data": {
      "application/vnd.jupyter.widget-view+json": {
       "model_id": "e2540e0bec15444aaa66f1feb1e8504b",
       "version_major": 2,
       "version_minor": 0
      },
      "text/plain": [
       "HBox(children=(FloatProgress(value=0.0, max=782.0), HTML(value='')))"
      ]
     },
     "metadata": {},
     "output_type": "display_data"
    },
    {
     "name": "stdout",
     "output_type": "stream",
     "text": [
      "\n",
      "epoch : 14/150, loss = 0.021416\n",
      "loss list : [0.04804488558731878, 0.030687242127059366, 0.028325845446923504, 0.02720706879883014, 0.026197104626680578, 0.02506364527089364, 0.02418971135069037, 0.023623952858835992, 0.02315334045349637, 0.022692977669922745, 0.0223407316309831, 0.021953678999543952, 0.02165310765328386, 0.021416172623405675]\n"
     ]
    },
    {
     "data": {
      "application/vnd.jupyter.widget-view+json": {
       "model_id": "9689e46f2c2b45aa8d1da89b985dfb14",
       "version_major": 2,
       "version_minor": 0
      },
      "text/plain": [
       "HBox(children=(FloatProgress(value=0.0, max=782.0), HTML(value='')))"
      ]
     },
     "metadata": {},
     "output_type": "display_data"
    },
    {
     "name": "stdout",
     "output_type": "stream",
     "text": [
      "\n",
      "epoch : 15/150, loss = 0.021157\n",
      "loss list : [0.04804488558731878, 0.030687242127059366, 0.028325845446923504, 0.02720706879883014, 0.026197104626680578, 0.02506364527089364, 0.02418971135069037, 0.023623952858835992, 0.02315334045349637, 0.022692977669922745, 0.0223407316309831, 0.021953678999543952, 0.02165310765328386, 0.021416172623405675, 0.02115680442532272]\n"
     ]
    },
    {
     "data": {
      "application/vnd.jupyter.widget-view+json": {
       "model_id": "96e880e146654d08b6a40ab43dab3636",
       "version_major": 2,
       "version_minor": 0
      },
      "text/plain": [
       "HBox(children=(FloatProgress(value=0.0, max=782.0), HTML(value='')))"
      ]
     },
     "metadata": {},
     "output_type": "display_data"
    },
    {
     "name": "stdout",
     "output_type": "stream",
     "text": [
      "\n",
      "epoch : 16/150, loss = 0.021002\n",
      "loss list : [0.04804488558731878, 0.030687242127059366, 0.028325845446923504, 0.02720706879883014, 0.026197104626680578, 0.02506364527089364, 0.02418971135069037, 0.023623952858835992, 0.02315334045349637, 0.022692977669922745, 0.0223407316309831, 0.021953678999543952, 0.02165310765328386, 0.021416172623405675, 0.02115680442532272, 0.02100152473496583]\n"
     ]
    },
    {
     "data": {
      "application/vnd.jupyter.widget-view+json": {
       "model_id": "9a165f31739c434b9edd1b06b24b6a0a",
       "version_major": 2,
       "version_minor": 0
      },
      "text/plain": [
       "HBox(children=(FloatProgress(value=0.0, max=782.0), HTML(value='')))"
      ]
     },
     "metadata": {},
     "output_type": "display_data"
    },
    {
     "name": "stdout",
     "output_type": "stream",
     "text": [
      "\n",
      "epoch : 17/150, loss = 0.020844\n",
      "loss list : [0.04804488558731878, 0.030687242127059366, 0.028325845446923504, 0.02720706879883014, 0.026197104626680578, 0.02506364527089364, 0.02418971135069037, 0.023623952858835992, 0.02315334045349637, 0.022692977669922745, 0.0223407316309831, 0.021953678999543952, 0.02165310765328386, 0.021416172623405675, 0.02115680442532272, 0.02100152473496583, 0.02084396844801238]\n"
     ]
    },
    {
     "data": {
      "application/vnd.jupyter.widget-view+json": {
       "model_id": "8b7977e56f4b454fbff6c295b4162dc7",
       "version_major": 2,
       "version_minor": 0
      },
      "text/plain": [
       "HBox(children=(FloatProgress(value=0.0, max=782.0), HTML(value='')))"
      ]
     },
     "metadata": {},
     "output_type": "display_data"
    },
    {
     "name": "stdout",
     "output_type": "stream",
     "text": [
      "\n",
      "epoch : 18/150, loss = 0.020637\n",
      "loss list : [0.04804488558731878, 0.030687242127059366, 0.028325845446923504, 0.02720706879883014, 0.026197104626680578, 0.02506364527089364, 0.02418971135069037, 0.023623952858835992, 0.02315334045349637, 0.022692977669922745, 0.0223407316309831, 0.021953678999543952, 0.02165310765328386, 0.021416172623405675, 0.02115680442532272, 0.02100152473496583, 0.02084396844801238, 0.020636780042191754]\n"
     ]
    },
    {
     "data": {
      "application/vnd.jupyter.widget-view+json": {
       "model_id": "dfce22b9235849528a04b11ef5a8e659",
       "version_major": 2,
       "version_minor": 0
      },
      "text/plain": [
       "HBox(children=(FloatProgress(value=0.0, max=782.0), HTML(value='')))"
      ]
     },
     "metadata": {},
     "output_type": "display_data"
    },
    {
     "name": "stdout",
     "output_type": "stream",
     "text": [
      "\n",
      "epoch : 19/150, loss = 0.020511\n",
      "loss list : [0.04804488558731878, 0.030687242127059366, 0.028325845446923504, 0.02720706879883014, 0.026197104626680578, 0.02506364527089364, 0.02418971135069037, 0.023623952858835992, 0.02315334045349637, 0.022692977669922745, 0.0223407316309831, 0.021953678999543952, 0.02165310765328386, 0.021416172623405675, 0.02115680442532272, 0.02100152473496583, 0.02084396844801238, 0.020636780042191754, 0.02051124759995]\n"
     ]
    },
    {
     "data": {
      "application/vnd.jupyter.widget-view+json": {
       "model_id": "1ab13087510d45e99f5f7557dabf8bc0",
       "version_major": 2,
       "version_minor": 0
      },
      "text/plain": [
       "HBox(children=(FloatProgress(value=0.0, max=782.0), HTML(value='')))"
      ]
     },
     "metadata": {},
     "output_type": "display_data"
    },
    {
     "name": "stdout",
     "output_type": "stream",
     "text": [
      "\n",
      "epoch : 20/150, loss = 0.020337\n",
      "loss list : [0.04804488558731878, 0.030687242127059366, 0.028325845446923504, 0.02720706879883014, 0.026197104626680578, 0.02506364527089364, 0.02418971135069037, 0.023623952858835992, 0.02315334045349637, 0.022692977669922745, 0.0223407316309831, 0.021953678999543952, 0.02165310765328386, 0.021416172623405675, 0.02115680442532272, 0.02100152473496583, 0.02084396844801238, 0.020636780042191754, 0.02051124759995, 0.020336717957883235]\n"
     ]
    },
    {
     "data": {
      "application/vnd.jupyter.widget-view+json": {
       "model_id": "acd427224d9044088f6438b07708fbcb",
       "version_major": 2,
       "version_minor": 0
      },
      "text/plain": [
       "HBox(children=(FloatProgress(value=0.0, max=782.0), HTML(value='')))"
      ]
     },
     "metadata": {},
     "output_type": "display_data"
    },
    {
     "name": "stdout",
     "output_type": "stream",
     "text": [
      "\n",
      "epoch : 21/150, loss = 0.020222\n",
      "loss list : [0.04804488558731878, 0.030687242127059366, 0.028325845446923504, 0.02720706879883014, 0.026197104626680578, 0.02506364527089364, 0.02418971135069037, 0.023623952858835992, 0.02315334045349637, 0.022692977669922745, 0.0223407316309831, 0.021953678999543952, 0.02165310765328386, 0.021416172623405675, 0.02115680442532272, 0.02100152473496583, 0.02084396844801238, 0.020636780042191754, 0.02051124759995, 0.020336717957883235, 0.02022155877941138]\n"
     ]
    },
    {
     "data": {
      "application/vnd.jupyter.widget-view+json": {
       "model_id": "b8f9dfdbfff54206a7b6e115ccc4fa77",
       "version_major": 2,
       "version_minor": 0
      },
      "text/plain": [
       "HBox(children=(FloatProgress(value=0.0, max=782.0), HTML(value='')))"
      ]
     },
     "metadata": {},
     "output_type": "display_data"
    },
    {
     "name": "stdout",
     "output_type": "stream",
     "text": [
      "\n",
      "epoch : 22/150, loss = 0.020074\n",
      "loss list : [0.04804488558731878, 0.030687242127059366, 0.028325845446923504, 0.02720706879883014, 0.026197104626680578, 0.02506364527089364, 0.02418971135069037, 0.023623952858835992, 0.02315334045349637, 0.022692977669922745, 0.0223407316309831, 0.021953678999543952, 0.02165310765328386, 0.021416172623405675, 0.02115680442532272, 0.02100152473496583, 0.02084396844801238, 0.020636780042191754, 0.02051124759995, 0.020336717957883235, 0.02022155877941138, 0.020074059445973094]\n"
     ]
    },
    {
     "data": {
      "application/vnd.jupyter.widget-view+json": {
       "model_id": "d7dbb7144d70425d915c791bff069969",
       "version_major": 2,
       "version_minor": 0
      },
      "text/plain": [
       "HBox(children=(FloatProgress(value=0.0, max=782.0), HTML(value='')))"
      ]
     },
     "metadata": {},
     "output_type": "display_data"
    },
    {
     "name": "stdout",
     "output_type": "stream",
     "text": [
      "\n",
      "epoch : 23/150, loss = 0.019989\n",
      "loss list : [0.04804488558731878, 0.030687242127059366, 0.028325845446923504, 0.02720706879883014, 0.026197104626680578, 0.02506364527089364, 0.02418971135069037, 0.023623952858835992, 0.02315334045349637, 0.022692977669922745, 0.0223407316309831, 0.021953678999543952, 0.02165310765328386, 0.021416172623405675, 0.02115680442532272, 0.02100152473496583, 0.02084396844801238, 0.020636780042191754, 0.02051124759995, 0.020336717957883235, 0.02022155877941138, 0.020074059445973094, 0.019988947690886154]\n"
     ]
    },
    {
     "data": {
      "application/vnd.jupyter.widget-view+json": {
       "model_id": "52acbae1605e4aa6a6320f6376b48542",
       "version_major": 2,
       "version_minor": 0
      },
      "text/plain": [
       "HBox(children=(FloatProgress(value=0.0, max=782.0), HTML(value='')))"
      ]
     },
     "metadata": {},
     "output_type": "display_data"
    },
    {
     "name": "stdout",
     "output_type": "stream",
     "text": [
      "\n",
      "epoch : 24/150, loss = 0.019879\n",
      "loss list : [0.04804488558731878, 0.030687242127059366, 0.028325845446923504, 0.02720706879883014, 0.026197104626680578, 0.02506364527089364, 0.02418971135069037, 0.023623952858835992, 0.02315334045349637, 0.022692977669922745, 0.0223407316309831, 0.021953678999543952, 0.02165310765328386, 0.021416172623405675, 0.02115680442532272, 0.02100152473496583, 0.02084396844801238, 0.020636780042191754, 0.02051124759995, 0.020336717957883235, 0.02022155877941138, 0.020074059445973094, 0.019988947690886154, 0.019879242368375936]\n"
     ]
    },
    {
     "data": {
      "application/vnd.jupyter.widget-view+json": {
       "model_id": "d55279dd145543daa9e49fe7fb40c9fa",
       "version_major": 2,
       "version_minor": 0
      },
      "text/plain": [
       "HBox(children=(FloatProgress(value=0.0, max=782.0), HTML(value='')))"
      ]
     },
     "metadata": {},
     "output_type": "display_data"
    },
    {
     "name": "stdout",
     "output_type": "stream",
     "text": [
      "\n",
      "epoch : 25/150, loss = 0.019749\n",
      "loss list : [0.04804488558731878, 0.030687242127059366, 0.028325845446923504, 0.02720706879883014, 0.026197104626680578, 0.02506364527089364, 0.02418971135069037, 0.023623952858835992, 0.02315334045349637, 0.022692977669922745, 0.0223407316309831, 0.021953678999543952, 0.02165310765328386, 0.021416172623405675, 0.02115680442532272, 0.02100152473496583, 0.02084396844801238, 0.020636780042191754, 0.02051124759995, 0.020336717957883235, 0.02022155877941138, 0.020074059445973094, 0.019988947690886154, 0.019879242368375936, 0.019749382172551608]\n"
     ]
    },
    {
     "data": {
      "application/vnd.jupyter.widget-view+json": {
       "model_id": "8a02f30607b74ec08adffd79135a6216",
       "version_major": 2,
       "version_minor": 0
      },
      "text/plain": [
       "HBox(children=(FloatProgress(value=0.0, max=782.0), HTML(value='')))"
      ]
     },
     "metadata": {},
     "output_type": "display_data"
    },
    {
     "name": "stdout",
     "output_type": "stream",
     "text": [
      "\n",
      "epoch : 26/150, loss = 0.019671\n",
      "loss list : [0.04804488558731878, 0.030687242127059366, 0.028325845446923504, 0.02720706879883014, 0.026197104626680578, 0.02506364527089364, 0.02418971135069037, 0.023623952858835992, 0.02315334045349637, 0.022692977669922745, 0.0223407316309831, 0.021953678999543952, 0.02165310765328386, 0.021416172623405675, 0.02115680442532272, 0.02100152473496583, 0.02084396844801238, 0.020636780042191754, 0.02051124759995, 0.020336717957883235, 0.02022155877941138, 0.020074059445973094, 0.019988947690886154, 0.019879242368375936, 0.019749382172551608, 0.019670612006055195]\n"
     ]
    },
    {
     "data": {
      "application/vnd.jupyter.widget-view+json": {
       "model_id": "e27abbe4eba54045af29ec1eefa03be6",
       "version_major": 2,
       "version_minor": 0
      },
      "text/plain": [
       "HBox(children=(FloatProgress(value=0.0, max=782.0), HTML(value='')))"
      ]
     },
     "metadata": {},
     "output_type": "display_data"
    },
    {
     "name": "stdout",
     "output_type": "stream",
     "text": [
      "\n",
      "epoch : 27/150, loss = 0.019545\n",
      "loss list : [0.04804488558731878, 0.030687242127059366, 0.028325845446923504, 0.02720706879883014, 0.026197104626680578, 0.02506364527089364, 0.02418971135069037, 0.023623952858835992, 0.02315334045349637, 0.022692977669922745, 0.0223407316309831, 0.021953678999543952, 0.02165310765328386, 0.021416172623405675, 0.02115680442532272, 0.02100152473496583, 0.02084396844801238, 0.020636780042191754, 0.02051124759995, 0.020336717957883235, 0.02022155877941138, 0.020074059445973094, 0.019988947690886154, 0.019879242368375936, 0.019749382172551608, 0.019670612006055195, 0.019544808889555808]\n"
     ]
    },
    {
     "data": {
      "application/vnd.jupyter.widget-view+json": {
       "model_id": "0781553d6e84489fb616151745d9ce94",
       "version_major": 2,
       "version_minor": 0
      },
      "text/plain": [
       "HBox(children=(FloatProgress(value=0.0, max=782.0), HTML(value='')))"
      ]
     },
     "metadata": {},
     "output_type": "display_data"
    },
    {
     "name": "stdout",
     "output_type": "stream",
     "text": [
      "\n",
      "epoch : 28/150, loss = 0.019445\n",
      "loss list : [0.04804488558731878, 0.030687242127059366, 0.028325845446923504, 0.02720706879883014, 0.026197104626680578, 0.02506364527089364, 0.02418971135069037, 0.023623952858835992, 0.02315334045349637, 0.022692977669922745, 0.0223407316309831, 0.021953678999543952, 0.02165310765328386, 0.021416172623405675, 0.02115680442532272, 0.02100152473496583, 0.02084396844801238, 0.020636780042191754, 0.02051124759995, 0.020336717957883235, 0.02022155877941138, 0.020074059445973094, 0.019988947690886154, 0.019879242368375936, 0.019749382172551608, 0.019670612006055195, 0.019544808889555808, 0.019445481379051954]\n"
     ]
    },
    {
     "data": {
      "application/vnd.jupyter.widget-view+json": {
       "model_id": "a6800827ac9b426183186acc9aac1d96",
       "version_major": 2,
       "version_minor": 0
      },
      "text/plain": [
       "HBox(children=(FloatProgress(value=0.0, max=782.0), HTML(value='')))"
      ]
     },
     "metadata": {},
     "output_type": "display_data"
    },
    {
     "name": "stdout",
     "output_type": "stream",
     "text": [
      "\n",
      "epoch : 29/150, loss = 0.019378\n",
      "loss list : [0.04804488558731878, 0.030687242127059366, 0.028325845446923504, 0.02720706879883014, 0.026197104626680578, 0.02506364527089364, 0.02418971135069037, 0.023623952858835992, 0.02315334045349637, 0.022692977669922745, 0.0223407316309831, 0.021953678999543952, 0.02165310765328386, 0.021416172623405675, 0.02115680442532272, 0.02100152473496583, 0.02084396844801238, 0.020636780042191754, 0.02051124759995, 0.020336717957883235, 0.02022155877941138, 0.020074059445973094, 0.019988947690886154, 0.019879242368375936, 0.019749382172551608, 0.019670612006055195, 0.019544808889555808, 0.019445481379051954, 0.01937830664903459]\n"
     ]
    },
    {
     "data": {
      "application/vnd.jupyter.widget-view+json": {
       "model_id": "40654db797a1435fad820d43e58970bc",
       "version_major": 2,
       "version_minor": 0
      },
      "text/plain": [
       "HBox(children=(FloatProgress(value=0.0, max=782.0), HTML(value='')))"
      ]
     },
     "metadata": {},
     "output_type": "display_data"
    },
    {
     "name": "stdout",
     "output_type": "stream",
     "text": [
      "\n",
      "epoch : 30/150, loss = 0.019244\n",
      "loss list : [0.04804488558731878, 0.030687242127059366, 0.028325845446923504, 0.02720706879883014, 0.026197104626680578, 0.02506364527089364, 0.02418971135069037, 0.023623952858835992, 0.02315334045349637, 0.022692977669922745, 0.0223407316309831, 0.021953678999543952, 0.02165310765328386, 0.021416172623405675, 0.02115680442532272, 0.02100152473496583, 0.02084396844801238, 0.020636780042191754, 0.02051124759995, 0.020336717957883235, 0.02022155877941138, 0.020074059445973094, 0.019988947690886154, 0.019879242368375936, 0.019749382172551608, 0.019670612006055195, 0.019544808889555808, 0.019445481379051954, 0.01937830664903459, 0.01924366190972383]\n"
     ]
    },
    {
     "data": {
      "application/vnd.jupyter.widget-view+json": {
       "model_id": "92ee35776424409dad97bbdf43a5fd81",
       "version_major": 2,
       "version_minor": 0
      },
      "text/plain": [
       "HBox(children=(FloatProgress(value=0.0, max=782.0), HTML(value='')))"
      ]
     },
     "metadata": {},
     "output_type": "display_data"
    },
    {
     "name": "stdout",
     "output_type": "stream",
     "text": [
      "\n",
      "epoch : 31/150, loss = 0.019150\n",
      "loss list : [0.04804488558731878, 0.030687242127059366, 0.028325845446923504, 0.02720706879883014, 0.026197104626680578, 0.02506364527089364, 0.02418971135069037, 0.023623952858835992, 0.02315334045349637, 0.022692977669922745, 0.0223407316309831, 0.021953678999543952, 0.02165310765328386, 0.021416172623405675, 0.02115680442532272, 0.02100152473496583, 0.02084396844801238, 0.020636780042191754, 0.02051124759995, 0.020336717957883235, 0.02022155877941138, 0.020074059445973094, 0.019988947690886154, 0.019879242368375936, 0.019749382172551608, 0.019670612006055195, 0.019544808889555808, 0.019445481379051954, 0.01937830664903459, 0.01924366190972383, 0.019150482391809946]\n"
     ]
    },
    {
     "data": {
      "application/vnd.jupyter.widget-view+json": {
       "model_id": "17095998039f4bd5bb362fc62598507b",
       "version_major": 2,
       "version_minor": 0
      },
      "text/plain": [
       "HBox(children=(FloatProgress(value=0.0, max=782.0), HTML(value='')))"
      ]
     },
     "metadata": {},
     "output_type": "display_data"
    },
    {
     "name": "stdout",
     "output_type": "stream",
     "text": [
      "\n",
      "epoch : 32/150, loss = 0.019032\n",
      "loss list : [0.04804488558731878, 0.030687242127059366, 0.028325845446923504, 0.02720706879883014, 0.026197104626680578, 0.02506364527089364, 0.02418971135069037, 0.023623952858835992, 0.02315334045349637, 0.022692977669922745, 0.0223407316309831, 0.021953678999543952, 0.02165310765328386, 0.021416172623405675, 0.02115680442532272, 0.02100152473496583, 0.02084396844801238, 0.020636780042191754, 0.02051124759995, 0.020336717957883235, 0.02022155877941138, 0.020074059445973094, 0.019988947690886154, 0.019879242368375936, 0.019749382172551608, 0.019670612006055195, 0.019544808889555808, 0.019445481379051954, 0.01937830664903459, 0.01924366190972383, 0.019150482391809946, 0.019032190895646506]\n"
     ]
    },
    {
     "data": {
      "application/vnd.jupyter.widget-view+json": {
       "model_id": "a2e9aaad257a4d52a21564abf267edf9",
       "version_major": 2,
       "version_minor": 0
      },
      "text/plain": [
       "HBox(children=(FloatProgress(value=0.0, max=782.0), HTML(value='')))"
      ]
     },
     "metadata": {},
     "output_type": "display_data"
    },
    {
     "name": "stdout",
     "output_type": "stream",
     "text": [
      "\n",
      "epoch : 33/150, loss = 0.018880\n",
      "loss list : [0.04804488558731878, 0.030687242127059366, 0.028325845446923504, 0.02720706879883014, 0.026197104626680578, 0.02506364527089364, 0.02418971135069037, 0.023623952858835992, 0.02315334045349637, 0.022692977669922745, 0.0223407316309831, 0.021953678999543952, 0.02165310765328386, 0.021416172623405675, 0.02115680442532272, 0.02100152473496583, 0.02084396844801238, 0.020636780042191754, 0.02051124759995, 0.020336717957883235, 0.02022155877941138, 0.020074059445973094, 0.019988947690886154, 0.019879242368375936, 0.019749382172551608, 0.019670612006055195, 0.019544808889555808, 0.019445481379051954, 0.01937830664903459, 0.01924366190972383, 0.019150482391809946, 0.019032190895646506, 0.01888003138482304]\n"
     ]
    },
    {
     "data": {
      "application/vnd.jupyter.widget-view+json": {
       "model_id": "06a0f80877e04d09b4a4214a3882566e",
       "version_major": 2,
       "version_minor": 0
      },
      "text/plain": [
       "HBox(children=(FloatProgress(value=0.0, max=782.0), HTML(value='')))"
      ]
     },
     "metadata": {},
     "output_type": "display_data"
    },
    {
     "name": "stdout",
     "output_type": "stream",
     "text": [
      "\n",
      "epoch : 34/150, loss = 0.018829\n",
      "loss list : [0.04804488558731878, 0.030687242127059366, 0.028325845446923504, 0.02720706879883014, 0.026197104626680578, 0.02506364527089364, 0.02418971135069037, 0.023623952858835992, 0.02315334045349637, 0.022692977669922745, 0.0223407316309831, 0.021953678999543952, 0.02165310765328386, 0.021416172623405675, 0.02115680442532272, 0.02100152473496583, 0.02084396844801238, 0.020636780042191754, 0.02051124759995, 0.020336717957883235, 0.02022155877941138, 0.020074059445973094, 0.019988947690886154, 0.019879242368375936, 0.019749382172551608, 0.019670612006055195, 0.019544808889555808, 0.019445481379051954, 0.01937830664903459, 0.01924366190972383, 0.019150482391809946, 0.019032190895646506, 0.01888003138482304, 0.018828929815193653]\n"
     ]
    },
    {
     "data": {
      "application/vnd.jupyter.widget-view+json": {
       "model_id": "fc9c5e29a5af4f429e1547ac8d1d2add",
       "version_major": 2,
       "version_minor": 0
      },
      "text/plain": [
       "HBox(children=(FloatProgress(value=0.0, max=782.0), HTML(value='')))"
      ]
     },
     "metadata": {},
     "output_type": "display_data"
    },
    {
     "name": "stdout",
     "output_type": "stream",
     "text": [
      "\n",
      "epoch : 35/150, loss = 0.018656\n",
      "loss list : [0.04804488558731878, 0.030687242127059366, 0.028325845446923504, 0.02720706879883014, 0.026197104626680578, 0.02506364527089364, 0.02418971135069037, 0.023623952858835992, 0.02315334045349637, 0.022692977669922745, 0.0223407316309831, 0.021953678999543952, 0.02165310765328386, 0.021416172623405675, 0.02115680442532272, 0.02100152473496583, 0.02084396844801238, 0.020636780042191754, 0.02051124759995, 0.020336717957883235, 0.02022155877941138, 0.020074059445973094, 0.019988947690886154, 0.019879242368375936, 0.019749382172551608, 0.019670612006055195, 0.019544808889555808, 0.019445481379051954, 0.01937830664903459, 0.01924366190972383, 0.019150482391809946, 0.019032190895646506, 0.01888003138482304, 0.018828929815193653, 0.01865616335254877]\n"
     ]
    },
    {
     "data": {
      "application/vnd.jupyter.widget-view+json": {
       "model_id": "a3ebd384b1f44f1c94377a8b3463d697",
       "version_major": 2,
       "version_minor": 0
      },
      "text/plain": [
       "HBox(children=(FloatProgress(value=0.0, max=782.0), HTML(value='')))"
      ]
     },
     "metadata": {},
     "output_type": "display_data"
    },
    {
     "name": "stdout",
     "output_type": "stream",
     "text": [
      "\n",
      "epoch : 36/150, loss = 0.018619\n",
      "loss list : [0.04804488558731878, 0.030687242127059366, 0.028325845446923504, 0.02720706879883014, 0.026197104626680578, 0.02506364527089364, 0.02418971135069037, 0.023623952858835992, 0.02315334045349637, 0.022692977669922745, 0.0223407316309831, 0.021953678999543952, 0.02165310765328386, 0.021416172623405675, 0.02115680442532272, 0.02100152473496583, 0.02084396844801238, 0.020636780042191754, 0.02051124759995, 0.020336717957883235, 0.02022155877941138, 0.020074059445973094, 0.019988947690886154, 0.019879242368375936, 0.019749382172551608, 0.019670612006055195, 0.019544808889555808, 0.019445481379051954, 0.01937830664903459, 0.01924366190972383, 0.019150482391809946, 0.019032190895646506, 0.01888003138482304, 0.018828929815193653, 0.01865616335254877, 0.018618830723826158]\n"
     ]
    },
    {
     "data": {
      "application/vnd.jupyter.widget-view+json": {
       "model_id": "ad6fb248a5e34ba99b933dd03a6c704c",
       "version_major": 2,
       "version_minor": 0
      },
      "text/plain": [
       "HBox(children=(FloatProgress(value=0.0, max=782.0), HTML(value='')))"
      ]
     },
     "metadata": {},
     "output_type": "display_data"
    },
    {
     "name": "stdout",
     "output_type": "stream",
     "text": [
      "\n",
      "epoch : 37/150, loss = 0.018484\n",
      "loss list : [0.04804488558731878, 0.030687242127059366, 0.028325845446923504, 0.02720706879883014, 0.026197104626680578, 0.02506364527089364, 0.02418971135069037, 0.023623952858835992, 0.02315334045349637, 0.022692977669922745, 0.0223407316309831, 0.021953678999543952, 0.02165310765328386, 0.021416172623405675, 0.02115680442532272, 0.02100152473496583, 0.02084396844801238, 0.020636780042191754, 0.02051124759995, 0.020336717957883235, 0.02022155877941138, 0.020074059445973094, 0.019988947690886154, 0.019879242368375936, 0.019749382172551608, 0.019670612006055195, 0.019544808889555808, 0.019445481379051954, 0.01937830664903459, 0.01924366190972383, 0.019150482391809946, 0.019032190895646506, 0.01888003138482304, 0.018828929815193653, 0.01865616335254877, 0.018618830723826158, 0.01848372513109156]\n"
     ]
    },
    {
     "data": {
      "application/vnd.jupyter.widget-view+json": {
       "model_id": "a816d923725244dcb1077b7c39b99b21",
       "version_major": 2,
       "version_minor": 0
      },
      "text/plain": [
       "HBox(children=(FloatProgress(value=0.0, max=782.0), HTML(value='')))"
      ]
     },
     "metadata": {},
     "output_type": "display_data"
    },
    {
     "name": "stdout",
     "output_type": "stream",
     "text": [
      "\n",
      "epoch : 38/150, loss = 0.018402\n",
      "loss list : [0.04804488558731878, 0.030687242127059366, 0.028325845446923504, 0.02720706879883014, 0.026197104626680578, 0.02506364527089364, 0.02418971135069037, 0.023623952858835992, 0.02315334045349637, 0.022692977669922745, 0.0223407316309831, 0.021953678999543952, 0.02165310765328386, 0.021416172623405675, 0.02115680442532272, 0.02100152473496583, 0.02084396844801238, 0.020636780042191754, 0.02051124759995, 0.020336717957883235, 0.02022155877941138, 0.020074059445973094, 0.019988947690886154, 0.019879242368375936, 0.019749382172551608, 0.019670612006055195, 0.019544808889555808, 0.019445481379051954, 0.01937830664903459, 0.01924366190972383, 0.019150482391809946, 0.019032190895646506, 0.01888003138482304, 0.018828929815193653, 0.01865616335254877, 0.018618830723826158, 0.01848372513109156, 0.01840241544920465]\n"
     ]
    },
    {
     "data": {
      "application/vnd.jupyter.widget-view+json": {
       "model_id": "5d507c81059c41c7bdf81ece847bc22c",
       "version_major": 2,
       "version_minor": 0
      },
      "text/plain": [
       "HBox(children=(FloatProgress(value=0.0, max=782.0), HTML(value='')))"
      ]
     },
     "metadata": {},
     "output_type": "display_data"
    },
    {
     "name": "stdout",
     "output_type": "stream",
     "text": [
      "\n",
      "epoch : 39/150, loss = 0.018325\n",
      "loss list : [0.04804488558731878, 0.030687242127059366, 0.028325845446923504, 0.02720706879883014, 0.026197104626680578, 0.02506364527089364, 0.02418971135069037, 0.023623952858835992, 0.02315334045349637, 0.022692977669922745, 0.0223407316309831, 0.021953678999543952, 0.02165310765328386, 0.021416172623405675, 0.02115680442532272, 0.02100152473496583, 0.02084396844801238, 0.020636780042191754, 0.02051124759995, 0.020336717957883235, 0.02022155877941138, 0.020074059445973094, 0.019988947690886154, 0.019879242368375936, 0.019749382172551608, 0.019670612006055195, 0.019544808889555808, 0.019445481379051954, 0.01937830664903459, 0.01924366190972383, 0.019150482391809946, 0.019032190895646506, 0.01888003138482304, 0.018828929815193653, 0.01865616335254877, 0.018618830723826158, 0.01848372513109156, 0.01840241544920465, 0.01832478072570489]\n"
     ]
    },
    {
     "data": {
      "application/vnd.jupyter.widget-view+json": {
       "model_id": "50564f7592944d49a12338da7dc67025",
       "version_major": 2,
       "version_minor": 0
      },
      "text/plain": [
       "HBox(children=(FloatProgress(value=0.0, max=782.0), HTML(value='')))"
      ]
     },
     "metadata": {},
     "output_type": "display_data"
    },
    {
     "name": "stdout",
     "output_type": "stream",
     "text": [
      "\n",
      "epoch : 40/150, loss = 0.018255\n",
      "loss list : [0.04804488558731878, 0.030687242127059366, 0.028325845446923504, 0.02720706879883014, 0.026197104626680578, 0.02506364527089364, 0.02418971135069037, 0.023623952858835992, 0.02315334045349637, 0.022692977669922745, 0.0223407316309831, 0.021953678999543952, 0.02165310765328386, 0.021416172623405675, 0.02115680442532272, 0.02100152473496583, 0.02084396844801238, 0.020636780042191754, 0.02051124759995, 0.020336717957883235, 0.02022155877941138, 0.020074059445973094, 0.019988947690886154, 0.019879242368375936, 0.019749382172551608, 0.019670612006055195, 0.019544808889555808, 0.019445481379051954, 0.01937830664903459, 0.01924366190972383, 0.019150482391809946, 0.019032190895646506, 0.01888003138482304, 0.018828929815193653, 0.01865616335254877, 0.018618830723826158, 0.01848372513109156, 0.01840241544920465, 0.01832478072570489, 0.018254614250539133]\n"
     ]
    },
    {
     "data": {
      "application/vnd.jupyter.widget-view+json": {
       "model_id": "d635e24811c14175ae5ec70087fdc310",
       "version_major": 2,
       "version_minor": 0
      },
      "text/plain": [
       "HBox(children=(FloatProgress(value=0.0, max=782.0), HTML(value='')))"
      ]
     },
     "metadata": {},
     "output_type": "display_data"
    },
    {
     "name": "stdout",
     "output_type": "stream",
     "text": [
      "\n",
      "epoch : 41/150, loss = 0.018168\n",
      "loss list : [0.04804488558731878, 0.030687242127059366, 0.028325845446923504, 0.02720706879883014, 0.026197104626680578, 0.02506364527089364, 0.02418971135069037, 0.023623952858835992, 0.02315334045349637, 0.022692977669922745, 0.0223407316309831, 0.021953678999543952, 0.02165310765328386, 0.021416172623405675, 0.02115680442532272, 0.02100152473496583, 0.02084396844801238, 0.020636780042191754, 0.02051124759995, 0.020336717957883235, 0.02022155877941138, 0.020074059445973094, 0.019988947690886154, 0.019879242368375936, 0.019749382172551608, 0.019670612006055195, 0.019544808889555808, 0.019445481379051954, 0.01937830664903459, 0.01924366190972383, 0.019150482391809946, 0.019032190895646506, 0.01888003138482304, 0.018828929815193653, 0.01865616335254877, 0.018618830723826158, 0.01848372513109156, 0.01840241544920465, 0.01832478072570489, 0.018254614250539133, 0.018168394033418363]\n"
     ]
    },
    {
     "data": {
      "application/vnd.jupyter.widget-view+json": {
       "model_id": "f655a81434824b53b9572aa0fe1ba9fe",
       "version_major": 2,
       "version_minor": 0
      },
      "text/plain": [
       "HBox(children=(FloatProgress(value=0.0, max=782.0), HTML(value='')))"
      ]
     },
     "metadata": {},
     "output_type": "display_data"
    },
    {
     "name": "stdout",
     "output_type": "stream",
     "text": [
      "\n",
      "epoch : 42/150, loss = 0.018129\n",
      "loss list : [0.04804488558731878, 0.030687242127059366, 0.028325845446923504, 0.02720706879883014, 0.026197104626680578, 0.02506364527089364, 0.02418971135069037, 0.023623952858835992, 0.02315334045349637, 0.022692977669922745, 0.0223407316309831, 0.021953678999543952, 0.02165310765328386, 0.021416172623405675, 0.02115680442532272, 0.02100152473496583, 0.02084396844801238, 0.020636780042191754, 0.02051124759995, 0.020336717957883235, 0.02022155877941138, 0.020074059445973094, 0.019988947690886154, 0.019879242368375936, 0.019749382172551608, 0.019670612006055195, 0.019544808889555808, 0.019445481379051954, 0.01937830664903459, 0.01924366190972383, 0.019150482391809946, 0.019032190895646506, 0.01888003138482304, 0.018828929815193653, 0.01865616335254877, 0.018618830723826158, 0.01848372513109156, 0.01840241544920465, 0.01832478072570489, 0.018254614250539133, 0.018168394033418363, 0.018128619056499904]\n"
     ]
    },
    {
     "data": {
      "application/vnd.jupyter.widget-view+json": {
       "model_id": "cfdfeea7fa814a208c00a83127aea3bb",
       "version_major": 2,
       "version_minor": 0
      },
      "text/plain": [
       "HBox(children=(FloatProgress(value=0.0, max=782.0), HTML(value='')))"
      ]
     },
     "metadata": {},
     "output_type": "display_data"
    },
    {
     "name": "stdout",
     "output_type": "stream",
     "text": [
      "\n",
      "epoch : 43/150, loss = 0.018012\n",
      "loss list : [0.04804488558731878, 0.030687242127059366, 0.028325845446923504, 0.02720706879883014, 0.026197104626680578, 0.02506364527089364, 0.02418971135069037, 0.023623952858835992, 0.02315334045349637, 0.022692977669922745, 0.0223407316309831, 0.021953678999543952, 0.02165310765328386, 0.021416172623405675, 0.02115680442532272, 0.02100152473496583, 0.02084396844801238, 0.020636780042191754, 0.02051124759995, 0.020336717957883235, 0.02022155877941138, 0.020074059445973094, 0.019988947690886154, 0.019879242368375936, 0.019749382172551608, 0.019670612006055195, 0.019544808889555808, 0.019445481379051954, 0.01937830664903459, 0.01924366190972383, 0.019150482391809946, 0.019032190895646506, 0.01888003138482304, 0.018828929815193653, 0.01865616335254877, 0.018618830723826158, 0.01848372513109156, 0.01840241544920465, 0.01832478072570489, 0.018254614250539133, 0.018168394033418363, 0.018128619056499904, 0.018011601644156078]\n"
     ]
    },
    {
     "data": {
      "application/vnd.jupyter.widget-view+json": {
       "model_id": "2c8dcdc9a608467a98e515218b2281cd",
       "version_major": 2,
       "version_minor": 0
      },
      "text/plain": [
       "HBox(children=(FloatProgress(value=0.0, max=782.0), HTML(value='')))"
      ]
     },
     "metadata": {},
     "output_type": "display_data"
    },
    {
     "name": "stdout",
     "output_type": "stream",
     "text": [
      "\n",
      "epoch : 44/150, loss = 0.017976\n",
      "loss list : [0.04804488558731878, 0.030687242127059366, 0.028325845446923504, 0.02720706879883014, 0.026197104626680578, 0.02506364527089364, 0.02418971135069037, 0.023623952858835992, 0.02315334045349637, 0.022692977669922745, 0.0223407316309831, 0.021953678999543952, 0.02165310765328386, 0.021416172623405675, 0.02115680442532272, 0.02100152473496583, 0.02084396844801238, 0.020636780042191754, 0.02051124759995, 0.020336717957883235, 0.02022155877941138, 0.020074059445973094, 0.019988947690886154, 0.019879242368375936, 0.019749382172551608, 0.019670612006055195, 0.019544808889555808, 0.019445481379051954, 0.01937830664903459, 0.01924366190972383, 0.019150482391809946, 0.019032190895646506, 0.01888003138482304, 0.018828929815193653, 0.01865616335254877, 0.018618830723826158, 0.01848372513109156, 0.01840241544920465, 0.01832478072570489, 0.018254614250539133, 0.018168394033418363, 0.018128619056499904, 0.018011601644156078, 0.017976157841227396]\n"
     ]
    },
    {
     "data": {
      "application/vnd.jupyter.widget-view+json": {
       "model_id": "6eb74609423f4cd0a7cbd7b438dc2020",
       "version_major": 2,
       "version_minor": 0
      },
      "text/plain": [
       "HBox(children=(FloatProgress(value=0.0, max=782.0), HTML(value='')))"
      ]
     },
     "metadata": {},
     "output_type": "display_data"
    },
    {
     "name": "stdout",
     "output_type": "stream",
     "text": [
      "\n",
      "epoch : 45/150, loss = 0.017933\n",
      "loss list : [0.04804488558731878, 0.030687242127059366, 0.028325845446923504, 0.02720706879883014, 0.026197104626680578, 0.02506364527089364, 0.02418971135069037, 0.023623952858835992, 0.02315334045349637, 0.022692977669922745, 0.0223407316309831, 0.021953678999543952, 0.02165310765328386, 0.021416172623405675, 0.02115680442532272, 0.02100152473496583, 0.02084396844801238, 0.020636780042191754, 0.02051124759995, 0.020336717957883235, 0.02022155877941138, 0.020074059445973094, 0.019988947690886154, 0.019879242368375936, 0.019749382172551608, 0.019670612006055195, 0.019544808889555808, 0.019445481379051954, 0.01937830664903459, 0.01924366190972383, 0.019150482391809946, 0.019032190895646506, 0.01888003138482304, 0.018828929815193653, 0.01865616335254877, 0.018618830723826158, 0.01848372513109156, 0.01840241544920465, 0.01832478072570489, 0.018254614250539133, 0.018168394033418363, 0.018128619056499904, 0.018011601644156078, 0.017976157841227396, 0.017933478970747548]\n"
     ]
    },
    {
     "data": {
      "application/vnd.jupyter.widget-view+json": {
       "model_id": "0b9b65234b4d43c491bc57dc61ddbfc9",
       "version_major": 2,
       "version_minor": 0
      },
      "text/plain": [
       "HBox(children=(FloatProgress(value=0.0, max=782.0), HTML(value='')))"
      ]
     },
     "metadata": {},
     "output_type": "display_data"
    },
    {
     "name": "stdout",
     "output_type": "stream",
     "text": [
      "\n",
      "epoch : 46/150, loss = 0.017848\n",
      "loss list : [0.04804488558731878, 0.030687242127059366, 0.028325845446923504, 0.02720706879883014, 0.026197104626680578, 0.02506364527089364, 0.02418971135069037, 0.023623952858835992, 0.02315334045349637, 0.022692977669922745, 0.0223407316309831, 0.021953678999543952, 0.02165310765328386, 0.021416172623405675, 0.02115680442532272, 0.02100152473496583, 0.02084396844801238, 0.020636780042191754, 0.02051124759995, 0.020336717957883235, 0.02022155877941138, 0.020074059445973094, 0.019988947690886154, 0.019879242368375936, 0.019749382172551608, 0.019670612006055195, 0.019544808889555808, 0.019445481379051954, 0.01937830664903459, 0.01924366190972383, 0.019150482391809946, 0.019032190895646506, 0.01888003138482304, 0.018828929815193653, 0.01865616335254877, 0.018618830723826158, 0.01848372513109156, 0.01840241544920465, 0.01832478072570489, 0.018254614250539133, 0.018168394033418363, 0.018128619056499904, 0.018011601644156078, 0.017976157841227396, 0.017933478970747548, 0.017847869465427706]\n"
     ]
    },
    {
     "data": {
      "application/vnd.jupyter.widget-view+json": {
       "model_id": "20775acf93bd473c90b807ec3504277c",
       "version_major": 2,
       "version_minor": 0
      },
      "text/plain": [
       "HBox(children=(FloatProgress(value=0.0, max=782.0), HTML(value='')))"
      ]
     },
     "metadata": {},
     "output_type": "display_data"
    },
    {
     "name": "stdout",
     "output_type": "stream",
     "text": [
      "\n",
      "epoch : 47/150, loss = 0.017784\n",
      "loss list : [0.04804488558731878, 0.030687242127059366, 0.028325845446923504, 0.02720706879883014, 0.026197104626680578, 0.02506364527089364, 0.02418971135069037, 0.023623952858835992, 0.02315334045349637, 0.022692977669922745, 0.0223407316309831, 0.021953678999543952, 0.02165310765328386, 0.021416172623405675, 0.02115680442532272, 0.02100152473496583, 0.02084396844801238, 0.020636780042191754, 0.02051124759995, 0.020336717957883235, 0.02022155877941138, 0.020074059445973094, 0.019988947690886154, 0.019879242368375936, 0.019749382172551608, 0.019670612006055195, 0.019544808889555808, 0.019445481379051954, 0.01937830664903459, 0.01924366190972383, 0.019150482391809946, 0.019032190895646506, 0.01888003138482304, 0.018828929815193653, 0.01865616335254877, 0.018618830723826158, 0.01848372513109156, 0.01840241544920465, 0.01832478072570489, 0.018254614250539133, 0.018168394033418363, 0.018128619056499904, 0.018011601644156078, 0.017976157841227396, 0.017933478970747548, 0.017847869465427706, 0.017784333562769015]\n"
     ]
    },
    {
     "data": {
      "application/vnd.jupyter.widget-view+json": {
       "model_id": "6c2d49fefee949d395bbeee14a253d27",
       "version_major": 2,
       "version_minor": 0
      },
      "text/plain": [
       "HBox(children=(FloatProgress(value=0.0, max=782.0), HTML(value='')))"
      ]
     },
     "metadata": {},
     "output_type": "display_data"
    },
    {
     "name": "stdout",
     "output_type": "stream",
     "text": [
      "\n",
      "epoch : 48/150, loss = 0.017752\n",
      "loss list : [0.04804488558731878, 0.030687242127059366, 0.028325845446923504, 0.02720706879883014, 0.026197104626680578, 0.02506364527089364, 0.02418971135069037, 0.023623952858835992, 0.02315334045349637, 0.022692977669922745, 0.0223407316309831, 0.021953678999543952, 0.02165310765328386, 0.021416172623405675, 0.02115680442532272, 0.02100152473496583, 0.02084396844801238, 0.020636780042191754, 0.02051124759995, 0.020336717957883235, 0.02022155877941138, 0.020074059445973094, 0.019988947690886154, 0.019879242368375936, 0.019749382172551608, 0.019670612006055195, 0.019544808889555808, 0.019445481379051954, 0.01937830664903459, 0.01924366190972383, 0.019150482391809946, 0.019032190895646506, 0.01888003138482304, 0.018828929815193653, 0.01865616335254877, 0.018618830723826158, 0.01848372513109156, 0.01840241544920465, 0.01832478072570489, 0.018254614250539133, 0.018168394033418363, 0.018128619056499904, 0.018011601644156078, 0.017976157841227396, 0.017933478970747548, 0.017847869465427706, 0.017784333562769015, 0.017751687368297058]\n"
     ]
    },
    {
     "data": {
      "application/vnd.jupyter.widget-view+json": {
       "model_id": "3e8602bc50e6446f90d518095c5163d7",
       "version_major": 2,
       "version_minor": 0
      },
      "text/plain": [
       "HBox(children=(FloatProgress(value=0.0, max=782.0), HTML(value='')))"
      ]
     },
     "metadata": {},
     "output_type": "display_data"
    },
    {
     "name": "stdout",
     "output_type": "stream",
     "text": [
      "\n",
      "epoch : 49/150, loss = 0.017703\n",
      "loss list : [0.04804488558731878, 0.030687242127059366, 0.028325845446923504, 0.02720706879883014, 0.026197104626680578, 0.02506364527089364, 0.02418971135069037, 0.023623952858835992, 0.02315334045349637, 0.022692977669922745, 0.0223407316309831, 0.021953678999543952, 0.02165310765328386, 0.021416172623405675, 0.02115680442532272, 0.02100152473496583, 0.02084396844801238, 0.020636780042191754, 0.02051124759995, 0.020336717957883235, 0.02022155877941138, 0.020074059445973094, 0.019988947690886154, 0.019879242368375936, 0.019749382172551608, 0.019670612006055195, 0.019544808889555808, 0.019445481379051954, 0.01937830664903459, 0.01924366190972383, 0.019150482391809946, 0.019032190895646506, 0.01888003138482304, 0.018828929815193653, 0.01865616335254877, 0.018618830723826158, 0.01848372513109156, 0.01840241544920465, 0.01832478072570489, 0.018254614250539133, 0.018168394033418363, 0.018128619056499904, 0.018011601644156078, 0.017976157841227396, 0.017933478970747548, 0.017847869465427706, 0.017784333562769015, 0.017751687368297058, 0.01770254150342644]\n"
     ]
    },
    {
     "data": {
      "application/vnd.jupyter.widget-view+json": {
       "model_id": "a9690f437e574bffb8dc17ce60f50686",
       "version_major": 2,
       "version_minor": 0
      },
      "text/plain": [
       "HBox(children=(FloatProgress(value=0.0, max=782.0), HTML(value='')))"
      ]
     },
     "metadata": {},
     "output_type": "display_data"
    },
    {
     "name": "stdout",
     "output_type": "stream",
     "text": [
      "\n",
      "epoch : 50/150, loss = 0.017661\n",
      "loss list : [0.04804488558731878, 0.030687242127059366, 0.028325845446923504, 0.02720706879883014, 0.026197104626680578, 0.02506364527089364, 0.02418971135069037, 0.023623952858835992, 0.02315334045349637, 0.022692977669922745, 0.0223407316309831, 0.021953678999543952, 0.02165310765328386, 0.021416172623405675, 0.02115680442532272, 0.02100152473496583, 0.02084396844801238, 0.020636780042191754, 0.02051124759995, 0.020336717957883235, 0.02022155877941138, 0.020074059445973094, 0.019988947690886154, 0.019879242368375936, 0.019749382172551608, 0.019670612006055195, 0.019544808889555808, 0.019445481379051954, 0.01937830664903459, 0.01924366190972383, 0.019150482391809946, 0.019032190895646506, 0.01888003138482304, 0.018828929815193653, 0.01865616335254877, 0.018618830723826158, 0.01848372513109156, 0.01840241544920465, 0.01832478072570489, 0.018254614250539133, 0.018168394033418363, 0.018128619056499904, 0.018011601644156078, 0.017976157841227396, 0.017933478970747548, 0.017847869465427706, 0.017784333562769015, 0.017751687368297058, 0.01770254150342644, 0.017661164033576808]\n"
     ]
    },
    {
     "data": {
      "application/vnd.jupyter.widget-view+json": {
       "model_id": "e40bddc930c94a77858bf0ba11404989",
       "version_major": 2,
       "version_minor": 0
      },
      "text/plain": [
       "HBox(children=(FloatProgress(value=0.0, max=782.0), HTML(value='')))"
      ]
     },
     "metadata": {},
     "output_type": "display_data"
    },
    {
     "name": "stdout",
     "output_type": "stream",
     "text": [
      "\n",
      "epoch : 51/150, loss = 0.017596\n",
      "loss list : [0.04804488558731878, 0.030687242127059366, 0.028325845446923504, 0.02720706879883014, 0.026197104626680578, 0.02506364527089364, 0.02418971135069037, 0.023623952858835992, 0.02315334045349637, 0.022692977669922745, 0.0223407316309831, 0.021953678999543952, 0.02165310765328386, 0.021416172623405675, 0.02115680442532272, 0.02100152473496583, 0.02084396844801238, 0.020636780042191754, 0.02051124759995, 0.020336717957883235, 0.02022155877941138, 0.020074059445973094, 0.019988947690886154, 0.019879242368375936, 0.019749382172551608, 0.019670612006055195, 0.019544808889555808, 0.019445481379051954, 0.01937830664903459, 0.01924366190972383, 0.019150482391809946, 0.019032190895646506, 0.01888003138482304, 0.018828929815193653, 0.01865616335254877, 0.018618830723826158, 0.01848372513109156, 0.01840241544920465, 0.01832478072570489, 0.018254614250539133, 0.018168394033418363, 0.018128619056499904, 0.018011601644156078, 0.017976157841227396, 0.017933478970747548, 0.017847869465427706, 0.017784333562769015, 0.017751687368297058, 0.01770254150342644, 0.017661164033576808, 0.017595522664249172]\n"
     ]
    },
    {
     "data": {
      "application/vnd.jupyter.widget-view+json": {
       "model_id": "63076bc303a2487788bfc1686961e2fe",
       "version_major": 2,
       "version_minor": 0
      },
      "text/plain": [
       "HBox(children=(FloatProgress(value=0.0, max=782.0), HTML(value='')))"
      ]
     },
     "metadata": {},
     "output_type": "display_data"
    },
    {
     "name": "stdout",
     "output_type": "stream",
     "text": [
      "\n",
      "epoch : 52/150, loss = 0.017581\n",
      "loss list : [0.04804488558731878, 0.030687242127059366, 0.028325845446923504, 0.02720706879883014, 0.026197104626680578, 0.02506364527089364, 0.02418971135069037, 0.023623952858835992, 0.02315334045349637, 0.022692977669922745, 0.0223407316309831, 0.021953678999543952, 0.02165310765328386, 0.021416172623405675, 0.02115680442532272, 0.02100152473496583, 0.02084396844801238, 0.020636780042191754, 0.02051124759995, 0.020336717957883235, 0.02022155877941138, 0.020074059445973094, 0.019988947690886154, 0.019879242368375936, 0.019749382172551608, 0.019670612006055195, 0.019544808889555808, 0.019445481379051954, 0.01937830664903459, 0.01924366190972383, 0.019150482391809946, 0.019032190895646506, 0.01888003138482304, 0.018828929815193653, 0.01865616335254877, 0.018618830723826158, 0.01848372513109156, 0.01840241544920465, 0.01832478072570489, 0.018254614250539133, 0.018168394033418363, 0.018128619056499904, 0.018011601644156078, 0.017976157841227396, 0.017933478970747548, 0.017847869465427706, 0.017784333562769015, 0.017751687368297058, 0.01770254150342644, 0.017661164033576808, 0.017595522664249172, 0.0175807897330207]\n"
     ]
    },
    {
     "data": {
      "application/vnd.jupyter.widget-view+json": {
       "model_id": "80f85fdb88b84e9ca7ddb01c8b02a432",
       "version_major": 2,
       "version_minor": 0
      },
      "text/plain": [
       "HBox(children=(FloatProgress(value=0.0, max=782.0), HTML(value='')))"
      ]
     },
     "metadata": {},
     "output_type": "display_data"
    },
    {
     "name": "stdout",
     "output_type": "stream",
     "text": [
      "\n",
      "epoch : 53/150, loss = 0.017510\n",
      "loss list : [0.04804488558731878, 0.030687242127059366, 0.028325845446923504, 0.02720706879883014, 0.026197104626680578, 0.02506364527089364, 0.02418971135069037, 0.023623952858835992, 0.02315334045349637, 0.022692977669922745, 0.0223407316309831, 0.021953678999543952, 0.02165310765328386, 0.021416172623405675, 0.02115680442532272, 0.02100152473496583, 0.02084396844801238, 0.020636780042191754, 0.02051124759995, 0.020336717957883235, 0.02022155877941138, 0.020074059445973094, 0.019988947690886154, 0.019879242368375936, 0.019749382172551608, 0.019670612006055195, 0.019544808889555808, 0.019445481379051954, 0.01937830664903459, 0.01924366190972383, 0.019150482391809946, 0.019032190895646506, 0.01888003138482304, 0.018828929815193653, 0.01865616335254877, 0.018618830723826158, 0.01848372513109156, 0.01840241544920465, 0.01832478072570489, 0.018254614250539133, 0.018168394033418363, 0.018128619056499904, 0.018011601644156078, 0.017976157841227396, 0.017933478970747548, 0.017847869465427706, 0.017784333562769015, 0.017751687368297058, 0.01770254150342644, 0.017661164033576808, 0.017595522664249172, 0.0175807897330207, 0.01750959302334453]\n"
     ]
    },
    {
     "data": {
      "application/vnd.jupyter.widget-view+json": {
       "model_id": "07296d91bacc4420acc19ee2421d9b79",
       "version_major": 2,
       "version_minor": 0
      },
      "text/plain": [
       "HBox(children=(FloatProgress(value=0.0, max=782.0), HTML(value='')))"
      ]
     },
     "metadata": {},
     "output_type": "display_data"
    },
    {
     "name": "stdout",
     "output_type": "stream",
     "text": [
      "\n",
      "epoch : 54/150, loss = 0.017447\n",
      "loss list : [0.04804488558731878, 0.030687242127059366, 0.028325845446923504, 0.02720706879883014, 0.026197104626680578, 0.02506364527089364, 0.02418971135069037, 0.023623952858835992, 0.02315334045349637, 0.022692977669922745, 0.0223407316309831, 0.021953678999543952, 0.02165310765328386, 0.021416172623405675, 0.02115680442532272, 0.02100152473496583, 0.02084396844801238, 0.020636780042191754, 0.02051124759995, 0.020336717957883235, 0.02022155877941138, 0.020074059445973094, 0.019988947690886154, 0.019879242368375936, 0.019749382172551608, 0.019670612006055195, 0.019544808889555808, 0.019445481379051954, 0.01937830664903459, 0.01924366190972383, 0.019150482391809946, 0.019032190895646506, 0.01888003138482304, 0.018828929815193653, 0.01865616335254877, 0.018618830723826158, 0.01848372513109156, 0.01840241544920465, 0.01832478072570489, 0.018254614250539133, 0.018168394033418363, 0.018128619056499904, 0.018011601644156078, 0.017976157841227396, 0.017933478970747548, 0.017847869465427706, 0.017784333562769015, 0.017751687368297058, 0.01770254150342644, 0.017661164033576808, 0.017595522664249172, 0.0175807897330207, 0.01750959302334453, 0.017447488114495032]\n"
     ]
    },
    {
     "data": {
      "application/vnd.jupyter.widget-view+json": {
       "model_id": "c7eb41ae254c4072883d22705b98a072",
       "version_major": 2,
       "version_minor": 0
      },
      "text/plain": [
       "HBox(children=(FloatProgress(value=0.0, max=782.0), HTML(value='')))"
      ]
     },
     "metadata": {},
     "output_type": "display_data"
    },
    {
     "name": "stdout",
     "output_type": "stream",
     "text": [
      "\n",
      "epoch : 55/150, loss = 0.017393\n",
      "loss list : [0.04804488558731878, 0.030687242127059366, 0.028325845446923504, 0.02720706879883014, 0.026197104626680578, 0.02506364527089364, 0.02418971135069037, 0.023623952858835992, 0.02315334045349637, 0.022692977669922745, 0.0223407316309831, 0.021953678999543952, 0.02165310765328386, 0.021416172623405675, 0.02115680442532272, 0.02100152473496583, 0.02084396844801238, 0.020636780042191754, 0.02051124759995, 0.020336717957883235, 0.02022155877941138, 0.020074059445973094, 0.019988947690886154, 0.019879242368375936, 0.019749382172551608, 0.019670612006055195, 0.019544808889555808, 0.019445481379051954, 0.01937830664903459, 0.01924366190972383, 0.019150482391809946, 0.019032190895646506, 0.01888003138482304, 0.018828929815193653, 0.01865616335254877, 0.018618830723826158, 0.01848372513109156, 0.01840241544920465, 0.01832478072570489, 0.018254614250539133, 0.018168394033418363, 0.018128619056499904, 0.018011601644156078, 0.017976157841227396, 0.017933478970747548, 0.017847869465427706, 0.017784333562769015, 0.017751687368297058, 0.01770254150342644, 0.017661164033576808, 0.017595522664249172, 0.0175807897330207, 0.01750959302334453, 0.017447488114495032, 0.017393359371349025]\n"
     ]
    },
    {
     "data": {
      "application/vnd.jupyter.widget-view+json": {
       "model_id": "79fd181a30aa43b1984fdc13bbb67853",
       "version_major": 2,
       "version_minor": 0
      },
      "text/plain": [
       "HBox(children=(FloatProgress(value=0.0, max=782.0), HTML(value='')))"
      ]
     },
     "metadata": {},
     "output_type": "display_data"
    },
    {
     "name": "stdout",
     "output_type": "stream",
     "text": [
      "\n",
      "epoch : 56/150, loss = 0.017360\n",
      "loss list : [0.04804488558731878, 0.030687242127059366, 0.028325845446923504, 0.02720706879883014, 0.026197104626680578, 0.02506364527089364, 0.02418971135069037, 0.023623952858835992, 0.02315334045349637, 0.022692977669922745, 0.0223407316309831, 0.021953678999543952, 0.02165310765328386, 0.021416172623405675, 0.02115680442532272, 0.02100152473496583, 0.02084396844801238, 0.020636780042191754, 0.02051124759995, 0.020336717957883235, 0.02022155877941138, 0.020074059445973094, 0.019988947690886154, 0.019879242368375936, 0.019749382172551608, 0.019670612006055195, 0.019544808889555808, 0.019445481379051954, 0.01937830664903459, 0.01924366190972383, 0.019150482391809946, 0.019032190895646506, 0.01888003138482304, 0.018828929815193653, 0.01865616335254877, 0.018618830723826158, 0.01848372513109156, 0.01840241544920465, 0.01832478072570489, 0.018254614250539133, 0.018168394033418363, 0.018128619056499904, 0.018011601644156078, 0.017976157841227396, 0.017933478970747548, 0.017847869465427706, 0.017784333562769015, 0.017751687368297058, 0.01770254150342644, 0.017661164033576808, 0.017595522664249172, 0.0175807897330207, 0.01750959302334453, 0.017447488114495032, 0.017393359371349025, 0.017360051211369847]\n"
     ]
    },
    {
     "data": {
      "application/vnd.jupyter.widget-view+json": {
       "model_id": "d15739add1644a6597e1d3a153a5f3eb",
       "version_major": 2,
       "version_minor": 0
      },
      "text/plain": [
       "HBox(children=(FloatProgress(value=0.0, max=782.0), HTML(value='')))"
      ]
     },
     "metadata": {},
     "output_type": "display_data"
    },
    {
     "name": "stdout",
     "output_type": "stream",
     "text": [
      "\n",
      "epoch : 57/150, loss = 0.017335\n",
      "loss list : [0.04804488558731878, 0.030687242127059366, 0.028325845446923504, 0.02720706879883014, 0.026197104626680578, 0.02506364527089364, 0.02418971135069037, 0.023623952858835992, 0.02315334045349637, 0.022692977669922745, 0.0223407316309831, 0.021953678999543952, 0.02165310765328386, 0.021416172623405675, 0.02115680442532272, 0.02100152473496583, 0.02084396844801238, 0.020636780042191754, 0.02051124759995, 0.020336717957883235, 0.02022155877941138, 0.020074059445973094, 0.019988947690886154, 0.019879242368375936, 0.019749382172551608, 0.019670612006055195, 0.019544808889555808, 0.019445481379051954, 0.01937830664903459, 0.01924366190972383, 0.019150482391809946, 0.019032190895646506, 0.01888003138482304, 0.018828929815193653, 0.01865616335254877, 0.018618830723826158, 0.01848372513109156, 0.01840241544920465, 0.01832478072570489, 0.018254614250539133, 0.018168394033418363, 0.018128619056499904, 0.018011601644156078, 0.017976157841227396, 0.017933478970747548, 0.017847869465427706, 0.017784333562769015, 0.017751687368297058, 0.01770254150342644, 0.017661164033576808, 0.017595522664249172, 0.0175807897330207, 0.01750959302334453, 0.017447488114495032, 0.017393359371349025, 0.017360051211369847, 0.017334512602823697]\n"
     ]
    },
    {
     "data": {
      "application/vnd.jupyter.widget-view+json": {
       "model_id": "bdb93c26d2eb4cbf8e0f1e5c6584411f",
       "version_major": 2,
       "version_minor": 0
      },
      "text/plain": [
       "HBox(children=(FloatProgress(value=0.0, max=782.0), HTML(value='')))"
      ]
     },
     "metadata": {},
     "output_type": "display_data"
    },
    {
     "name": "stdout",
     "output_type": "stream",
     "text": [
      "\n",
      "epoch : 58/150, loss = 0.017262\n",
      "loss list : [0.04804488558731878, 0.030687242127059366, 0.028325845446923504, 0.02720706879883014, 0.026197104626680578, 0.02506364527089364, 0.02418971135069037, 0.023623952858835992, 0.02315334045349637, 0.022692977669922745, 0.0223407316309831, 0.021953678999543952, 0.02165310765328386, 0.021416172623405675, 0.02115680442532272, 0.02100152473496583, 0.02084396844801238, 0.020636780042191754, 0.02051124759995, 0.020336717957883235, 0.02022155877941138, 0.020074059445973094, 0.019988947690886154, 0.019879242368375936, 0.019749382172551608, 0.019670612006055195, 0.019544808889555808, 0.019445481379051954, 0.01937830664903459, 0.01924366190972383, 0.019150482391809946, 0.019032190895646506, 0.01888003138482304, 0.018828929815193653, 0.01865616335254877, 0.018618830723826158, 0.01848372513109156, 0.01840241544920465, 0.01832478072570489, 0.018254614250539133, 0.018168394033418363, 0.018128619056499904, 0.018011601644156078, 0.017976157841227396, 0.017933478970747548, 0.017847869465427706, 0.017784333562769015, 0.017751687368297058, 0.01770254150342644, 0.017661164033576808, 0.017595522664249172, 0.0175807897330207, 0.01750959302334453, 0.017447488114495032, 0.017393359371349025, 0.017360051211369847, 0.017334512602823697, 0.01726232144548117]\n"
     ]
    },
    {
     "data": {
      "application/vnd.jupyter.widget-view+json": {
       "model_id": "4d05fb4b26d648af939fac75c973cbc7",
       "version_major": 2,
       "version_minor": 0
      },
      "text/plain": [
       "HBox(children=(FloatProgress(value=0.0, max=782.0), HTML(value='')))"
      ]
     },
     "metadata": {},
     "output_type": "display_data"
    },
    {
     "name": "stdout",
     "output_type": "stream",
     "text": [
      "\n",
      "epoch : 59/150, loss = 0.017199\n",
      "loss list : [0.04804488558731878, 0.030687242127059366, 0.028325845446923504, 0.02720706879883014, 0.026197104626680578, 0.02506364527089364, 0.02418971135069037, 0.023623952858835992, 0.02315334045349637, 0.022692977669922745, 0.0223407316309831, 0.021953678999543952, 0.02165310765328386, 0.021416172623405675, 0.02115680442532272, 0.02100152473496583, 0.02084396844801238, 0.020636780042191754, 0.02051124759995, 0.020336717957883235, 0.02022155877941138, 0.020074059445973094, 0.019988947690886154, 0.019879242368375936, 0.019749382172551608, 0.019670612006055195, 0.019544808889555808, 0.019445481379051954, 0.01937830664903459, 0.01924366190972383, 0.019150482391809946, 0.019032190895646506, 0.01888003138482304, 0.018828929815193653, 0.01865616335254877, 0.018618830723826158, 0.01848372513109156, 0.01840241544920465, 0.01832478072570489, 0.018254614250539133, 0.018168394033418363, 0.018128619056499904, 0.018011601644156078, 0.017976157841227396, 0.017933478970747548, 0.017847869465427706, 0.017784333562769015, 0.017751687368297058, 0.01770254150342644, 0.017661164033576808, 0.017595522664249172, 0.0175807897330207, 0.01750959302334453, 0.017447488114495032, 0.017393359371349025, 0.017360051211369847, 0.017334512602823697, 0.01726232144548117, 0.01719888771557823]\n"
     ]
    },
    {
     "data": {
      "application/vnd.jupyter.widget-view+json": {
       "model_id": "5da37882ac484477a87a3f5a4aaefab0",
       "version_major": 2,
       "version_minor": 0
      },
      "text/plain": [
       "HBox(children=(FloatProgress(value=0.0, max=782.0), HTML(value='')))"
      ]
     },
     "metadata": {},
     "output_type": "display_data"
    },
    {
     "name": "stdout",
     "output_type": "stream",
     "text": [
      "\n",
      "epoch : 60/150, loss = 0.017166\n",
      "loss list : [0.04804488558731878, 0.030687242127059366, 0.028325845446923504, 0.02720706879883014, 0.026197104626680578, 0.02506364527089364, 0.02418971135069037, 0.023623952858835992, 0.02315334045349637, 0.022692977669922745, 0.0223407316309831, 0.021953678999543952, 0.02165310765328386, 0.021416172623405675, 0.02115680442532272, 0.02100152473496583, 0.02084396844801238, 0.020636780042191754, 0.02051124759995, 0.020336717957883235, 0.02022155877941138, 0.020074059445973094, 0.019988947690886154, 0.019879242368375936, 0.019749382172551608, 0.019670612006055195, 0.019544808889555808, 0.019445481379051954, 0.01937830664903459, 0.01924366190972383, 0.019150482391809946, 0.019032190895646506, 0.01888003138482304, 0.018828929815193653, 0.01865616335254877, 0.018618830723826158, 0.01848372513109156, 0.01840241544920465, 0.01832478072570489, 0.018254614250539133, 0.018168394033418363, 0.018128619056499904, 0.018011601644156078, 0.017976157841227396, 0.017933478970747548, 0.017847869465427706, 0.017784333562769015, 0.017751687368297058, 0.01770254150342644, 0.017661164033576808, 0.017595522664249172, 0.0175807897330207, 0.01750959302334453, 0.017447488114495032, 0.017393359371349025, 0.017360051211369847, 0.017334512602823697, 0.01726232144548117, 0.01719888771557823, 0.01716632525796247]\n"
     ]
    },
    {
     "data": {
      "application/vnd.jupyter.widget-view+json": {
       "model_id": "978d8b4ac1824757a90f0cf5b0078931",
       "version_major": 2,
       "version_minor": 0
      },
      "text/plain": [
       "HBox(children=(FloatProgress(value=0.0, max=782.0), HTML(value='')))"
      ]
     },
     "metadata": {},
     "output_type": "display_data"
    },
    {
     "name": "stdout",
     "output_type": "stream",
     "text": [
      "\n",
      "epoch : 61/150, loss = 0.017111\n",
      "loss list : [0.04804488558731878, 0.030687242127059366, 0.028325845446923504, 0.02720706879883014, 0.026197104626680578, 0.02506364527089364, 0.02418971135069037, 0.023623952858835992, 0.02315334045349637, 0.022692977669922745, 0.0223407316309831, 0.021953678999543952, 0.02165310765328386, 0.021416172623405675, 0.02115680442532272, 0.02100152473496583, 0.02084396844801238, 0.020636780042191754, 0.02051124759995, 0.020336717957883235, 0.02022155877941138, 0.020074059445973094, 0.019988947690886154, 0.019879242368375936, 0.019749382172551608, 0.019670612006055195, 0.019544808889555808, 0.019445481379051954, 0.01937830664903459, 0.01924366190972383, 0.019150482391809946, 0.019032190895646506, 0.01888003138482304, 0.018828929815193653, 0.01865616335254877, 0.018618830723826158, 0.01848372513109156, 0.01840241544920465, 0.01832478072570489, 0.018254614250539133, 0.018168394033418363, 0.018128619056499904, 0.018011601644156078, 0.017976157841227396, 0.017933478970747548, 0.017847869465427706, 0.017784333562769015, 0.017751687368297058, 0.01770254150342644, 0.017661164033576808, 0.017595522664249172, 0.0175807897330207, 0.01750959302334453, 0.017447488114495032, 0.017393359371349025, 0.017360051211369847, 0.017334512602823697, 0.01726232144548117, 0.01719888771557823, 0.01716632525796247, 0.017111424910490548]\n"
     ]
    },
    {
     "data": {
      "application/vnd.jupyter.widget-view+json": {
       "model_id": "2a8f3a507bf74928937a1c477c4b6624",
       "version_major": 2,
       "version_minor": 0
      },
      "text/plain": [
       "HBox(children=(FloatProgress(value=0.0, max=782.0), HTML(value='')))"
      ]
     },
     "metadata": {},
     "output_type": "display_data"
    },
    {
     "name": "stdout",
     "output_type": "stream",
     "text": [
      "\n",
      "epoch : 62/150, loss = 0.017058\n",
      "loss list : [0.04804488558731878, 0.030687242127059366, 0.028325845446923504, 0.02720706879883014, 0.026197104626680578, 0.02506364527089364, 0.02418971135069037, 0.023623952858835992, 0.02315334045349637, 0.022692977669922745, 0.0223407316309831, 0.021953678999543952, 0.02165310765328386, 0.021416172623405675, 0.02115680442532272, 0.02100152473496583, 0.02084396844801238, 0.020636780042191754, 0.02051124759995, 0.020336717957883235, 0.02022155877941138, 0.020074059445973094, 0.019988947690886154, 0.019879242368375936, 0.019749382172551608, 0.019670612006055195, 0.019544808889555808, 0.019445481379051954, 0.01937830664903459, 0.01924366190972383, 0.019150482391809946, 0.019032190895646506, 0.01888003138482304, 0.018828929815193653, 0.01865616335254877, 0.018618830723826158, 0.01848372513109156, 0.01840241544920465, 0.01832478072570489, 0.018254614250539133, 0.018168394033418363, 0.018128619056499904, 0.018011601644156078, 0.017976157841227396, 0.017933478970747548, 0.017847869465427706, 0.017784333562769015, 0.017751687368297058, 0.01770254150342644, 0.017661164033576808, 0.017595522664249172, 0.0175807897330207, 0.01750959302334453, 0.017447488114495032, 0.017393359371349025, 0.017360051211369847, 0.017334512602823697, 0.01726232144548117, 0.01719888771557823, 0.01716632525796247, 0.017111424910490548, 0.017058285385551278]\n"
     ]
    },
    {
     "data": {
      "application/vnd.jupyter.widget-view+json": {
       "model_id": "d519f2c3b1c9408daad9babcf8c7072c",
       "version_major": 2,
       "version_minor": 0
      },
      "text/plain": [
       "HBox(children=(FloatProgress(value=0.0, max=782.0), HTML(value='')))"
      ]
     },
     "metadata": {},
     "output_type": "display_data"
    },
    {
     "name": "stdout",
     "output_type": "stream",
     "text": [
      "\n",
      "epoch : 63/150, loss = 0.017007\n",
      "loss list : [0.04804488558731878, 0.030687242127059366, 0.028325845446923504, 0.02720706879883014, 0.026197104626680578, 0.02506364527089364, 0.02418971135069037, 0.023623952858835992, 0.02315334045349637, 0.022692977669922745, 0.0223407316309831, 0.021953678999543952, 0.02165310765328386, 0.021416172623405675, 0.02115680442532272, 0.02100152473496583, 0.02084396844801238, 0.020636780042191754, 0.02051124759995, 0.020336717957883235, 0.02022155877941138, 0.020074059445973094, 0.019988947690886154, 0.019879242368375936, 0.019749382172551608, 0.019670612006055195, 0.019544808889555808, 0.019445481379051954, 0.01937830664903459, 0.01924366190972383, 0.019150482391809946, 0.019032190895646506, 0.01888003138482304, 0.018828929815193653, 0.01865616335254877, 0.018618830723826158, 0.01848372513109156, 0.01840241544920465, 0.01832478072570489, 0.018254614250539133, 0.018168394033418363, 0.018128619056499904, 0.018011601644156078, 0.017976157841227396, 0.017933478970747548, 0.017847869465427706, 0.017784333562769015, 0.017751687368297058, 0.01770254150342644, 0.017661164033576808, 0.017595522664249172, 0.0175807897330207, 0.01750959302334453, 0.017447488114495032, 0.017393359371349025, 0.017360051211369847, 0.017334512602823697, 0.01726232144548117, 0.01719888771557823, 0.01716632525796247, 0.017111424910490548, 0.017058285385551278, 0.01700707954709487]\n"
     ]
    },
    {
     "data": {
      "application/vnd.jupyter.widget-view+json": {
       "model_id": "090d306558ec4487ade0aa468b6e1198",
       "version_major": 2,
       "version_minor": 0
      },
      "text/plain": [
       "HBox(children=(FloatProgress(value=0.0, max=782.0), HTML(value='')))"
      ]
     },
     "metadata": {},
     "output_type": "display_data"
    },
    {
     "name": "stdout",
     "output_type": "stream",
     "text": [
      "\n",
      "epoch : 64/150, loss = 0.016993\n",
      "loss list : [0.04804488558731878, 0.030687242127059366, 0.028325845446923504, 0.02720706879883014, 0.026197104626680578, 0.02506364527089364, 0.02418971135069037, 0.023623952858835992, 0.02315334045349637, 0.022692977669922745, 0.0223407316309831, 0.021953678999543952, 0.02165310765328386, 0.021416172623405675, 0.02115680442532272, 0.02100152473496583, 0.02084396844801238, 0.020636780042191754, 0.02051124759995, 0.020336717957883235, 0.02022155877941138, 0.020074059445973094, 0.019988947690886154, 0.019879242368375936, 0.019749382172551608, 0.019670612006055195, 0.019544808889555808, 0.019445481379051954, 0.01937830664903459, 0.01924366190972383, 0.019150482391809946, 0.019032190895646506, 0.01888003138482304, 0.018828929815193653, 0.01865616335254877, 0.018618830723826158, 0.01848372513109156, 0.01840241544920465, 0.01832478072570489, 0.018254614250539133, 0.018168394033418363, 0.018128619056499904, 0.018011601644156078, 0.017976157841227396, 0.017933478970747548, 0.017847869465427706, 0.017784333562769015, 0.017751687368297058, 0.01770254150342644, 0.017661164033576808, 0.017595522664249172, 0.0175807897330207, 0.01750959302334453, 0.017447488114495032, 0.017393359371349025, 0.017360051211369847, 0.017334512602823697, 0.01726232144548117, 0.01719888771557823, 0.01716632525796247, 0.017111424910490548, 0.017058285385551278, 0.01700707954709487, 0.016992950610711675]\n"
     ]
    },
    {
     "data": {
      "application/vnd.jupyter.widget-view+json": {
       "model_id": "07ef36bf77ca42ef9f90bcc8b2a3932d",
       "version_major": 2,
       "version_minor": 0
      },
      "text/plain": [
       "HBox(children=(FloatProgress(value=0.0, max=782.0), HTML(value='')))"
      ]
     },
     "metadata": {},
     "output_type": "display_data"
    },
    {
     "name": "stdout",
     "output_type": "stream",
     "text": [
      "\n",
      "epoch : 65/150, loss = 0.016907\n",
      "loss list : [0.04804488558731878, 0.030687242127059366, 0.028325845446923504, 0.02720706879883014, 0.026197104626680578, 0.02506364527089364, 0.02418971135069037, 0.023623952858835992, 0.02315334045349637, 0.022692977669922745, 0.0223407316309831, 0.021953678999543952, 0.02165310765328386, 0.021416172623405675, 0.02115680442532272, 0.02100152473496583, 0.02084396844801238, 0.020636780042191754, 0.02051124759995, 0.020336717957883235, 0.02022155877941138, 0.020074059445973094, 0.019988947690886154, 0.019879242368375936, 0.019749382172551608, 0.019670612006055195, 0.019544808889555808, 0.019445481379051954, 0.01937830664903459, 0.01924366190972383, 0.019150482391809946, 0.019032190895646506, 0.01888003138482304, 0.018828929815193653, 0.01865616335254877, 0.018618830723826158, 0.01848372513109156, 0.01840241544920465, 0.01832478072570489, 0.018254614250539133, 0.018168394033418363, 0.018128619056499904, 0.018011601644156078, 0.017976157841227396, 0.017933478970747548, 0.017847869465427706, 0.017784333562769015, 0.017751687368297058, 0.01770254150342644, 0.017661164033576808, 0.017595522664249172, 0.0175807897330207, 0.01750959302334453, 0.017447488114495032, 0.017393359371349025, 0.017360051211369847, 0.017334512602823697, 0.01726232144548117, 0.01719888771557823, 0.01716632525796247, 0.017111424910490548, 0.017058285385551278, 0.01700707954709487, 0.016992950610711675, 0.01690742601652432]\n"
     ]
    },
    {
     "data": {
      "application/vnd.jupyter.widget-view+json": {
       "model_id": "cafea4f7a55a46ce920813480fd57333",
       "version_major": 2,
       "version_minor": 0
      },
      "text/plain": [
       "HBox(children=(FloatProgress(value=0.0, max=782.0), HTML(value='')))"
      ]
     },
     "metadata": {},
     "output_type": "display_data"
    },
    {
     "name": "stdout",
     "output_type": "stream",
     "text": [
      "\n",
      "epoch : 66/150, loss = 0.016841\n",
      "loss list : [0.04804488558731878, 0.030687242127059366, 0.028325845446923504, 0.02720706879883014, 0.026197104626680578, 0.02506364527089364, 0.02418971135069037, 0.023623952858835992, 0.02315334045349637, 0.022692977669922745, 0.0223407316309831, 0.021953678999543952, 0.02165310765328386, 0.021416172623405675, 0.02115680442532272, 0.02100152473496583, 0.02084396844801238, 0.020636780042191754, 0.02051124759995, 0.020336717957883235, 0.02022155877941138, 0.020074059445973094, 0.019988947690886154, 0.019879242368375936, 0.019749382172551608, 0.019670612006055195, 0.019544808889555808, 0.019445481379051954, 0.01937830664903459, 0.01924366190972383, 0.019150482391809946, 0.019032190895646506, 0.01888003138482304, 0.018828929815193653, 0.01865616335254877, 0.018618830723826158, 0.01848372513109156, 0.01840241544920465, 0.01832478072570489, 0.018254614250539133, 0.018168394033418363, 0.018128619056499904, 0.018011601644156078, 0.017976157841227396, 0.017933478970747548, 0.017847869465427706, 0.017784333562769015, 0.017751687368297058, 0.01770254150342644, 0.017661164033576808, 0.017595522664249172, 0.0175807897330207, 0.01750959302334453, 0.017447488114495032, 0.017393359371349025, 0.017360051211369847, 0.017334512602823697, 0.01726232144548117, 0.01719888771557823, 0.01716632525796247, 0.017111424910490548, 0.017058285385551278, 0.01700707954709487, 0.016992950610711675, 0.01690742601652432, 0.01684054723747856]\n"
     ]
    },
    {
     "data": {
      "application/vnd.jupyter.widget-view+json": {
       "model_id": "33d2fa4d33fc443a9dfab5a56c56ba63",
       "version_major": 2,
       "version_minor": 0
      },
      "text/plain": [
       "HBox(children=(FloatProgress(value=0.0, max=782.0), HTML(value='')))"
      ]
     },
     "metadata": {},
     "output_type": "display_data"
    },
    {
     "name": "stdout",
     "output_type": "stream",
     "text": [
      "\n",
      "epoch : 67/150, loss = 0.016871\n",
      "loss list : [0.04804488558731878, 0.030687242127059366, 0.028325845446923504, 0.02720706879883014, 0.026197104626680578, 0.02506364527089364, 0.02418971135069037, 0.023623952858835992, 0.02315334045349637, 0.022692977669922745, 0.0223407316309831, 0.021953678999543952, 0.02165310765328386, 0.021416172623405675, 0.02115680442532272, 0.02100152473496583, 0.02084396844801238, 0.020636780042191754, 0.02051124759995, 0.020336717957883235, 0.02022155877941138, 0.020074059445973094, 0.019988947690886154, 0.019879242368375936, 0.019749382172551608, 0.019670612006055195, 0.019544808889555808, 0.019445481379051954, 0.01937830664903459, 0.01924366190972383, 0.019150482391809946, 0.019032190895646506, 0.01888003138482304, 0.018828929815193653, 0.01865616335254877, 0.018618830723826158, 0.01848372513109156, 0.01840241544920465, 0.01832478072570489, 0.018254614250539133, 0.018168394033418363, 0.018128619056499904, 0.018011601644156078, 0.017976157841227396, 0.017933478970747548, 0.017847869465427706, 0.017784333562769015, 0.017751687368297058, 0.01770254150342644, 0.017661164033576808, 0.017595522664249172, 0.0175807897330207, 0.01750959302334453, 0.017447488114495032, 0.017393359371349025, 0.017360051211369847, 0.017334512602823697, 0.01726232144548117, 0.01719888771557823, 0.01716632525796247, 0.017111424910490548, 0.017058285385551278, 0.01700707954709487, 0.016992950610711675, 0.01690742601652432, 0.01684054723747856, 0.016870754855492002]\n"
     ]
    },
    {
     "data": {
      "application/vnd.jupyter.widget-view+json": {
       "model_id": "982eb773a3404e6b9edc9c520f4162ff",
       "version_major": 2,
       "version_minor": 0
      },
      "text/plain": [
       "HBox(children=(FloatProgress(value=0.0, max=782.0), HTML(value='')))"
      ]
     },
     "metadata": {},
     "output_type": "display_data"
    },
    {
     "name": "stdout",
     "output_type": "stream",
     "text": [
      "\n",
      "epoch : 68/150, loss = 0.016758\n",
      "loss list : [0.04804488558731878, 0.030687242127059366, 0.028325845446923504, 0.02720706879883014, 0.026197104626680578, 0.02506364527089364, 0.02418971135069037, 0.023623952858835992, 0.02315334045349637, 0.022692977669922745, 0.0223407316309831, 0.021953678999543952, 0.02165310765328386, 0.021416172623405675, 0.02115680442532272, 0.02100152473496583, 0.02084396844801238, 0.020636780042191754, 0.02051124759995, 0.020336717957883235, 0.02022155877941138, 0.020074059445973094, 0.019988947690886154, 0.019879242368375936, 0.019749382172551608, 0.019670612006055195, 0.019544808889555808, 0.019445481379051954, 0.01937830664903459, 0.01924366190972383, 0.019150482391809946, 0.019032190895646506, 0.01888003138482304, 0.018828929815193653, 0.01865616335254877, 0.018618830723826158, 0.01848372513109156, 0.01840241544920465, 0.01832478072570489, 0.018254614250539133, 0.018168394033418363, 0.018128619056499904, 0.018011601644156078, 0.017976157841227396, 0.017933478970747548, 0.017847869465427706, 0.017784333562769015, 0.017751687368297058, 0.01770254150342644, 0.017661164033576808, 0.017595522664249172, 0.0175807897330207, 0.01750959302334453, 0.017447488114495032, 0.017393359371349025, 0.017360051211369847, 0.017334512602823697, 0.01726232144548117, 0.01719888771557823, 0.01716632525796247, 0.017111424910490548, 0.017058285385551278, 0.01700707954709487, 0.016992950610711675, 0.01690742601652432, 0.01684054723747856, 0.016870754855492002, 0.01675813262234144]\n"
     ]
    },
    {
     "data": {
      "application/vnd.jupyter.widget-view+json": {
       "model_id": "3a33c59ec0394c79a066ead8d8d79ce2",
       "version_major": 2,
       "version_minor": 0
      },
      "text/plain": [
       "HBox(children=(FloatProgress(value=0.0, max=782.0), HTML(value='')))"
      ]
     },
     "metadata": {},
     "output_type": "display_data"
    },
    {
     "name": "stdout",
     "output_type": "stream",
     "text": [
      "\n",
      "epoch : 69/150, loss = 0.016758\n",
      "loss list : [0.04804488558731878, 0.030687242127059366, 0.028325845446923504, 0.02720706879883014, 0.026197104626680578, 0.02506364527089364, 0.02418971135069037, 0.023623952858835992, 0.02315334045349637, 0.022692977669922745, 0.0223407316309831, 0.021953678999543952, 0.02165310765328386, 0.021416172623405675, 0.02115680442532272, 0.02100152473496583, 0.02084396844801238, 0.020636780042191754, 0.02051124759995, 0.020336717957883235, 0.02022155877941138, 0.020074059445973094, 0.019988947690886154, 0.019879242368375936, 0.019749382172551608, 0.019670612006055195, 0.019544808889555808, 0.019445481379051954, 0.01937830664903459, 0.01924366190972383, 0.019150482391809946, 0.019032190895646506, 0.01888003138482304, 0.018828929815193653, 0.01865616335254877, 0.018618830723826158, 0.01848372513109156, 0.01840241544920465, 0.01832478072570489, 0.018254614250539133, 0.018168394033418363, 0.018128619056499904, 0.018011601644156078, 0.017976157841227396, 0.017933478970747548, 0.017847869465427706, 0.017784333562769015, 0.017751687368297058, 0.01770254150342644, 0.017661164033576808, 0.017595522664249172, 0.0175807897330207, 0.01750959302334453, 0.017447488114495032, 0.017393359371349025, 0.017360051211369847, 0.017334512602823697, 0.01726232144548117, 0.01719888771557823, 0.01716632525796247, 0.017111424910490548, 0.017058285385551278, 0.01700707954709487, 0.016992950610711675, 0.01690742601652432, 0.01684054723747856, 0.016870754855492002, 0.01675813262234144, 0.016758373363272232]\n"
     ]
    },
    {
     "data": {
      "application/vnd.jupyter.widget-view+json": {
       "model_id": "cda21eda05514c92bd4376493cf3d48d",
       "version_major": 2,
       "version_minor": 0
      },
      "text/plain": [
       "HBox(children=(FloatProgress(value=0.0, max=782.0), HTML(value='')))"
      ]
     },
     "metadata": {},
     "output_type": "display_data"
    },
    {
     "name": "stdout",
     "output_type": "stream",
     "text": [
      "\n",
      "epoch : 70/150, loss = 0.016704\n",
      "loss list : [0.04804488558731878, 0.030687242127059366, 0.028325845446923504, 0.02720706879883014, 0.026197104626680578, 0.02506364527089364, 0.02418971135069037, 0.023623952858835992, 0.02315334045349637, 0.022692977669922745, 0.0223407316309831, 0.021953678999543952, 0.02165310765328386, 0.021416172623405675, 0.02115680442532272, 0.02100152473496583, 0.02084396844801238, 0.020636780042191754, 0.02051124759995, 0.020336717957883235, 0.02022155877941138, 0.020074059445973094, 0.019988947690886154, 0.019879242368375936, 0.019749382172551608, 0.019670612006055195, 0.019544808889555808, 0.019445481379051954, 0.01937830664903459, 0.01924366190972383, 0.019150482391809946, 0.019032190895646506, 0.01888003138482304, 0.018828929815193653, 0.01865616335254877, 0.018618830723826158, 0.01848372513109156, 0.01840241544920465, 0.01832478072570489, 0.018254614250539133, 0.018168394033418363, 0.018128619056499904, 0.018011601644156078, 0.017976157841227396, 0.017933478970747548, 0.017847869465427706, 0.017784333562769015, 0.017751687368297058, 0.01770254150342644, 0.017661164033576808, 0.017595522664249172, 0.0175807897330207, 0.01750959302334453, 0.017447488114495032, 0.017393359371349025, 0.017360051211369847, 0.017334512602823697, 0.01726232144548117, 0.01719888771557823, 0.01716632525796247, 0.017111424910490548, 0.017058285385551278, 0.01700707954709487, 0.016992950610711675, 0.01690742601652432, 0.01684054723747856, 0.016870754855492002, 0.01675813262234144, 0.016758373363272232, 0.016703942211825983]\n"
     ]
    },
    {
     "data": {
      "application/vnd.jupyter.widget-view+json": {
       "model_id": "16a7375a13db41d49a404c01a5e0fb82",
       "version_major": 2,
       "version_minor": 0
      },
      "text/plain": [
       "HBox(children=(FloatProgress(value=0.0, max=782.0), HTML(value='')))"
      ]
     },
     "metadata": {},
     "output_type": "display_data"
    },
    {
     "name": "stdout",
     "output_type": "stream",
     "text": [
      "\n",
      "epoch : 71/150, loss = 0.016642\n",
      "loss list : [0.04804488558731878, 0.030687242127059366, 0.028325845446923504, 0.02720706879883014, 0.026197104626680578, 0.02506364527089364, 0.02418971135069037, 0.023623952858835992, 0.02315334045349637, 0.022692977669922745, 0.0223407316309831, 0.021953678999543952, 0.02165310765328386, 0.021416172623405675, 0.02115680442532272, 0.02100152473496583, 0.02084396844801238, 0.020636780042191754, 0.02051124759995, 0.020336717957883235, 0.02022155877941138, 0.020074059445973094, 0.019988947690886154, 0.019879242368375936, 0.019749382172551608, 0.019670612006055195, 0.019544808889555808, 0.019445481379051954, 0.01937830664903459, 0.01924366190972383, 0.019150482391809946, 0.019032190895646506, 0.01888003138482304, 0.018828929815193653, 0.01865616335254877, 0.018618830723826158, 0.01848372513109156, 0.01840241544920465, 0.01832478072570489, 0.018254614250539133, 0.018168394033418363, 0.018128619056499904, 0.018011601644156078, 0.017976157841227396, 0.017933478970747548, 0.017847869465427706, 0.017784333562769015, 0.017751687368297058, 0.01770254150342644, 0.017661164033576808, 0.017595522664249172, 0.0175807897330207, 0.01750959302334453, 0.017447488114495032, 0.017393359371349025, 0.017360051211369847, 0.017334512602823697, 0.01726232144548117, 0.01719888771557823, 0.01716632525796247, 0.017111424910490548, 0.017058285385551278, 0.01700707954709487, 0.016992950610711675, 0.01690742601652432, 0.01684054723747856, 0.016870754855492002, 0.01675813262234144, 0.016758373363272232, 0.016703942211825983, 0.01664177611079591]\n"
     ]
    },
    {
     "data": {
      "application/vnd.jupyter.widget-view+json": {
       "model_id": "d03e295d8e2442088e61bb679167b666",
       "version_major": 2,
       "version_minor": 0
      },
      "text/plain": [
       "HBox(children=(FloatProgress(value=0.0, max=782.0), HTML(value='')))"
      ]
     },
     "metadata": {},
     "output_type": "display_data"
    },
    {
     "name": "stdout",
     "output_type": "stream",
     "text": [
      "\n",
      "epoch : 72/150, loss = 0.016657\n",
      "loss list : [0.04804488558731878, 0.030687242127059366, 0.028325845446923504, 0.02720706879883014, 0.026197104626680578, 0.02506364527089364, 0.02418971135069037, 0.023623952858835992, 0.02315334045349637, 0.022692977669922745, 0.0223407316309831, 0.021953678999543952, 0.02165310765328386, 0.021416172623405675, 0.02115680442532272, 0.02100152473496583, 0.02084396844801238, 0.020636780042191754, 0.02051124759995, 0.020336717957883235, 0.02022155877941138, 0.020074059445973094, 0.019988947690886154, 0.019879242368375936, 0.019749382172551608, 0.019670612006055195, 0.019544808889555808, 0.019445481379051954, 0.01937830664903459, 0.01924366190972383, 0.019150482391809946, 0.019032190895646506, 0.01888003138482304, 0.018828929815193653, 0.01865616335254877, 0.018618830723826158, 0.01848372513109156, 0.01840241544920465, 0.01832478072570489, 0.018254614250539133, 0.018168394033418363, 0.018128619056499904, 0.018011601644156078, 0.017976157841227396, 0.017933478970747548, 0.017847869465427706, 0.017784333562769015, 0.017751687368297058, 0.01770254150342644, 0.017661164033576808, 0.017595522664249172, 0.0175807897330207, 0.01750959302334453, 0.017447488114495032, 0.017393359371349025, 0.017360051211369847, 0.017334512602823697, 0.01726232144548117, 0.01719888771557823, 0.01716632525796247, 0.017111424910490548, 0.017058285385551278, 0.01700707954709487, 0.016992950610711675, 0.01690742601652432, 0.01684054723747856, 0.016870754855492002, 0.01675813262234144, 0.016758373363272232, 0.016703942211825983, 0.01664177611079591, 0.016656552917798006]\n"
     ]
    },
    {
     "data": {
      "application/vnd.jupyter.widget-view+json": {
       "model_id": "e6bccd3a1ecd431a8431e29388e68a05",
       "version_major": 2,
       "version_minor": 0
      },
      "text/plain": [
       "HBox(children=(FloatProgress(value=0.0, max=782.0), HTML(value='')))"
      ]
     },
     "metadata": {},
     "output_type": "display_data"
    },
    {
     "name": "stdout",
     "output_type": "stream",
     "text": [
      "\n",
      "epoch : 73/150, loss = 0.016556\n",
      "loss list : [0.04804488558731878, 0.030687242127059366, 0.028325845446923504, 0.02720706879883014, 0.026197104626680578, 0.02506364527089364, 0.02418971135069037, 0.023623952858835992, 0.02315334045349637, 0.022692977669922745, 0.0223407316309831, 0.021953678999543952, 0.02165310765328386, 0.021416172623405675, 0.02115680442532272, 0.02100152473496583, 0.02084396844801238, 0.020636780042191754, 0.02051124759995, 0.020336717957883235, 0.02022155877941138, 0.020074059445973094, 0.019988947690886154, 0.019879242368375936, 0.019749382172551608, 0.019670612006055195, 0.019544808889555808, 0.019445481379051954, 0.01937830664903459, 0.01924366190972383, 0.019150482391809946, 0.019032190895646506, 0.01888003138482304, 0.018828929815193653, 0.01865616335254877, 0.018618830723826158, 0.01848372513109156, 0.01840241544920465, 0.01832478072570489, 0.018254614250539133, 0.018168394033418363, 0.018128619056499904, 0.018011601644156078, 0.017976157841227396, 0.017933478970747548, 0.017847869465427706, 0.017784333562769015, 0.017751687368297058, 0.01770254150342644, 0.017661164033576808, 0.017595522664249172, 0.0175807897330207, 0.01750959302334453, 0.017447488114495032, 0.017393359371349025, 0.017360051211369847, 0.017334512602823697, 0.01726232144548117, 0.01719888771557823, 0.01716632525796247, 0.017111424910490548, 0.017058285385551278, 0.01700707954709487, 0.016992950610711675, 0.01690742601652432, 0.01684054723747856, 0.016870754855492002, 0.01675813262234144, 0.016758373363272232, 0.016703942211825983, 0.01664177611079591, 0.016656552917798006, 0.016555570619766747]\n"
     ]
    },
    {
     "data": {
      "application/vnd.jupyter.widget-view+json": {
       "model_id": "80a75cdd6b17460c984871a62f689ff2",
       "version_major": 2,
       "version_minor": 0
      },
      "text/plain": [
       "HBox(children=(FloatProgress(value=0.0, max=782.0), HTML(value='')))"
      ]
     },
     "metadata": {},
     "output_type": "display_data"
    },
    {
     "name": "stdout",
     "output_type": "stream",
     "text": [
      "\n",
      "epoch : 74/150, loss = 0.016551\n",
      "loss list : [0.04804488558731878, 0.030687242127059366, 0.028325845446923504, 0.02720706879883014, 0.026197104626680578, 0.02506364527089364, 0.02418971135069037, 0.023623952858835992, 0.02315334045349637, 0.022692977669922745, 0.0223407316309831, 0.021953678999543952, 0.02165310765328386, 0.021416172623405675, 0.02115680442532272, 0.02100152473496583, 0.02084396844801238, 0.020636780042191754, 0.02051124759995, 0.020336717957883235, 0.02022155877941138, 0.020074059445973094, 0.019988947690886154, 0.019879242368375936, 0.019749382172551608, 0.019670612006055195, 0.019544808889555808, 0.019445481379051954, 0.01937830664903459, 0.01924366190972383, 0.019150482391809946, 0.019032190895646506, 0.01888003138482304, 0.018828929815193653, 0.01865616335254877, 0.018618830723826158, 0.01848372513109156, 0.01840241544920465, 0.01832478072570489, 0.018254614250539133, 0.018168394033418363, 0.018128619056499904, 0.018011601644156078, 0.017976157841227396, 0.017933478970747548, 0.017847869465427706, 0.017784333562769015, 0.017751687368297058, 0.01770254150342644, 0.017661164033576808, 0.017595522664249172, 0.0175807897330207, 0.01750959302334453, 0.017447488114495032, 0.017393359371349025, 0.017360051211369847, 0.017334512602823697, 0.01726232144548117, 0.01719888771557823, 0.01716632525796247, 0.017111424910490548, 0.017058285385551278, 0.01700707954709487, 0.016992950610711675, 0.01690742601652432, 0.01684054723747856, 0.016870754855492002, 0.01675813262234144, 0.016758373363272232, 0.016703942211825983, 0.01664177611079591, 0.016656552917798006, 0.016555570619766747, 0.01655131136603139]\n"
     ]
    },
    {
     "data": {
      "application/vnd.jupyter.widget-view+json": {
       "model_id": "737412cceac547078c927de01442fa08",
       "version_major": 2,
       "version_minor": 0
      },
      "text/plain": [
       "HBox(children=(FloatProgress(value=0.0, max=782.0), HTML(value='')))"
      ]
     },
     "metadata": {},
     "output_type": "display_data"
    },
    {
     "name": "stdout",
     "output_type": "stream",
     "text": [
      "\n",
      "epoch : 75/150, loss = 0.016500\n",
      "loss list : [0.04804488558731878, 0.030687242127059366, 0.028325845446923504, 0.02720706879883014, 0.026197104626680578, 0.02506364527089364, 0.02418971135069037, 0.023623952858835992, 0.02315334045349637, 0.022692977669922745, 0.0223407316309831, 0.021953678999543952, 0.02165310765328386, 0.021416172623405675, 0.02115680442532272, 0.02100152473496583, 0.02084396844801238, 0.020636780042191754, 0.02051124759995, 0.020336717957883235, 0.02022155877941138, 0.020074059445973094, 0.019988947690886154, 0.019879242368375936, 0.019749382172551608, 0.019670612006055195, 0.019544808889555808, 0.019445481379051954, 0.01937830664903459, 0.01924366190972383, 0.019150482391809946, 0.019032190895646506, 0.01888003138482304, 0.018828929815193653, 0.01865616335254877, 0.018618830723826158, 0.01848372513109156, 0.01840241544920465, 0.01832478072570489, 0.018254614250539133, 0.018168394033418363, 0.018128619056499904, 0.018011601644156078, 0.017976157841227396, 0.017933478970747548, 0.017847869465427706, 0.017784333562769015, 0.017751687368297058, 0.01770254150342644, 0.017661164033576808, 0.017595522664249172, 0.0175807897330207, 0.01750959302334453, 0.017447488114495032, 0.017393359371349025, 0.017360051211369847, 0.017334512602823697, 0.01726232144548117, 0.01719888771557823, 0.01716632525796247, 0.017111424910490548, 0.017058285385551278, 0.01700707954709487, 0.016992950610711675, 0.01690742601652432, 0.01684054723747856, 0.016870754855492002, 0.01675813262234144, 0.016758373363272232, 0.016703942211825983, 0.01664177611079591, 0.016656552917798006, 0.016555570619766747, 0.01655131136603139, 0.01649975906366773]\n"
     ]
    },
    {
     "data": {
      "application/vnd.jupyter.widget-view+json": {
       "model_id": "e4e1f7197c204fbb801f773f06c495b2",
       "version_major": 2,
       "version_minor": 0
      },
      "text/plain": [
       "HBox(children=(FloatProgress(value=0.0, max=782.0), HTML(value='')))"
      ]
     },
     "metadata": {},
     "output_type": "display_data"
    },
    {
     "name": "stdout",
     "output_type": "stream",
     "text": [
      "\n",
      "epoch : 76/150, loss = 0.016440\n",
      "loss list : [0.04804488558731878, 0.030687242127059366, 0.028325845446923504, 0.02720706879883014, 0.026197104626680578, 0.02506364527089364, 0.02418971135069037, 0.023623952858835992, 0.02315334045349637, 0.022692977669922745, 0.0223407316309831, 0.021953678999543952, 0.02165310765328386, 0.021416172623405675, 0.02115680442532272, 0.02100152473496583, 0.02084396844801238, 0.020636780042191754, 0.02051124759995, 0.020336717957883235, 0.02022155877941138, 0.020074059445973094, 0.019988947690886154, 0.019879242368375936, 0.019749382172551608, 0.019670612006055195, 0.019544808889555808, 0.019445481379051954, 0.01937830664903459, 0.01924366190972383, 0.019150482391809946, 0.019032190895646506, 0.01888003138482304, 0.018828929815193653, 0.01865616335254877, 0.018618830723826158, 0.01848372513109156, 0.01840241544920465, 0.01832478072570489, 0.018254614250539133, 0.018168394033418363, 0.018128619056499904, 0.018011601644156078, 0.017976157841227396, 0.017933478970747548, 0.017847869465427706, 0.017784333562769015, 0.017751687368297058, 0.01770254150342644, 0.017661164033576808, 0.017595522664249172, 0.0175807897330207, 0.01750959302334453, 0.017447488114495032, 0.017393359371349025, 0.017360051211369847, 0.017334512602823697, 0.01726232144548117, 0.01719888771557823, 0.01716632525796247, 0.017111424910490548, 0.017058285385551278, 0.01700707954709487, 0.016992950610711675, 0.01690742601652432, 0.01684054723747856, 0.016870754855492002, 0.01675813262234144, 0.016758373363272232, 0.016703942211825983, 0.01664177611079591, 0.016656552917798006, 0.016555570619766747, 0.01655131136603139, 0.01649975906366773, 0.016440374342024403]\n"
     ]
    },
    {
     "data": {
      "application/vnd.jupyter.widget-view+json": {
       "model_id": "80610db07f5644a5826928f47b14d821",
       "version_major": 2,
       "version_minor": 0
      },
      "text/plain": [
       "HBox(children=(FloatProgress(value=0.0, max=782.0), HTML(value='')))"
      ]
     },
     "metadata": {},
     "output_type": "display_data"
    },
    {
     "name": "stdout",
     "output_type": "stream",
     "text": [
      "\n",
      "epoch : 77/150, loss = 0.016443\n",
      "loss list : [0.04804488558731878, 0.030687242127059366, 0.028325845446923504, 0.02720706879883014, 0.026197104626680578, 0.02506364527089364, 0.02418971135069037, 0.023623952858835992, 0.02315334045349637, 0.022692977669922745, 0.0223407316309831, 0.021953678999543952, 0.02165310765328386, 0.021416172623405675, 0.02115680442532272, 0.02100152473496583, 0.02084396844801238, 0.020636780042191754, 0.02051124759995, 0.020336717957883235, 0.02022155877941138, 0.020074059445973094, 0.019988947690886154, 0.019879242368375936, 0.019749382172551608, 0.019670612006055195, 0.019544808889555808, 0.019445481379051954, 0.01937830664903459, 0.01924366190972383, 0.019150482391809946, 0.019032190895646506, 0.01888003138482304, 0.018828929815193653, 0.01865616335254877, 0.018618830723826158, 0.01848372513109156, 0.01840241544920465, 0.01832478072570489, 0.018254614250539133, 0.018168394033418363, 0.018128619056499904, 0.018011601644156078, 0.017976157841227396, 0.017933478970747548, 0.017847869465427706, 0.017784333562769015, 0.017751687368297058, 0.01770254150342644, 0.017661164033576808, 0.017595522664249172, 0.0175807897330207, 0.01750959302334453, 0.017447488114495032, 0.017393359371349025, 0.017360051211369847, 0.017334512602823697, 0.01726232144548117, 0.01719888771557823, 0.01716632525796247, 0.017111424910490548, 0.017058285385551278, 0.01700707954709487, 0.016992950610711675, 0.01690742601652432, 0.01684054723747856, 0.016870754855492002, 0.01675813262234144, 0.016758373363272232, 0.016703942211825983, 0.01664177611079591, 0.016656552917798006, 0.016555570619766747, 0.01655131136603139, 0.01649975906366773, 0.016440374342024403, 0.016443462163457632]\n"
     ]
    },
    {
     "data": {
      "application/vnd.jupyter.widget-view+json": {
       "model_id": "1d5c28024b88484099af103d0bd60a0e",
       "version_major": 2,
       "version_minor": 0
      },
      "text/plain": [
       "HBox(children=(FloatProgress(value=0.0, max=782.0), HTML(value='')))"
      ]
     },
     "metadata": {},
     "output_type": "display_data"
    },
    {
     "name": "stdout",
     "output_type": "stream",
     "text": [
      "\n",
      "epoch : 78/150, loss = 0.016439\n",
      "loss list : [0.04804488558731878, 0.030687242127059366, 0.028325845446923504, 0.02720706879883014, 0.026197104626680578, 0.02506364527089364, 0.02418971135069037, 0.023623952858835992, 0.02315334045349637, 0.022692977669922745, 0.0223407316309831, 0.021953678999543952, 0.02165310765328386, 0.021416172623405675, 0.02115680442532272, 0.02100152473496583, 0.02084396844801238, 0.020636780042191754, 0.02051124759995, 0.020336717957883235, 0.02022155877941138, 0.020074059445973094, 0.019988947690886154, 0.019879242368375936, 0.019749382172551608, 0.019670612006055195, 0.019544808889555808, 0.019445481379051954, 0.01937830664903459, 0.01924366190972383, 0.019150482391809946, 0.019032190895646506, 0.01888003138482304, 0.018828929815193653, 0.01865616335254877, 0.018618830723826158, 0.01848372513109156, 0.01840241544920465, 0.01832478072570489, 0.018254614250539133, 0.018168394033418363, 0.018128619056499904, 0.018011601644156078, 0.017976157841227396, 0.017933478970747548, 0.017847869465427706, 0.017784333562769015, 0.017751687368297058, 0.01770254150342644, 0.017661164033576808, 0.017595522664249172, 0.0175807897330207, 0.01750959302334453, 0.017447488114495032, 0.017393359371349025, 0.017360051211369847, 0.017334512602823697, 0.01726232144548117, 0.01719888771557823, 0.01716632525796247, 0.017111424910490548, 0.017058285385551278, 0.01700707954709487, 0.016992950610711675, 0.01690742601652432, 0.01684054723747856, 0.016870754855492002, 0.01675813262234144, 0.016758373363272232, 0.016703942211825983, 0.01664177611079591, 0.016656552917798006, 0.016555570619766747, 0.01655131136603139, 0.01649975906366773, 0.016440374342024403, 0.016443462163457632, 0.01643902673731413]\n"
     ]
    },
    {
     "data": {
      "application/vnd.jupyter.widget-view+json": {
       "model_id": "261246c33c8e4798b106a62d2fb18e0f",
       "version_major": 2,
       "version_minor": 0
      },
      "text/plain": [
       "HBox(children=(FloatProgress(value=0.0, max=782.0), HTML(value='')))"
      ]
     },
     "metadata": {},
     "output_type": "display_data"
    },
    {
     "name": "stdout",
     "output_type": "stream",
     "text": [
      "\n",
      "epoch : 79/150, loss = 0.016347\n",
      "loss list : [0.04804488558731878, 0.030687242127059366, 0.028325845446923504, 0.02720706879883014, 0.026197104626680578, 0.02506364527089364, 0.02418971135069037, 0.023623952858835992, 0.02315334045349637, 0.022692977669922745, 0.0223407316309831, 0.021953678999543952, 0.02165310765328386, 0.021416172623405675, 0.02115680442532272, 0.02100152473496583, 0.02084396844801238, 0.020636780042191754, 0.02051124759995, 0.020336717957883235, 0.02022155877941138, 0.020074059445973094, 0.019988947690886154, 0.019879242368375936, 0.019749382172551608, 0.019670612006055195, 0.019544808889555808, 0.019445481379051954, 0.01937830664903459, 0.01924366190972383, 0.019150482391809946, 0.019032190895646506, 0.01888003138482304, 0.018828929815193653, 0.01865616335254877, 0.018618830723826158, 0.01848372513109156, 0.01840241544920465, 0.01832478072570489, 0.018254614250539133, 0.018168394033418363, 0.018128619056499904, 0.018011601644156078, 0.017976157841227396, 0.017933478970747548, 0.017847869465427706, 0.017784333562769015, 0.017751687368297058, 0.01770254150342644, 0.017661164033576808, 0.017595522664249172, 0.0175807897330207, 0.01750959302334453, 0.017447488114495032, 0.017393359371349025, 0.017360051211369847, 0.017334512602823697, 0.01726232144548117, 0.01719888771557823, 0.01716632525796247, 0.017111424910490548, 0.017058285385551278, 0.01700707954709487, 0.016992950610711675, 0.01690742601652432, 0.01684054723747856, 0.016870754855492002, 0.01675813262234144, 0.016758373363272232, 0.016703942211825983, 0.01664177611079591, 0.016656552917798006, 0.016555570619766747, 0.01655131136603139, 0.01649975906366773, 0.016440374342024403, 0.016443462163457632, 0.01643902673731413, 0.016346704668563118]\n"
     ]
    },
    {
     "data": {
      "application/vnd.jupyter.widget-view+json": {
       "model_id": "857b2635783442e8aa7ce9dbf41caf4e",
       "version_major": 2,
       "version_minor": 0
      },
      "text/plain": [
       "HBox(children=(FloatProgress(value=0.0, max=782.0), HTML(value='')))"
      ]
     },
     "metadata": {},
     "output_type": "display_data"
    },
    {
     "name": "stdout",
     "output_type": "stream",
     "text": [
      "\n",
      "epoch : 80/150, loss = 0.016348\n",
      "loss list : [0.04804488558731878, 0.030687242127059366, 0.028325845446923504, 0.02720706879883014, 0.026197104626680578, 0.02506364527089364, 0.02418971135069037, 0.023623952858835992, 0.02315334045349637, 0.022692977669922745, 0.0223407316309831, 0.021953678999543952, 0.02165310765328386, 0.021416172623405675, 0.02115680442532272, 0.02100152473496583, 0.02084396844801238, 0.020636780042191754, 0.02051124759995, 0.020336717957883235, 0.02022155877941138, 0.020074059445973094, 0.019988947690886154, 0.019879242368375936, 0.019749382172551608, 0.019670612006055195, 0.019544808889555808, 0.019445481379051954, 0.01937830664903459, 0.01924366190972383, 0.019150482391809946, 0.019032190895646506, 0.01888003138482304, 0.018828929815193653, 0.01865616335254877, 0.018618830723826158, 0.01848372513109156, 0.01840241544920465, 0.01832478072570489, 0.018254614250539133, 0.018168394033418363, 0.018128619056499904, 0.018011601644156078, 0.017976157841227396, 0.017933478970747548, 0.017847869465427706, 0.017784333562769015, 0.017751687368297058, 0.01770254150342644, 0.017661164033576808, 0.017595522664249172, 0.0175807897330207, 0.01750959302334453, 0.017447488114495032, 0.017393359371349025, 0.017360051211369847, 0.017334512602823697, 0.01726232144548117, 0.01719888771557823, 0.01716632525796247, 0.017111424910490548, 0.017058285385551278, 0.01700707954709487, 0.016992950610711675, 0.01690742601652432, 0.01684054723747856, 0.016870754855492002, 0.01675813262234144, 0.016758373363272232, 0.016703942211825983, 0.01664177611079591, 0.016656552917798006, 0.016555570619766747, 0.01655131136603139, 0.01649975906366773, 0.016440374342024403, 0.016443462163457632, 0.01643902673731413, 0.016346704668563118, 0.01634819275649536]\n"
     ]
    },
    {
     "data": {
      "application/vnd.jupyter.widget-view+json": {
       "model_id": "d7c0e2ef5f7c4e20bcec612ba53666d4",
       "version_major": 2,
       "version_minor": 0
      },
      "text/plain": [
       "HBox(children=(FloatProgress(value=0.0, max=782.0), HTML(value='')))"
      ]
     },
     "metadata": {},
     "output_type": "display_data"
    },
    {
     "name": "stdout",
     "output_type": "stream",
     "text": [
      "\n",
      "epoch : 81/150, loss = 0.016293\n",
      "loss list : [0.04804488558731878, 0.030687242127059366, 0.028325845446923504, 0.02720706879883014, 0.026197104626680578, 0.02506364527089364, 0.02418971135069037, 0.023623952858835992, 0.02315334045349637, 0.022692977669922745, 0.0223407316309831, 0.021953678999543952, 0.02165310765328386, 0.021416172623405675, 0.02115680442532272, 0.02100152473496583, 0.02084396844801238, 0.020636780042191754, 0.02051124759995, 0.020336717957883235, 0.02022155877941138, 0.020074059445973094, 0.019988947690886154, 0.019879242368375936, 0.019749382172551608, 0.019670612006055195, 0.019544808889555808, 0.019445481379051954, 0.01937830664903459, 0.01924366190972383, 0.019150482391809946, 0.019032190895646506, 0.01888003138482304, 0.018828929815193653, 0.01865616335254877, 0.018618830723826158, 0.01848372513109156, 0.01840241544920465, 0.01832478072570489, 0.018254614250539133, 0.018168394033418363, 0.018128619056499904, 0.018011601644156078, 0.017976157841227396, 0.017933478970747548, 0.017847869465427706, 0.017784333562769015, 0.017751687368297058, 0.01770254150342644, 0.017661164033576808, 0.017595522664249172, 0.0175807897330207, 0.01750959302334453, 0.017447488114495032, 0.017393359371349025, 0.017360051211369847, 0.017334512602823697, 0.01726232144548117, 0.01719888771557823, 0.01716632525796247, 0.017111424910490548, 0.017058285385551278, 0.01700707954709487, 0.016992950610711675, 0.01690742601652432, 0.01684054723747856, 0.016870754855492002, 0.01675813262234144, 0.016758373363272232, 0.016703942211825983, 0.01664177611079591, 0.016656552917798006, 0.016555570619766747, 0.01655131136603139, 0.01649975906366773, 0.016440374342024403, 0.016443462163457632, 0.01643902673731413, 0.016346704668563118, 0.01634819275649536, 0.016293486905381883]\n"
     ]
    },
    {
     "data": {
      "application/vnd.jupyter.widget-view+json": {
       "model_id": "2d04b406689e43e081fe11e8c0a35398",
       "version_major": 2,
       "version_minor": 0
      },
      "text/plain": [
       "HBox(children=(FloatProgress(value=0.0, max=782.0), HTML(value='')))"
      ]
     },
     "metadata": {},
     "output_type": "display_data"
    },
    {
     "name": "stdout",
     "output_type": "stream",
     "text": [
      "\n",
      "epoch : 82/150, loss = 0.016342\n",
      "loss list : [0.04804488558731878, 0.030687242127059366, 0.028325845446923504, 0.02720706879883014, 0.026197104626680578, 0.02506364527089364, 0.02418971135069037, 0.023623952858835992, 0.02315334045349637, 0.022692977669922745, 0.0223407316309831, 0.021953678999543952, 0.02165310765328386, 0.021416172623405675, 0.02115680442532272, 0.02100152473496583, 0.02084396844801238, 0.020636780042191754, 0.02051124759995, 0.020336717957883235, 0.02022155877941138, 0.020074059445973094, 0.019988947690886154, 0.019879242368375936, 0.019749382172551608, 0.019670612006055195, 0.019544808889555808, 0.019445481379051954, 0.01937830664903459, 0.01924366190972383, 0.019150482391809946, 0.019032190895646506, 0.01888003138482304, 0.018828929815193653, 0.01865616335254877, 0.018618830723826158, 0.01848372513109156, 0.01840241544920465, 0.01832478072570489, 0.018254614250539133, 0.018168394033418363, 0.018128619056499904, 0.018011601644156078, 0.017976157841227396, 0.017933478970747548, 0.017847869465427706, 0.017784333562769015, 0.017751687368297058, 0.01770254150342644, 0.017661164033576808, 0.017595522664249172, 0.0175807897330207, 0.01750959302334453, 0.017447488114495032, 0.017393359371349025, 0.017360051211369847, 0.017334512602823697, 0.01726232144548117, 0.01719888771557823, 0.01716632525796247, 0.017111424910490548, 0.017058285385551278, 0.01700707954709487, 0.016992950610711675, 0.01690742601652432, 0.01684054723747856, 0.016870754855492002, 0.01675813262234144, 0.016758373363272232, 0.016703942211825983, 0.01664177611079591, 0.016656552917798006, 0.016555570619766747, 0.01655131136603139, 0.01649975906366773, 0.016440374342024403, 0.016443462163457632, 0.01643902673731413, 0.016346704668563118, 0.01634819275649536, 0.016293486905381883, 0.016342016464561376]\n"
     ]
    },
    {
     "data": {
      "application/vnd.jupyter.widget-view+json": {
       "model_id": "f9cdd6d6a6714a7abb285db798e85956",
       "version_major": 2,
       "version_minor": 0
      },
      "text/plain": [
       "HBox(children=(FloatProgress(value=0.0, max=782.0), HTML(value='')))"
      ]
     },
     "metadata": {},
     "output_type": "display_data"
    },
    {
     "name": "stdout",
     "output_type": "stream",
     "text": [
      "\n",
      "epoch : 83/150, loss = 0.016223\n",
      "loss list : [0.04804488558731878, 0.030687242127059366, 0.028325845446923504, 0.02720706879883014, 0.026197104626680578, 0.02506364527089364, 0.02418971135069037, 0.023623952858835992, 0.02315334045349637, 0.022692977669922745, 0.0223407316309831, 0.021953678999543952, 0.02165310765328386, 0.021416172623405675, 0.02115680442532272, 0.02100152473496583, 0.02084396844801238, 0.020636780042191754, 0.02051124759995, 0.020336717957883235, 0.02022155877941138, 0.020074059445973094, 0.019988947690886154, 0.019879242368375936, 0.019749382172551608, 0.019670612006055195, 0.019544808889555808, 0.019445481379051954, 0.01937830664903459, 0.01924366190972383, 0.019150482391809946, 0.019032190895646506, 0.01888003138482304, 0.018828929815193653, 0.01865616335254877, 0.018618830723826158, 0.01848372513109156, 0.01840241544920465, 0.01832478072570489, 0.018254614250539133, 0.018168394033418363, 0.018128619056499904, 0.018011601644156078, 0.017976157841227396, 0.017933478970747548, 0.017847869465427706, 0.017784333562769015, 0.017751687368297058, 0.01770254150342644, 0.017661164033576808, 0.017595522664249172, 0.0175807897330207, 0.01750959302334453, 0.017447488114495032, 0.017393359371349025, 0.017360051211369847, 0.017334512602823697, 0.01726232144548117, 0.01719888771557823, 0.01716632525796247, 0.017111424910490548, 0.017058285385551278, 0.01700707954709487, 0.016992950610711675, 0.01690742601652432, 0.01684054723747856, 0.016870754855492002, 0.01675813262234144, 0.016758373363272232, 0.016703942211825983, 0.01664177611079591, 0.016656552917798006, 0.016555570619766747, 0.01655131136603139, 0.01649975906366773, 0.016440374342024403, 0.016443462163457632, 0.01643902673731413, 0.016346704668563118, 0.01634819275649536, 0.016293486905381883, 0.016342016464561376, 0.016222792974127757]\n"
     ]
    },
    {
     "data": {
      "application/vnd.jupyter.widget-view+json": {
       "model_id": "57f27e17b2af46cb92a78a6c9e70e4a0",
       "version_major": 2,
       "version_minor": 0
      },
      "text/plain": [
       "HBox(children=(FloatProgress(value=0.0, max=782.0), HTML(value='')))"
      ]
     },
     "metadata": {},
     "output_type": "display_data"
    },
    {
     "name": "stdout",
     "output_type": "stream",
     "text": [
      "\n",
      "epoch : 84/150, loss = 0.016218\n",
      "loss list : [0.04804488558731878, 0.030687242127059366, 0.028325845446923504, 0.02720706879883014, 0.026197104626680578, 0.02506364527089364, 0.02418971135069037, 0.023623952858835992, 0.02315334045349637, 0.022692977669922745, 0.0223407316309831, 0.021953678999543952, 0.02165310765328386, 0.021416172623405675, 0.02115680442532272, 0.02100152473496583, 0.02084396844801238, 0.020636780042191754, 0.02051124759995, 0.020336717957883235, 0.02022155877941138, 0.020074059445973094, 0.019988947690886154, 0.019879242368375936, 0.019749382172551608, 0.019670612006055195, 0.019544808889555808, 0.019445481379051954, 0.01937830664903459, 0.01924366190972383, 0.019150482391809946, 0.019032190895646506, 0.01888003138482304, 0.018828929815193653, 0.01865616335254877, 0.018618830723826158, 0.01848372513109156, 0.01840241544920465, 0.01832478072570489, 0.018254614250539133, 0.018168394033418363, 0.018128619056499904, 0.018011601644156078, 0.017976157841227396, 0.017933478970747548, 0.017847869465427706, 0.017784333562769015, 0.017751687368297058, 0.01770254150342644, 0.017661164033576808, 0.017595522664249172, 0.0175807897330207, 0.01750959302334453, 0.017447488114495032, 0.017393359371349025, 0.017360051211369847, 0.017334512602823697, 0.01726232144548117, 0.01719888771557823, 0.01716632525796247, 0.017111424910490548, 0.017058285385551278, 0.01700707954709487, 0.016992950610711675, 0.01690742601652432, 0.01684054723747856, 0.016870754855492002, 0.01675813262234144, 0.016758373363272232, 0.016703942211825983, 0.01664177611079591, 0.016656552917798006, 0.016555570619766747, 0.01655131136603139, 0.01649975906366773, 0.016440374342024403, 0.016443462163457632, 0.01643902673731413, 0.016346704668563118, 0.01634819275649536, 0.016293486905381883, 0.016342016464561376, 0.016222792974127757, 0.016217800152614294]\n"
     ]
    },
    {
     "data": {
      "application/vnd.jupyter.widget-view+json": {
       "model_id": "ef6ed2a9921e4d5e84e23155cdf2cca9",
       "version_major": 2,
       "version_minor": 0
      },
      "text/plain": [
       "HBox(children=(FloatProgress(value=0.0, max=782.0), HTML(value='')))"
      ]
     },
     "metadata": {},
     "output_type": "display_data"
    },
    {
     "name": "stdout",
     "output_type": "stream",
     "text": [
      "\n",
      "epoch : 85/150, loss = 0.016263\n",
      "loss list : [0.04804488558731878, 0.030687242127059366, 0.028325845446923504, 0.02720706879883014, 0.026197104626680578, 0.02506364527089364, 0.02418971135069037, 0.023623952858835992, 0.02315334045349637, 0.022692977669922745, 0.0223407316309831, 0.021953678999543952, 0.02165310765328386, 0.021416172623405675, 0.02115680442532272, 0.02100152473496583, 0.02084396844801238, 0.020636780042191754, 0.02051124759995, 0.020336717957883235, 0.02022155877941138, 0.020074059445973094, 0.019988947690886154, 0.019879242368375936, 0.019749382172551608, 0.019670612006055195, 0.019544808889555808, 0.019445481379051954, 0.01937830664903459, 0.01924366190972383, 0.019150482391809946, 0.019032190895646506, 0.01888003138482304, 0.018828929815193653, 0.01865616335254877, 0.018618830723826158, 0.01848372513109156, 0.01840241544920465, 0.01832478072570489, 0.018254614250539133, 0.018168394033418363, 0.018128619056499904, 0.018011601644156078, 0.017976157841227396, 0.017933478970747548, 0.017847869465427706, 0.017784333562769015, 0.017751687368297058, 0.01770254150342644, 0.017661164033576808, 0.017595522664249172, 0.0175807897330207, 0.01750959302334453, 0.017447488114495032, 0.017393359371349025, 0.017360051211369847, 0.017334512602823697, 0.01726232144548117, 0.01719888771557823, 0.01716632525796247, 0.017111424910490548, 0.017058285385551278, 0.01700707954709487, 0.016992950610711675, 0.01690742601652432, 0.01684054723747856, 0.016870754855492002, 0.01675813262234144, 0.016758373363272232, 0.016703942211825983, 0.01664177611079591, 0.016656552917798006, 0.016555570619766747, 0.01655131136603139, 0.01649975906366773, 0.016440374342024403, 0.016443462163457632, 0.01643902673731413, 0.016346704668563118, 0.01634819275649536, 0.016293486905381883, 0.016342016464561376, 0.016222792974127757, 0.016217800152614294, 0.016262707662532853]\n"
     ]
    },
    {
     "data": {
      "application/vnd.jupyter.widget-view+json": {
       "model_id": "80007f174e6c45bda8bf9430e542f518",
       "version_major": 2,
       "version_minor": 0
      },
      "text/plain": [
       "HBox(children=(FloatProgress(value=0.0, max=782.0), HTML(value='')))"
      ]
     },
     "metadata": {},
     "output_type": "display_data"
    },
    {
     "name": "stdout",
     "output_type": "stream",
     "text": [
      "\n",
      "epoch : 86/150, loss = 0.016152\n",
      "loss list : [0.04804488558731878, 0.030687242127059366, 0.028325845446923504, 0.02720706879883014, 0.026197104626680578, 0.02506364527089364, 0.02418971135069037, 0.023623952858835992, 0.02315334045349637, 0.022692977669922745, 0.0223407316309831, 0.021953678999543952, 0.02165310765328386, 0.021416172623405675, 0.02115680442532272, 0.02100152473496583, 0.02084396844801238, 0.020636780042191754, 0.02051124759995, 0.020336717957883235, 0.02022155877941138, 0.020074059445973094, 0.019988947690886154, 0.019879242368375936, 0.019749382172551608, 0.019670612006055195, 0.019544808889555808, 0.019445481379051954, 0.01937830664903459, 0.01924366190972383, 0.019150482391809946, 0.019032190895646506, 0.01888003138482304, 0.018828929815193653, 0.01865616335254877, 0.018618830723826158, 0.01848372513109156, 0.01840241544920465, 0.01832478072570489, 0.018254614250539133, 0.018168394033418363, 0.018128619056499904, 0.018011601644156078, 0.017976157841227396, 0.017933478970747548, 0.017847869465427706, 0.017784333562769015, 0.017751687368297058, 0.01770254150342644, 0.017661164033576808, 0.017595522664249172, 0.0175807897330207, 0.01750959302334453, 0.017447488114495032, 0.017393359371349025, 0.017360051211369847, 0.017334512602823697, 0.01726232144548117, 0.01719888771557823, 0.01716632525796247, 0.017111424910490548, 0.017058285385551278, 0.01700707954709487, 0.016992950610711675, 0.01690742601652432, 0.01684054723747856, 0.016870754855492002, 0.01675813262234144, 0.016758373363272232, 0.016703942211825983, 0.01664177611079591, 0.016656552917798006, 0.016555570619766747, 0.01655131136603139, 0.01649975906366773, 0.016440374342024403, 0.016443462163457632, 0.01643902673731413, 0.016346704668563118, 0.01634819275649536, 0.016293486905381883, 0.016342016464561376, 0.016222792974127757, 0.016217800152614294, 0.016262707662532853, 0.016152119860672356]\n"
     ]
    },
    {
     "data": {
      "application/vnd.jupyter.widget-view+json": {
       "model_id": "d2733645c9004f52a2097c1a518033f1",
       "version_major": 2,
       "version_minor": 0
      },
      "text/plain": [
       "HBox(children=(FloatProgress(value=0.0, max=782.0), HTML(value='')))"
      ]
     },
     "metadata": {},
     "output_type": "display_data"
    },
    {
     "name": "stdout",
     "output_type": "stream",
     "text": [
      "\n",
      "epoch : 87/150, loss = 0.016141\n",
      "loss list : [0.04804488558731878, 0.030687242127059366, 0.028325845446923504, 0.02720706879883014, 0.026197104626680578, 0.02506364527089364, 0.02418971135069037, 0.023623952858835992, 0.02315334045349637, 0.022692977669922745, 0.0223407316309831, 0.021953678999543952, 0.02165310765328386, 0.021416172623405675, 0.02115680442532272, 0.02100152473496583, 0.02084396844801238, 0.020636780042191754, 0.02051124759995, 0.020336717957883235, 0.02022155877941138, 0.020074059445973094, 0.019988947690886154, 0.019879242368375936, 0.019749382172551608, 0.019670612006055195, 0.019544808889555808, 0.019445481379051954, 0.01937830664903459, 0.01924366190972383, 0.019150482391809946, 0.019032190895646506, 0.01888003138482304, 0.018828929815193653, 0.01865616335254877, 0.018618830723826158, 0.01848372513109156, 0.01840241544920465, 0.01832478072570489, 0.018254614250539133, 0.018168394033418363, 0.018128619056499904, 0.018011601644156078, 0.017976157841227396, 0.017933478970747548, 0.017847869465427706, 0.017784333562769015, 0.017751687368297058, 0.01770254150342644, 0.017661164033576808, 0.017595522664249172, 0.0175807897330207, 0.01750959302334453, 0.017447488114495032, 0.017393359371349025, 0.017360051211369847, 0.017334512602823697, 0.01726232144548117, 0.01719888771557823, 0.01716632525796247, 0.017111424910490548, 0.017058285385551278, 0.01700707954709487, 0.016992950610711675, 0.01690742601652432, 0.01684054723747856, 0.016870754855492002, 0.01675813262234144, 0.016758373363272232, 0.016703942211825983, 0.01664177611079591, 0.016656552917798006, 0.016555570619766747, 0.01655131136603139, 0.01649975906366773, 0.016440374342024403, 0.016443462163457632, 0.01643902673731413, 0.016346704668563118, 0.01634819275649536, 0.016293486905381883, 0.016342016464561376, 0.016222792974127757, 0.016217800152614294, 0.016262707662532853, 0.016152119860672356, 0.01614145733073087]\n"
     ]
    },
    {
     "data": {
      "application/vnd.jupyter.widget-view+json": {
       "model_id": "f72717f16e074f7ba3efbb351cc38f50",
       "version_major": 2,
       "version_minor": 0
      },
      "text/plain": [
       "HBox(children=(FloatProgress(value=0.0, max=782.0), HTML(value='')))"
      ]
     },
     "metadata": {},
     "output_type": "display_data"
    },
    {
     "name": "stdout",
     "output_type": "stream",
     "text": [
      "\n",
      "epoch : 88/150, loss = 0.016109\n",
      "loss list : [0.04804488558731878, 0.030687242127059366, 0.028325845446923504, 0.02720706879883014, 0.026197104626680578, 0.02506364527089364, 0.02418971135069037, 0.023623952858835992, 0.02315334045349637, 0.022692977669922745, 0.0223407316309831, 0.021953678999543952, 0.02165310765328386, 0.021416172623405675, 0.02115680442532272, 0.02100152473496583, 0.02084396844801238, 0.020636780042191754, 0.02051124759995, 0.020336717957883235, 0.02022155877941138, 0.020074059445973094, 0.019988947690886154, 0.019879242368375936, 0.019749382172551608, 0.019670612006055195, 0.019544808889555808, 0.019445481379051954, 0.01937830664903459, 0.01924366190972383, 0.019150482391809946, 0.019032190895646506, 0.01888003138482304, 0.018828929815193653, 0.01865616335254877, 0.018618830723826158, 0.01848372513109156, 0.01840241544920465, 0.01832478072570489, 0.018254614250539133, 0.018168394033418363, 0.018128619056499904, 0.018011601644156078, 0.017976157841227396, 0.017933478970747548, 0.017847869465427706, 0.017784333562769015, 0.017751687368297058, 0.01770254150342644, 0.017661164033576808, 0.017595522664249172, 0.0175807897330207, 0.01750959302334453, 0.017447488114495032, 0.017393359371349025, 0.017360051211369847, 0.017334512602823697, 0.01726232144548117, 0.01719888771557823, 0.01716632525796247, 0.017111424910490548, 0.017058285385551278, 0.01700707954709487, 0.016992950610711675, 0.01690742601652432, 0.01684054723747856, 0.016870754855492002, 0.01675813262234144, 0.016758373363272232, 0.016703942211825983, 0.01664177611079591, 0.016656552917798006, 0.016555570619766747, 0.01655131136603139, 0.01649975906366773, 0.016440374342024403, 0.016443462163457632, 0.01643902673731413, 0.016346704668563118, 0.01634819275649536, 0.016293486905381883, 0.016342016464561376, 0.016222792974127757, 0.016217800152614294, 0.016262707662532853, 0.016152119860672356, 0.01614145733073087, 0.016109228615298905]\n"
     ]
    },
    {
     "data": {
      "application/vnd.jupyter.widget-view+json": {
       "model_id": "eb1bac4c4ab24ea2bd230bb3fd0d664e",
       "version_major": 2,
       "version_minor": 0
      },
      "text/plain": [
       "HBox(children=(FloatProgress(value=0.0, max=782.0), HTML(value='')))"
      ]
     },
     "metadata": {},
     "output_type": "display_data"
    },
    {
     "name": "stdout",
     "output_type": "stream",
     "text": [
      "\n",
      "epoch : 89/150, loss = 0.016094\n",
      "loss list : [0.04804488558731878, 0.030687242127059366, 0.028325845446923504, 0.02720706879883014, 0.026197104626680578, 0.02506364527089364, 0.02418971135069037, 0.023623952858835992, 0.02315334045349637, 0.022692977669922745, 0.0223407316309831, 0.021953678999543952, 0.02165310765328386, 0.021416172623405675, 0.02115680442532272, 0.02100152473496583, 0.02084396844801238, 0.020636780042191754, 0.02051124759995, 0.020336717957883235, 0.02022155877941138, 0.020074059445973094, 0.019988947690886154, 0.019879242368375936, 0.019749382172551608, 0.019670612006055195, 0.019544808889555808, 0.019445481379051954, 0.01937830664903459, 0.01924366190972383, 0.019150482391809946, 0.019032190895646506, 0.01888003138482304, 0.018828929815193653, 0.01865616335254877, 0.018618830723826158, 0.01848372513109156, 0.01840241544920465, 0.01832478072570489, 0.018254614250539133, 0.018168394033418363, 0.018128619056499904, 0.018011601644156078, 0.017976157841227396, 0.017933478970747548, 0.017847869465427706, 0.017784333562769015, 0.017751687368297058, 0.01770254150342644, 0.017661164033576808, 0.017595522664249172, 0.0175807897330207, 0.01750959302334453, 0.017447488114495032, 0.017393359371349025, 0.017360051211369847, 0.017334512602823697, 0.01726232144548117, 0.01719888771557823, 0.01716632525796247, 0.017111424910490548, 0.017058285385551278, 0.01700707954709487, 0.016992950610711675, 0.01690742601652432, 0.01684054723747856, 0.016870754855492002, 0.01675813262234144, 0.016758373363272232, 0.016703942211825983, 0.01664177611079591, 0.016656552917798006, 0.016555570619766747, 0.01655131136603139, 0.01649975906366773, 0.016440374342024403, 0.016443462163457632, 0.01643902673731413, 0.016346704668563118, 0.01634819275649536, 0.016293486905381883, 0.016342016464561376, 0.016222792974127757, 0.016217800152614294, 0.016262707662532853, 0.016152119860672356, 0.01614145733073087, 0.016109228615298905, 0.016094421687990884]\n"
     ]
    },
    {
     "data": {
      "application/vnd.jupyter.widget-view+json": {
       "model_id": "3af3c8c8cdff4488a3f87b1c7c424473",
       "version_major": 2,
       "version_minor": 0
      },
      "text/plain": [
       "HBox(children=(FloatProgress(value=0.0, max=782.0), HTML(value='')))"
      ]
     },
     "metadata": {},
     "output_type": "display_data"
    },
    {
     "name": "stdout",
     "output_type": "stream",
     "text": [
      "\n",
      "epoch : 90/150, loss = 0.016057\n",
      "loss list : [0.04804488558731878, 0.030687242127059366, 0.028325845446923504, 0.02720706879883014, 0.026197104626680578, 0.02506364527089364, 0.02418971135069037, 0.023623952858835992, 0.02315334045349637, 0.022692977669922745, 0.0223407316309831, 0.021953678999543952, 0.02165310765328386, 0.021416172623405675, 0.02115680442532272, 0.02100152473496583, 0.02084396844801238, 0.020636780042191754, 0.02051124759995, 0.020336717957883235, 0.02022155877941138, 0.020074059445973094, 0.019988947690886154, 0.019879242368375936, 0.019749382172551608, 0.019670612006055195, 0.019544808889555808, 0.019445481379051954, 0.01937830664903459, 0.01924366190972383, 0.019150482391809946, 0.019032190895646506, 0.01888003138482304, 0.018828929815193653, 0.01865616335254877, 0.018618830723826158, 0.01848372513109156, 0.01840241544920465, 0.01832478072570489, 0.018254614250539133, 0.018168394033418363, 0.018128619056499904, 0.018011601644156078, 0.017976157841227396, 0.017933478970747548, 0.017847869465427706, 0.017784333562769015, 0.017751687368297058, 0.01770254150342644, 0.017661164033576808, 0.017595522664249172, 0.0175807897330207, 0.01750959302334453, 0.017447488114495032, 0.017393359371349025, 0.017360051211369847, 0.017334512602823697, 0.01726232144548117, 0.01719888771557823, 0.01716632525796247, 0.017111424910490548, 0.017058285385551278, 0.01700707954709487, 0.016992950610711675, 0.01690742601652432, 0.01684054723747856, 0.016870754855492002, 0.01675813262234144, 0.016758373363272232, 0.016703942211825983, 0.01664177611079591, 0.016656552917798006, 0.016555570619766747, 0.01655131136603139, 0.01649975906366773, 0.016440374342024403, 0.016443462163457632, 0.01643902673731413, 0.016346704668563118, 0.01634819275649536, 0.016293486905381883, 0.016342016464561376, 0.016222792974127757, 0.016217800152614294, 0.016262707662532853, 0.016152119860672356, 0.01614145733073087, 0.016109228615298905, 0.016094421687990884, 0.016056512931452306]\n"
     ]
    },
    {
     "data": {
      "application/vnd.jupyter.widget-view+json": {
       "model_id": "69a911c5ced1456f88922d5306f77af6",
       "version_major": 2,
       "version_minor": 0
      },
      "text/plain": [
       "HBox(children=(FloatProgress(value=0.0, max=782.0), HTML(value='')))"
      ]
     },
     "metadata": {},
     "output_type": "display_data"
    },
    {
     "name": "stdout",
     "output_type": "stream",
     "text": [
      "\n",
      "epoch : 91/150, loss = 0.016022\n",
      "loss list : [0.04804488558731878, 0.030687242127059366, 0.028325845446923504, 0.02720706879883014, 0.026197104626680578, 0.02506364527089364, 0.02418971135069037, 0.023623952858835992, 0.02315334045349637, 0.022692977669922745, 0.0223407316309831, 0.021953678999543952, 0.02165310765328386, 0.021416172623405675, 0.02115680442532272, 0.02100152473496583, 0.02084396844801238, 0.020636780042191754, 0.02051124759995, 0.020336717957883235, 0.02022155877941138, 0.020074059445973094, 0.019988947690886154, 0.019879242368375936, 0.019749382172551608, 0.019670612006055195, 0.019544808889555808, 0.019445481379051954, 0.01937830664903459, 0.01924366190972383, 0.019150482391809946, 0.019032190895646506, 0.01888003138482304, 0.018828929815193653, 0.01865616335254877, 0.018618830723826158, 0.01848372513109156, 0.01840241544920465, 0.01832478072570489, 0.018254614250539133, 0.018168394033418363, 0.018128619056499904, 0.018011601644156078, 0.017976157841227396, 0.017933478970747548, 0.017847869465427706, 0.017784333562769015, 0.017751687368297058, 0.01770254150342644, 0.017661164033576808, 0.017595522664249172, 0.0175807897330207, 0.01750959302334453, 0.017447488114495032, 0.017393359371349025, 0.017360051211369847, 0.017334512602823697, 0.01726232144548117, 0.01719888771557823, 0.01716632525796247, 0.017111424910490548, 0.017058285385551278, 0.01700707954709487, 0.016992950610711675, 0.01690742601652432, 0.01684054723747856, 0.016870754855492002, 0.01675813262234144, 0.016758373363272232, 0.016703942211825983, 0.01664177611079591, 0.016656552917798006, 0.016555570619766747, 0.01655131136603139, 0.01649975906366773, 0.016440374342024403, 0.016443462163457632, 0.01643902673731413, 0.016346704668563118, 0.01634819275649536, 0.016293486905381883, 0.016342016464561376, 0.016222792974127757, 0.016217800152614294, 0.016262707662532853, 0.016152119860672356, 0.01614145733073087, 0.016109228615298905, 0.016094421687990884, 0.016056512931452306, 0.016021581211834765]\n"
     ]
    },
    {
     "data": {
      "application/vnd.jupyter.widget-view+json": {
       "model_id": "d386945db2c64c9fab00bede286328f1",
       "version_major": 2,
       "version_minor": 0
      },
      "text/plain": [
       "HBox(children=(FloatProgress(value=0.0, max=782.0), HTML(value='')))"
      ]
     },
     "metadata": {},
     "output_type": "display_data"
    },
    {
     "name": "stdout",
     "output_type": "stream",
     "text": [
      "\n",
      "epoch : 92/150, loss = 0.016052\n",
      "loss list : [0.04804488558731878, 0.030687242127059366, 0.028325845446923504, 0.02720706879883014, 0.026197104626680578, 0.02506364527089364, 0.02418971135069037, 0.023623952858835992, 0.02315334045349637, 0.022692977669922745, 0.0223407316309831, 0.021953678999543952, 0.02165310765328386, 0.021416172623405675, 0.02115680442532272, 0.02100152473496583, 0.02084396844801238, 0.020636780042191754, 0.02051124759995, 0.020336717957883235, 0.02022155877941138, 0.020074059445973094, 0.019988947690886154, 0.019879242368375936, 0.019749382172551608, 0.019670612006055195, 0.019544808889555808, 0.019445481379051954, 0.01937830664903459, 0.01924366190972383, 0.019150482391809946, 0.019032190895646506, 0.01888003138482304, 0.018828929815193653, 0.01865616335254877, 0.018618830723826158, 0.01848372513109156, 0.01840241544920465, 0.01832478072570489, 0.018254614250539133, 0.018168394033418363, 0.018128619056499904, 0.018011601644156078, 0.017976157841227396, 0.017933478970747548, 0.017847869465427706, 0.017784333562769015, 0.017751687368297058, 0.01770254150342644, 0.017661164033576808, 0.017595522664249172, 0.0175807897330207, 0.01750959302334453, 0.017447488114495032, 0.017393359371349025, 0.017360051211369847, 0.017334512602823697, 0.01726232144548117, 0.01719888771557823, 0.01716632525796247, 0.017111424910490548, 0.017058285385551278, 0.01700707954709487, 0.016992950610711675, 0.01690742601652432, 0.01684054723747856, 0.016870754855492002, 0.01675813262234144, 0.016758373363272232, 0.016703942211825983, 0.01664177611079591, 0.016656552917798006, 0.016555570619766747, 0.01655131136603139, 0.01649975906366773, 0.016440374342024403, 0.016443462163457632, 0.01643902673731413, 0.016346704668563118, 0.01634819275649536, 0.016293486905381883, 0.016342016464561376, 0.016222792974127757, 0.016217800152614294, 0.016262707662532853, 0.016152119860672356, 0.01614145733073087, 0.016109228615298905, 0.016094421687990884, 0.016056512931452306, 0.016021581211834765, 0.016052494774741667]\n"
     ]
    },
    {
     "data": {
      "application/vnd.jupyter.widget-view+json": {
       "model_id": "2b0c592a402c4101a91192be6c632d62",
       "version_major": 2,
       "version_minor": 0
      },
      "text/plain": [
       "HBox(children=(FloatProgress(value=0.0, max=782.0), HTML(value='')))"
      ]
     },
     "metadata": {},
     "output_type": "display_data"
    },
    {
     "name": "stdout",
     "output_type": "stream",
     "text": [
      "\n",
      "epoch : 93/150, loss = 0.015990\n",
      "loss list : [0.04804488558731878, 0.030687242127059366, 0.028325845446923504, 0.02720706879883014, 0.026197104626680578, 0.02506364527089364, 0.02418971135069037, 0.023623952858835992, 0.02315334045349637, 0.022692977669922745, 0.0223407316309831, 0.021953678999543952, 0.02165310765328386, 0.021416172623405675, 0.02115680442532272, 0.02100152473496583, 0.02084396844801238, 0.020636780042191754, 0.02051124759995, 0.020336717957883235, 0.02022155877941138, 0.020074059445973094, 0.019988947690886154, 0.019879242368375936, 0.019749382172551608, 0.019670612006055195, 0.019544808889555808, 0.019445481379051954, 0.01937830664903459, 0.01924366190972383, 0.019150482391809946, 0.019032190895646506, 0.01888003138482304, 0.018828929815193653, 0.01865616335254877, 0.018618830723826158, 0.01848372513109156, 0.01840241544920465, 0.01832478072570489, 0.018254614250539133, 0.018168394033418363, 0.018128619056499904, 0.018011601644156078, 0.017976157841227396, 0.017933478970747548, 0.017847869465427706, 0.017784333562769015, 0.017751687368297058, 0.01770254150342644, 0.017661164033576808, 0.017595522664249172, 0.0175807897330207, 0.01750959302334453, 0.017447488114495032, 0.017393359371349025, 0.017360051211369847, 0.017334512602823697, 0.01726232144548117, 0.01719888771557823, 0.01716632525796247, 0.017111424910490548, 0.017058285385551278, 0.01700707954709487, 0.016992950610711675, 0.01690742601652432, 0.01684054723747856, 0.016870754855492002, 0.01675813262234144, 0.016758373363272232, 0.016703942211825983, 0.01664177611079591, 0.016656552917798006, 0.016555570619766747, 0.01655131136603139, 0.01649975906366773, 0.016440374342024403, 0.016443462163457632, 0.01643902673731413, 0.016346704668563118, 0.01634819275649536, 0.016293486905381883, 0.016342016464561376, 0.016222792974127757, 0.016217800152614294, 0.016262707662532853, 0.016152119860672356, 0.01614145733073087, 0.016109228615298905, 0.016094421687990884, 0.016056512931452306, 0.016021581211834765, 0.016052494774741667, 0.015990332144138683]\n"
     ]
    },
    {
     "data": {
      "application/vnd.jupyter.widget-view+json": {
       "model_id": "f8dcbb43218940458a0bab26d5419690",
       "version_major": 2,
       "version_minor": 0
      },
      "text/plain": [
       "HBox(children=(FloatProgress(value=0.0, max=782.0), HTML(value='')))"
      ]
     },
     "metadata": {},
     "output_type": "display_data"
    },
    {
     "name": "stdout",
     "output_type": "stream",
     "text": [
      "\n",
      "epoch : 94/150, loss = 0.015938\n",
      "loss list : [0.04804488558731878, 0.030687242127059366, 0.028325845446923504, 0.02720706879883014, 0.026197104626680578, 0.02506364527089364, 0.02418971135069037, 0.023623952858835992, 0.02315334045349637, 0.022692977669922745, 0.0223407316309831, 0.021953678999543952, 0.02165310765328386, 0.021416172623405675, 0.02115680442532272, 0.02100152473496583, 0.02084396844801238, 0.020636780042191754, 0.02051124759995, 0.020336717957883235, 0.02022155877941138, 0.020074059445973094, 0.019988947690886154, 0.019879242368375936, 0.019749382172551608, 0.019670612006055195, 0.019544808889555808, 0.019445481379051954, 0.01937830664903459, 0.01924366190972383, 0.019150482391809946, 0.019032190895646506, 0.01888003138482304, 0.018828929815193653, 0.01865616335254877, 0.018618830723826158, 0.01848372513109156, 0.01840241544920465, 0.01832478072570489, 0.018254614250539133, 0.018168394033418363, 0.018128619056499904, 0.018011601644156078, 0.017976157841227396, 0.017933478970747548, 0.017847869465427706, 0.017784333562769015, 0.017751687368297058, 0.01770254150342644, 0.017661164033576808, 0.017595522664249172, 0.0175807897330207, 0.01750959302334453, 0.017447488114495032, 0.017393359371349025, 0.017360051211369847, 0.017334512602823697, 0.01726232144548117, 0.01719888771557823, 0.01716632525796247, 0.017111424910490548, 0.017058285385551278, 0.01700707954709487, 0.016992950610711675, 0.01690742601652432, 0.01684054723747856, 0.016870754855492002, 0.01675813262234144, 0.016758373363272232, 0.016703942211825983, 0.01664177611079591, 0.016656552917798006, 0.016555570619766747, 0.01655131136603139, 0.01649975906366773, 0.016440374342024403, 0.016443462163457632, 0.01643902673731413, 0.016346704668563118, 0.01634819275649536, 0.016293486905381883, 0.016342016464561376, 0.016222792974127757, 0.016217800152614294, 0.016262707662532853, 0.016152119860672356, 0.01614145733073087, 0.016109228615298905, 0.016094421687990884, 0.016056512931452306, 0.016021581211834765, 0.016052494774741667, 0.015990332144138683, 0.015937977808687234]\n"
     ]
    },
    {
     "data": {
      "application/vnd.jupyter.widget-view+json": {
       "model_id": "3a0949501980420298836c205356b446",
       "version_major": 2,
       "version_minor": 0
      },
      "text/plain": [
       "HBox(children=(FloatProgress(value=0.0, max=782.0), HTML(value='')))"
      ]
     },
     "metadata": {},
     "output_type": "display_data"
    },
    {
     "name": "stdout",
     "output_type": "stream",
     "text": [
      "\n",
      "epoch : 95/150, loss = 0.015954\n",
      "loss list : [0.04804488558731878, 0.030687242127059366, 0.028325845446923504, 0.02720706879883014, 0.026197104626680578, 0.02506364527089364, 0.02418971135069037, 0.023623952858835992, 0.02315334045349637, 0.022692977669922745, 0.0223407316309831, 0.021953678999543952, 0.02165310765328386, 0.021416172623405675, 0.02115680442532272, 0.02100152473496583, 0.02084396844801238, 0.020636780042191754, 0.02051124759995, 0.020336717957883235, 0.02022155877941138, 0.020074059445973094, 0.019988947690886154, 0.019879242368375936, 0.019749382172551608, 0.019670612006055195, 0.019544808889555808, 0.019445481379051954, 0.01937830664903459, 0.01924366190972383, 0.019150482391809946, 0.019032190895646506, 0.01888003138482304, 0.018828929815193653, 0.01865616335254877, 0.018618830723826158, 0.01848372513109156, 0.01840241544920465, 0.01832478072570489, 0.018254614250539133, 0.018168394033418363, 0.018128619056499904, 0.018011601644156078, 0.017976157841227396, 0.017933478970747548, 0.017847869465427706, 0.017784333562769015, 0.017751687368297058, 0.01770254150342644, 0.017661164033576808, 0.017595522664249172, 0.0175807897330207, 0.01750959302334453, 0.017447488114495032, 0.017393359371349025, 0.017360051211369847, 0.017334512602823697, 0.01726232144548117, 0.01719888771557823, 0.01716632525796247, 0.017111424910490548, 0.017058285385551278, 0.01700707954709487, 0.016992950610711675, 0.01690742601652432, 0.01684054723747856, 0.016870754855492002, 0.01675813262234144, 0.016758373363272232, 0.016703942211825983, 0.01664177611079591, 0.016656552917798006, 0.016555570619766747, 0.01655131136603139, 0.01649975906366773, 0.016440374342024403, 0.016443462163457632, 0.01643902673731413, 0.016346704668563118, 0.01634819275649536, 0.016293486905381883, 0.016342016464561376, 0.016222792974127757, 0.016217800152614294, 0.016262707662532853, 0.016152119860672356, 0.01614145733073087, 0.016109228615298905, 0.016094421687990884, 0.016056512931452306, 0.016021581211834765, 0.016052494774741667, 0.015990332144138683, 0.015937977808687234, 0.01595364697158451]\n"
     ]
    },
    {
     "data": {
      "application/vnd.jupyter.widget-view+json": {
       "model_id": "e06e2d4e902247209ea356d35d12c08b",
       "version_major": 2,
       "version_minor": 0
      },
      "text/plain": [
       "HBox(children=(FloatProgress(value=0.0, max=782.0), HTML(value='')))"
      ]
     },
     "metadata": {},
     "output_type": "display_data"
    },
    {
     "name": "stdout",
     "output_type": "stream",
     "text": [
      "\n",
      "epoch : 96/150, loss = 0.015895\n",
      "loss list : [0.04804488558731878, 0.030687242127059366, 0.028325845446923504, 0.02720706879883014, 0.026197104626680578, 0.02506364527089364, 0.02418971135069037, 0.023623952858835992, 0.02315334045349637, 0.022692977669922745, 0.0223407316309831, 0.021953678999543952, 0.02165310765328386, 0.021416172623405675, 0.02115680442532272, 0.02100152473496583, 0.02084396844801238, 0.020636780042191754, 0.02051124759995, 0.020336717957883235, 0.02022155877941138, 0.020074059445973094, 0.019988947690886154, 0.019879242368375936, 0.019749382172551608, 0.019670612006055195, 0.019544808889555808, 0.019445481379051954, 0.01937830664903459, 0.01924366190972383, 0.019150482391809946, 0.019032190895646506, 0.01888003138482304, 0.018828929815193653, 0.01865616335254877, 0.018618830723826158, 0.01848372513109156, 0.01840241544920465, 0.01832478072570489, 0.018254614250539133, 0.018168394033418363, 0.018128619056499904, 0.018011601644156078, 0.017976157841227396, 0.017933478970747548, 0.017847869465427706, 0.017784333562769015, 0.017751687368297058, 0.01770254150342644, 0.017661164033576808, 0.017595522664249172, 0.0175807897330207, 0.01750959302334453, 0.017447488114495032, 0.017393359371349025, 0.017360051211369847, 0.017334512602823697, 0.01726232144548117, 0.01719888771557823, 0.01716632525796247, 0.017111424910490548, 0.017058285385551278, 0.01700707954709487, 0.016992950610711675, 0.01690742601652432, 0.01684054723747856, 0.016870754855492002, 0.01675813262234144, 0.016758373363272232, 0.016703942211825983, 0.01664177611079591, 0.016656552917798006, 0.016555570619766747, 0.01655131136603139, 0.01649975906366773, 0.016440374342024403, 0.016443462163457632, 0.01643902673731413, 0.016346704668563118, 0.01634819275649536, 0.016293486905381883, 0.016342016464561376, 0.016222792974127757, 0.016217800152614294, 0.016262707662532853, 0.016152119860672356, 0.01614145733073087, 0.016109228615298905, 0.016094421687990884, 0.016056512931452306, 0.016021581211834765, 0.016052494774741667, 0.015990332144138683, 0.015937977808687234, 0.01595364697158451, 0.015895318668669143]\n"
     ]
    },
    {
     "data": {
      "application/vnd.jupyter.widget-view+json": {
       "model_id": "50688c7da951488ebb1af0e9b8f845c9",
       "version_major": 2,
       "version_minor": 0
      },
      "text/plain": [
       "HBox(children=(FloatProgress(value=0.0, max=782.0), HTML(value='')))"
      ]
     },
     "metadata": {},
     "output_type": "display_data"
    },
    {
     "name": "stdout",
     "output_type": "stream",
     "text": [
      "\n",
      "epoch : 97/150, loss = 0.015900\n",
      "loss list : [0.04804488558731878, 0.030687242127059366, 0.028325845446923504, 0.02720706879883014, 0.026197104626680578, 0.02506364527089364, 0.02418971135069037, 0.023623952858835992, 0.02315334045349637, 0.022692977669922745, 0.0223407316309831, 0.021953678999543952, 0.02165310765328386, 0.021416172623405675, 0.02115680442532272, 0.02100152473496583, 0.02084396844801238, 0.020636780042191754, 0.02051124759995, 0.020336717957883235, 0.02022155877941138, 0.020074059445973094, 0.019988947690886154, 0.019879242368375936, 0.019749382172551608, 0.019670612006055195, 0.019544808889555808, 0.019445481379051954, 0.01937830664903459, 0.01924366190972383, 0.019150482391809946, 0.019032190895646506, 0.01888003138482304, 0.018828929815193653, 0.01865616335254877, 0.018618830723826158, 0.01848372513109156, 0.01840241544920465, 0.01832478072570489, 0.018254614250539133, 0.018168394033418363, 0.018128619056499904, 0.018011601644156078, 0.017976157841227396, 0.017933478970747548, 0.017847869465427706, 0.017784333562769015, 0.017751687368297058, 0.01770254150342644, 0.017661164033576808, 0.017595522664249172, 0.0175807897330207, 0.01750959302334453, 0.017447488114495032, 0.017393359371349025, 0.017360051211369847, 0.017334512602823697, 0.01726232144548117, 0.01719888771557823, 0.01716632525796247, 0.017111424910490548, 0.017058285385551278, 0.01700707954709487, 0.016992950610711675, 0.01690742601652432, 0.01684054723747856, 0.016870754855492002, 0.01675813262234144, 0.016758373363272232, 0.016703942211825983, 0.01664177611079591, 0.016656552917798006, 0.016555570619766747, 0.01655131136603139, 0.01649975906366773, 0.016440374342024403, 0.016443462163457632, 0.01643902673731413, 0.016346704668563118, 0.01634819275649536, 0.016293486905381883, 0.016342016464561376, 0.016222792974127757, 0.016217800152614294, 0.016262707662532853, 0.016152119860672356, 0.01614145733073087, 0.016109228615298905, 0.016094421687990884, 0.016056512931452306, 0.016021581211834765, 0.016052494774741667, 0.015990332144138683, 0.015937977808687234, 0.01595364697158451, 0.015895318668669143, 0.01589973788241596]\n"
     ]
    },
    {
     "data": {
      "application/vnd.jupyter.widget-view+json": {
       "model_id": "f7ac869a1f3647759921c899f691e41c",
       "version_major": 2,
       "version_minor": 0
      },
      "text/plain": [
       "HBox(children=(FloatProgress(value=0.0, max=782.0), HTML(value='')))"
      ]
     },
     "metadata": {},
     "output_type": "display_data"
    },
    {
     "name": "stdout",
     "output_type": "stream",
     "text": [
      "\n",
      "epoch : 98/150, loss = 0.015859\n",
      "loss list : [0.04804488558731878, 0.030687242127059366, 0.028325845446923504, 0.02720706879883014, 0.026197104626680578, 0.02506364527089364, 0.02418971135069037, 0.023623952858835992, 0.02315334045349637, 0.022692977669922745, 0.0223407316309831, 0.021953678999543952, 0.02165310765328386, 0.021416172623405675, 0.02115680442532272, 0.02100152473496583, 0.02084396844801238, 0.020636780042191754, 0.02051124759995, 0.020336717957883235, 0.02022155877941138, 0.020074059445973094, 0.019988947690886154, 0.019879242368375936, 0.019749382172551608, 0.019670612006055195, 0.019544808889555808, 0.019445481379051954, 0.01937830664903459, 0.01924366190972383, 0.019150482391809946, 0.019032190895646506, 0.01888003138482304, 0.018828929815193653, 0.01865616335254877, 0.018618830723826158, 0.01848372513109156, 0.01840241544920465, 0.01832478072570489, 0.018254614250539133, 0.018168394033418363, 0.018128619056499904, 0.018011601644156078, 0.017976157841227396, 0.017933478970747548, 0.017847869465427706, 0.017784333562769015, 0.017751687368297058, 0.01770254150342644, 0.017661164033576808, 0.017595522664249172, 0.0175807897330207, 0.01750959302334453, 0.017447488114495032, 0.017393359371349025, 0.017360051211369847, 0.017334512602823697, 0.01726232144548117, 0.01719888771557823, 0.01716632525796247, 0.017111424910490548, 0.017058285385551278, 0.01700707954709487, 0.016992950610711675, 0.01690742601652432, 0.01684054723747856, 0.016870754855492002, 0.01675813262234144, 0.016758373363272232, 0.016703942211825983, 0.01664177611079591, 0.016656552917798006, 0.016555570619766747, 0.01655131136603139, 0.01649975906366773, 0.016440374342024403, 0.016443462163457632, 0.01643902673731413, 0.016346704668563118, 0.01634819275649536, 0.016293486905381883, 0.016342016464561376, 0.016222792974127757, 0.016217800152614294, 0.016262707662532853, 0.016152119860672356, 0.01614145733073087, 0.016109228615298905, 0.016094421687990884, 0.016056512931452306, 0.016021581211834765, 0.016052494774741667, 0.015990332144138683, 0.015937977808687234, 0.01595364697158451, 0.015895318668669143, 0.01589973788241596, 0.015858892797995024]\n"
     ]
    },
    {
     "data": {
      "application/vnd.jupyter.widget-view+json": {
       "model_id": "8b17e3e3143745b5b67d950bd30550ee",
       "version_major": 2,
       "version_minor": 0
      },
      "text/plain": [
       "HBox(children=(FloatProgress(value=0.0, max=782.0), HTML(value='')))"
      ]
     },
     "metadata": {},
     "output_type": "display_data"
    },
    {
     "name": "stdout",
     "output_type": "stream",
     "text": [
      "\n",
      "epoch : 99/150, loss = 0.015877\n",
      "loss list : [0.04804488558731878, 0.030687242127059366, 0.028325845446923504, 0.02720706879883014, 0.026197104626680578, 0.02506364527089364, 0.02418971135069037, 0.023623952858835992, 0.02315334045349637, 0.022692977669922745, 0.0223407316309831, 0.021953678999543952, 0.02165310765328386, 0.021416172623405675, 0.02115680442532272, 0.02100152473496583, 0.02084396844801238, 0.020636780042191754, 0.02051124759995, 0.020336717957883235, 0.02022155877941138, 0.020074059445973094, 0.019988947690886154, 0.019879242368375936, 0.019749382172551608, 0.019670612006055195, 0.019544808889555808, 0.019445481379051954, 0.01937830664903459, 0.01924366190972383, 0.019150482391809946, 0.019032190895646506, 0.01888003138482304, 0.018828929815193653, 0.01865616335254877, 0.018618830723826158, 0.01848372513109156, 0.01840241544920465, 0.01832478072570489, 0.018254614250539133, 0.018168394033418363, 0.018128619056499904, 0.018011601644156078, 0.017976157841227396, 0.017933478970747548, 0.017847869465427706, 0.017784333562769015, 0.017751687368297058, 0.01770254150342644, 0.017661164033576808, 0.017595522664249172, 0.0175807897330207, 0.01750959302334453, 0.017447488114495032, 0.017393359371349025, 0.017360051211369847, 0.017334512602823697, 0.01726232144548117, 0.01719888771557823, 0.01716632525796247, 0.017111424910490548, 0.017058285385551278, 0.01700707954709487, 0.016992950610711675, 0.01690742601652432, 0.01684054723747856, 0.016870754855492002, 0.01675813262234144, 0.016758373363272232, 0.016703942211825983, 0.01664177611079591, 0.016656552917798006, 0.016555570619766747, 0.01655131136603139, 0.01649975906366773, 0.016440374342024403, 0.016443462163457632, 0.01643902673731413, 0.016346704668563118, 0.01634819275649536, 0.016293486905381883, 0.016342016464561376, 0.016222792974127757, 0.016217800152614294, 0.016262707662532853, 0.016152119860672356, 0.01614145733073087, 0.016109228615298905, 0.016094421687990884, 0.016056512931452306, 0.016021581211834765, 0.016052494774741667, 0.015990332144138683, 0.015937977808687234, 0.01595364697158451, 0.015895318668669143, 0.01589973788241596, 0.015858892797995024, 0.015876958227675896]\n"
     ]
    },
    {
     "data": {
      "application/vnd.jupyter.widget-view+json": {
       "model_id": "38a8e02e0df441ea8a470fea939b42f3",
       "version_major": 2,
       "version_minor": 0
      },
      "text/plain": [
       "HBox(children=(FloatProgress(value=0.0, max=782.0), HTML(value='')))"
      ]
     },
     "metadata": {},
     "output_type": "display_data"
    },
    {
     "name": "stdout",
     "output_type": "stream",
     "text": [
      "\n",
      "epoch : 100/150, loss = 0.015799\n",
      "loss list : [0.04804488558731878, 0.030687242127059366, 0.028325845446923504, 0.02720706879883014, 0.026197104626680578, 0.02506364527089364, 0.02418971135069037, 0.023623952858835992, 0.02315334045349637, 0.022692977669922745, 0.0223407316309831, 0.021953678999543952, 0.02165310765328386, 0.021416172623405675, 0.02115680442532272, 0.02100152473496583, 0.02084396844801238, 0.020636780042191754, 0.02051124759995, 0.020336717957883235, 0.02022155877941138, 0.020074059445973094, 0.019988947690886154, 0.019879242368375936, 0.019749382172551608, 0.019670612006055195, 0.019544808889555808, 0.019445481379051954, 0.01937830664903459, 0.01924366190972383, 0.019150482391809946, 0.019032190895646506, 0.01888003138482304, 0.018828929815193653, 0.01865616335254877, 0.018618830723826158, 0.01848372513109156, 0.01840241544920465, 0.01832478072570489, 0.018254614250539133, 0.018168394033418363, 0.018128619056499904, 0.018011601644156078, 0.017976157841227396, 0.017933478970747548, 0.017847869465427706, 0.017784333562769015, 0.017751687368297058, 0.01770254150342644, 0.017661164033576808, 0.017595522664249172, 0.0175807897330207, 0.01750959302334453, 0.017447488114495032, 0.017393359371349025, 0.017360051211369847, 0.017334512602823697, 0.01726232144548117, 0.01719888771557823, 0.01716632525796247, 0.017111424910490548, 0.017058285385551278, 0.01700707954709487, 0.016992950610711675, 0.01690742601652432, 0.01684054723747856, 0.016870754855492002, 0.01675813262234144, 0.016758373363272232, 0.016703942211825983, 0.01664177611079591, 0.016656552917798006, 0.016555570619766747, 0.01655131136603139, 0.01649975906366773, 0.016440374342024403, 0.016443462163457632, 0.01643902673731413, 0.016346704668563118, 0.01634819275649536, 0.016293486905381883, 0.016342016464561376, 0.016222792974127757, 0.016217800152614294, 0.016262707662532853, 0.016152119860672356, 0.01614145733073087, 0.016109228615298905, 0.016094421687990884, 0.016056512931452306, 0.016021581211834765, 0.016052494774741667, 0.015990332144138683, 0.015937977808687234, 0.01595364697158451, 0.015895318668669143, 0.01589973788241596, 0.015858892797995024, 0.015876958227675896, 0.01579910031903316]\n"
     ]
    },
    {
     "data": {
      "application/vnd.jupyter.widget-view+json": {
       "model_id": "e063e0d3b8af45368188c7f0e08f5f71",
       "version_major": 2,
       "version_minor": 0
      },
      "text/plain": [
       "HBox(children=(FloatProgress(value=0.0, max=782.0), HTML(value='')))"
      ]
     },
     "metadata": {},
     "output_type": "display_data"
    },
    {
     "name": "stdout",
     "output_type": "stream",
     "text": [
      "\n",
      "epoch : 101/150, loss = 0.015755\n",
      "loss list : [0.04804488558731878, 0.030687242127059366, 0.028325845446923504, 0.02720706879883014, 0.026197104626680578, 0.02506364527089364, 0.02418971135069037, 0.023623952858835992, 0.02315334045349637, 0.022692977669922745, 0.0223407316309831, 0.021953678999543952, 0.02165310765328386, 0.021416172623405675, 0.02115680442532272, 0.02100152473496583, 0.02084396844801238, 0.020636780042191754, 0.02051124759995, 0.020336717957883235, 0.02022155877941138, 0.020074059445973094, 0.019988947690886154, 0.019879242368375936, 0.019749382172551608, 0.019670612006055195, 0.019544808889555808, 0.019445481379051954, 0.01937830664903459, 0.01924366190972383, 0.019150482391809946, 0.019032190895646506, 0.01888003138482304, 0.018828929815193653, 0.01865616335254877, 0.018618830723826158, 0.01848372513109156, 0.01840241544920465, 0.01832478072570489, 0.018254614250539133, 0.018168394033418363, 0.018128619056499904, 0.018011601644156078, 0.017976157841227396, 0.017933478970747548, 0.017847869465427706, 0.017784333562769015, 0.017751687368297058, 0.01770254150342644, 0.017661164033576808, 0.017595522664249172, 0.0175807897330207, 0.01750959302334453, 0.017447488114495032, 0.017393359371349025, 0.017360051211369847, 0.017334512602823697, 0.01726232144548117, 0.01719888771557823, 0.01716632525796247, 0.017111424910490548, 0.017058285385551278, 0.01700707954709487, 0.016992950610711675, 0.01690742601652432, 0.01684054723747856, 0.016870754855492002, 0.01675813262234144, 0.016758373363272232, 0.016703942211825983, 0.01664177611079591, 0.016656552917798006, 0.016555570619766747, 0.01655131136603139, 0.01649975906366773, 0.016440374342024403, 0.016443462163457632, 0.01643902673731413, 0.016346704668563118, 0.01634819275649536, 0.016293486905381883, 0.016342016464561376, 0.016222792974127757, 0.016217800152614294, 0.016262707662532853, 0.016152119860672356, 0.01614145733073087, 0.016109228615298905, 0.016094421687990884, 0.016056512931452306, 0.016021581211834765, 0.016052494774741667, 0.015990332144138683, 0.015937977808687234, 0.01595364697158451, 0.015895318668669143, 0.01589973788241596, 0.015858892797995024, 0.015876958227675896, 0.01579910031903316, 0.015755020374970514]\n"
     ]
    },
    {
     "data": {
      "application/vnd.jupyter.widget-view+json": {
       "model_id": "5e44708d0b7f4517bb339ce781bbb690",
       "version_major": 2,
       "version_minor": 0
      },
      "text/plain": [
       "HBox(children=(FloatProgress(value=0.0, max=782.0), HTML(value='')))"
      ]
     },
     "metadata": {},
     "output_type": "display_data"
    },
    {
     "name": "stdout",
     "output_type": "stream",
     "text": [
      "\n",
      "epoch : 102/150, loss = 0.015749\n",
      "loss list : [0.04804488558731878, 0.030687242127059366, 0.028325845446923504, 0.02720706879883014, 0.026197104626680578, 0.02506364527089364, 0.02418971135069037, 0.023623952858835992, 0.02315334045349637, 0.022692977669922745, 0.0223407316309831, 0.021953678999543952, 0.02165310765328386, 0.021416172623405675, 0.02115680442532272, 0.02100152473496583, 0.02084396844801238, 0.020636780042191754, 0.02051124759995, 0.020336717957883235, 0.02022155877941138, 0.020074059445973094, 0.019988947690886154, 0.019879242368375936, 0.019749382172551608, 0.019670612006055195, 0.019544808889555808, 0.019445481379051954, 0.01937830664903459, 0.01924366190972383, 0.019150482391809946, 0.019032190895646506, 0.01888003138482304, 0.018828929815193653, 0.01865616335254877, 0.018618830723826158, 0.01848372513109156, 0.01840241544920465, 0.01832478072570489, 0.018254614250539133, 0.018168394033418363, 0.018128619056499904, 0.018011601644156078, 0.017976157841227396, 0.017933478970747548, 0.017847869465427706, 0.017784333562769015, 0.017751687368297058, 0.01770254150342644, 0.017661164033576808, 0.017595522664249172, 0.0175807897330207, 0.01750959302334453, 0.017447488114495032, 0.017393359371349025, 0.017360051211369847, 0.017334512602823697, 0.01726232144548117, 0.01719888771557823, 0.01716632525796247, 0.017111424910490548, 0.017058285385551278, 0.01700707954709487, 0.016992950610711675, 0.01690742601652432, 0.01684054723747856, 0.016870754855492002, 0.01675813262234144, 0.016758373363272232, 0.016703942211825983, 0.01664177611079591, 0.016656552917798006, 0.016555570619766747, 0.01655131136603139, 0.01649975906366773, 0.016440374342024403, 0.016443462163457632, 0.01643902673731413, 0.016346704668563118, 0.01634819275649536, 0.016293486905381883, 0.016342016464561376, 0.016222792974127757, 0.016217800152614294, 0.016262707662532853, 0.016152119860672356, 0.01614145733073087, 0.016109228615298905, 0.016094421687990884, 0.016056512931452306, 0.016021581211834765, 0.016052494774741667, 0.015990332144138683, 0.015937977808687234, 0.01595364697158451, 0.015895318668669143, 0.01589973788241596, 0.015858892797995024, 0.015876958227675896, 0.01579910031903316, 0.015755020374970514, 0.015748764601443203]\n"
     ]
    },
    {
     "data": {
      "application/vnd.jupyter.widget-view+json": {
       "model_id": "be2c0f80a41f4c9daa1adeeb251e85ce",
       "version_major": 2,
       "version_minor": 0
      },
      "text/plain": [
       "HBox(children=(FloatProgress(value=0.0, max=782.0), HTML(value='')))"
      ]
     },
     "metadata": {},
     "output_type": "display_data"
    },
    {
     "name": "stdout",
     "output_type": "stream",
     "text": [
      "\n",
      "epoch : 103/150, loss = 0.015734\n",
      "loss list : [0.04804488558731878, 0.030687242127059366, 0.028325845446923504, 0.02720706879883014, 0.026197104626680578, 0.02506364527089364, 0.02418971135069037, 0.023623952858835992, 0.02315334045349637, 0.022692977669922745, 0.0223407316309831, 0.021953678999543952, 0.02165310765328386, 0.021416172623405675, 0.02115680442532272, 0.02100152473496583, 0.02084396844801238, 0.020636780042191754, 0.02051124759995, 0.020336717957883235, 0.02022155877941138, 0.020074059445973094, 0.019988947690886154, 0.019879242368375936, 0.019749382172551608, 0.019670612006055195, 0.019544808889555808, 0.019445481379051954, 0.01937830664903459, 0.01924366190972383, 0.019150482391809946, 0.019032190895646506, 0.01888003138482304, 0.018828929815193653, 0.01865616335254877, 0.018618830723826158, 0.01848372513109156, 0.01840241544920465, 0.01832478072570489, 0.018254614250539133, 0.018168394033418363, 0.018128619056499904, 0.018011601644156078, 0.017976157841227396, 0.017933478970747548, 0.017847869465427706, 0.017784333562769015, 0.017751687368297058, 0.01770254150342644, 0.017661164033576808, 0.017595522664249172, 0.0175807897330207, 0.01750959302334453, 0.017447488114495032, 0.017393359371349025, 0.017360051211369847, 0.017334512602823697, 0.01726232144548117, 0.01719888771557823, 0.01716632525796247, 0.017111424910490548, 0.017058285385551278, 0.01700707954709487, 0.016992950610711675, 0.01690742601652432, 0.01684054723747856, 0.016870754855492002, 0.01675813262234144, 0.016758373363272232, 0.016703942211825983, 0.01664177611079591, 0.016656552917798006, 0.016555570619766747, 0.01655131136603139, 0.01649975906366773, 0.016440374342024403, 0.016443462163457632, 0.01643902673731413, 0.016346704668563118, 0.01634819275649536, 0.016293486905381883, 0.016342016464561376, 0.016222792974127757, 0.016217800152614294, 0.016262707662532853, 0.016152119860672356, 0.01614145733073087, 0.016109228615298905, 0.016094421687990884, 0.016056512931452306, 0.016021581211834765, 0.016052494774741667, 0.015990332144138683, 0.015937977808687234, 0.01595364697158451, 0.015895318668669143, 0.01589973788241596, 0.015858892797995024, 0.015876958227675896, 0.01579910031903316, 0.015755020374970514, 0.015748764601443203, 0.015733788330631944]\n"
     ]
    },
    {
     "data": {
      "application/vnd.jupyter.widget-view+json": {
       "model_id": "8de33e62baaa4ce7972c701ad14e924e",
       "version_major": 2,
       "version_minor": 0
      },
      "text/plain": [
       "HBox(children=(FloatProgress(value=0.0, max=782.0), HTML(value='')))"
      ]
     },
     "metadata": {},
     "output_type": "display_data"
    },
    {
     "name": "stdout",
     "output_type": "stream",
     "text": [
      "\n",
      "epoch : 104/150, loss = 0.015697\n",
      "loss list : [0.04804488558731878, 0.030687242127059366, 0.028325845446923504, 0.02720706879883014, 0.026197104626680578, 0.02506364527089364, 0.02418971135069037, 0.023623952858835992, 0.02315334045349637, 0.022692977669922745, 0.0223407316309831, 0.021953678999543952, 0.02165310765328386, 0.021416172623405675, 0.02115680442532272, 0.02100152473496583, 0.02084396844801238, 0.020636780042191754, 0.02051124759995, 0.020336717957883235, 0.02022155877941138, 0.020074059445973094, 0.019988947690886154, 0.019879242368375936, 0.019749382172551608, 0.019670612006055195, 0.019544808889555808, 0.019445481379051954, 0.01937830664903459, 0.01924366190972383, 0.019150482391809946, 0.019032190895646506, 0.01888003138482304, 0.018828929815193653, 0.01865616335254877, 0.018618830723826158, 0.01848372513109156, 0.01840241544920465, 0.01832478072570489, 0.018254614250539133, 0.018168394033418363, 0.018128619056499904, 0.018011601644156078, 0.017976157841227396, 0.017933478970747548, 0.017847869465427706, 0.017784333562769015, 0.017751687368297058, 0.01770254150342644, 0.017661164033576808, 0.017595522664249172, 0.0175807897330207, 0.01750959302334453, 0.017447488114495032, 0.017393359371349025, 0.017360051211369847, 0.017334512602823697, 0.01726232144548117, 0.01719888771557823, 0.01716632525796247, 0.017111424910490548, 0.017058285385551278, 0.01700707954709487, 0.016992950610711675, 0.01690742601652432, 0.01684054723747856, 0.016870754855492002, 0.01675813262234144, 0.016758373363272232, 0.016703942211825983, 0.01664177611079591, 0.016656552917798006, 0.016555570619766747, 0.01655131136603139, 0.01649975906366773, 0.016440374342024403, 0.016443462163457632, 0.01643902673731413, 0.016346704668563118, 0.01634819275649536, 0.016293486905381883, 0.016342016464561376, 0.016222792974127757, 0.016217800152614294, 0.016262707662532853, 0.016152119860672356, 0.01614145733073087, 0.016109228615298905, 0.016094421687990884, 0.016056512931452306, 0.016021581211834765, 0.016052494774741667, 0.015990332144138683, 0.015937977808687234, 0.01595364697158451, 0.015895318668669143, 0.01589973788241596, 0.015858892797995024, 0.015876958227675896, 0.01579910031903316, 0.015755020374970514, 0.015748764601443203, 0.015733788330631944, 0.015697205414199996]\n"
     ]
    },
    {
     "data": {
      "application/vnd.jupyter.widget-view+json": {
       "model_id": "a80eba65cd6e48ddbbafbea10ec4269b",
       "version_major": 2,
       "version_minor": 0
      },
      "text/plain": [
       "HBox(children=(FloatProgress(value=0.0, max=782.0), HTML(value='')))"
      ]
     },
     "metadata": {},
     "output_type": "display_data"
    },
    {
     "name": "stdout",
     "output_type": "stream",
     "text": [
      "\n",
      "epoch : 105/150, loss = 0.015721\n",
      "loss list : [0.04804488558731878, 0.030687242127059366, 0.028325845446923504, 0.02720706879883014, 0.026197104626680578, 0.02506364527089364, 0.02418971135069037, 0.023623952858835992, 0.02315334045349637, 0.022692977669922745, 0.0223407316309831, 0.021953678999543952, 0.02165310765328386, 0.021416172623405675, 0.02115680442532272, 0.02100152473496583, 0.02084396844801238, 0.020636780042191754, 0.02051124759995, 0.020336717957883235, 0.02022155877941138, 0.020074059445973094, 0.019988947690886154, 0.019879242368375936, 0.019749382172551608, 0.019670612006055195, 0.019544808889555808, 0.019445481379051954, 0.01937830664903459, 0.01924366190972383, 0.019150482391809946, 0.019032190895646506, 0.01888003138482304, 0.018828929815193653, 0.01865616335254877, 0.018618830723826158, 0.01848372513109156, 0.01840241544920465, 0.01832478072570489, 0.018254614250539133, 0.018168394033418363, 0.018128619056499904, 0.018011601644156078, 0.017976157841227396, 0.017933478970747548, 0.017847869465427706, 0.017784333562769015, 0.017751687368297058, 0.01770254150342644, 0.017661164033576808, 0.017595522664249172, 0.0175807897330207, 0.01750959302334453, 0.017447488114495032, 0.017393359371349025, 0.017360051211369847, 0.017334512602823697, 0.01726232144548117, 0.01719888771557823, 0.01716632525796247, 0.017111424910490548, 0.017058285385551278, 0.01700707954709487, 0.016992950610711675, 0.01690742601652432, 0.01684054723747856, 0.016870754855492002, 0.01675813262234144, 0.016758373363272232, 0.016703942211825983, 0.01664177611079591, 0.016656552917798006, 0.016555570619766747, 0.01655131136603139, 0.01649975906366773, 0.016440374342024403, 0.016443462163457632, 0.01643902673731413, 0.016346704668563118, 0.01634819275649536, 0.016293486905381883, 0.016342016464561376, 0.016222792974127757, 0.016217800152614294, 0.016262707662532853, 0.016152119860672356, 0.01614145733073087, 0.016109228615298905, 0.016094421687990884, 0.016056512931452306, 0.016021581211834765, 0.016052494774741667, 0.015990332144138683, 0.015937977808687234, 0.01595364697158451, 0.015895318668669143, 0.01589973788241596, 0.015858892797995024, 0.015876958227675896, 0.01579910031903316, 0.015755020374970514, 0.015748764601443203, 0.015733788330631944, 0.015697205414199996, 0.015720945679346846]\n"
     ]
    },
    {
     "data": {
      "application/vnd.jupyter.widget-view+json": {
       "model_id": "238bdf5192f149f7b55448bcb414a4f2",
       "version_major": 2,
       "version_minor": 0
      },
      "text/plain": [
       "HBox(children=(FloatProgress(value=0.0, max=782.0), HTML(value='')))"
      ]
     },
     "metadata": {},
     "output_type": "display_data"
    },
    {
     "name": "stdout",
     "output_type": "stream",
     "text": [
      "\n",
      "epoch : 106/150, loss = 0.015655\n",
      "loss list : [0.04804488558731878, 0.030687242127059366, 0.028325845446923504, 0.02720706879883014, 0.026197104626680578, 0.02506364527089364, 0.02418971135069037, 0.023623952858835992, 0.02315334045349637, 0.022692977669922745, 0.0223407316309831, 0.021953678999543952, 0.02165310765328386, 0.021416172623405675, 0.02115680442532272, 0.02100152473496583, 0.02084396844801238, 0.020636780042191754, 0.02051124759995, 0.020336717957883235, 0.02022155877941138, 0.020074059445973094, 0.019988947690886154, 0.019879242368375936, 0.019749382172551608, 0.019670612006055195, 0.019544808889555808, 0.019445481379051954, 0.01937830664903459, 0.01924366190972383, 0.019150482391809946, 0.019032190895646506, 0.01888003138482304, 0.018828929815193653, 0.01865616335254877, 0.018618830723826158, 0.01848372513109156, 0.01840241544920465, 0.01832478072570489, 0.018254614250539133, 0.018168394033418363, 0.018128619056499904, 0.018011601644156078, 0.017976157841227396, 0.017933478970747548, 0.017847869465427706, 0.017784333562769015, 0.017751687368297058, 0.01770254150342644, 0.017661164033576808, 0.017595522664249172, 0.0175807897330207, 0.01750959302334453, 0.017447488114495032, 0.017393359371349025, 0.017360051211369847, 0.017334512602823697, 0.01726232144548117, 0.01719888771557823, 0.01716632525796247, 0.017111424910490548, 0.017058285385551278, 0.01700707954709487, 0.016992950610711675, 0.01690742601652432, 0.01684054723747856, 0.016870754855492002, 0.01675813262234144, 0.016758373363272232, 0.016703942211825983, 0.01664177611079591, 0.016656552917798006, 0.016555570619766747, 0.01655131136603139, 0.01649975906366773, 0.016440374342024403, 0.016443462163457632, 0.01643902673731413, 0.016346704668563118, 0.01634819275649536, 0.016293486905381883, 0.016342016464561376, 0.016222792974127757, 0.016217800152614294, 0.016262707662532853, 0.016152119860672356, 0.01614145733073087, 0.016109228615298905, 0.016094421687990884, 0.016056512931452306, 0.016021581211834765, 0.016052494774741667, 0.015990332144138683, 0.015937977808687234, 0.01595364697158451, 0.015895318668669143, 0.01589973788241596, 0.015858892797995024, 0.015876958227675896, 0.01579910031903316, 0.015755020374970514, 0.015748764601443203, 0.015733788330631944, 0.015697205414199996, 0.015720945679346846, 0.015654948979492305]\n"
     ]
    },
    {
     "data": {
      "application/vnd.jupyter.widget-view+json": {
       "model_id": "22b24cfc3b6941c8ac021b0c5dfaba1b",
       "version_major": 2,
       "version_minor": 0
      },
      "text/plain": [
       "HBox(children=(FloatProgress(value=0.0, max=782.0), HTML(value='')))"
      ]
     },
     "metadata": {},
     "output_type": "display_data"
    },
    {
     "name": "stdout",
     "output_type": "stream",
     "text": [
      "\n",
      "epoch : 107/150, loss = 0.015643\n",
      "loss list : [0.04804488558731878, 0.030687242127059366, 0.028325845446923504, 0.02720706879883014, 0.026197104626680578, 0.02506364527089364, 0.02418971135069037, 0.023623952858835992, 0.02315334045349637, 0.022692977669922745, 0.0223407316309831, 0.021953678999543952, 0.02165310765328386, 0.021416172623405675, 0.02115680442532272, 0.02100152473496583, 0.02084396844801238, 0.020636780042191754, 0.02051124759995, 0.020336717957883235, 0.02022155877941138, 0.020074059445973094, 0.019988947690886154, 0.019879242368375936, 0.019749382172551608, 0.019670612006055195, 0.019544808889555808, 0.019445481379051954, 0.01937830664903459, 0.01924366190972383, 0.019150482391809946, 0.019032190895646506, 0.01888003138482304, 0.018828929815193653, 0.01865616335254877, 0.018618830723826158, 0.01848372513109156, 0.01840241544920465, 0.01832478072570489, 0.018254614250539133, 0.018168394033418363, 0.018128619056499904, 0.018011601644156078, 0.017976157841227396, 0.017933478970747548, 0.017847869465427706, 0.017784333562769015, 0.017751687368297058, 0.01770254150342644, 0.017661164033576808, 0.017595522664249172, 0.0175807897330207, 0.01750959302334453, 0.017447488114495032, 0.017393359371349025, 0.017360051211369847, 0.017334512602823697, 0.01726232144548117, 0.01719888771557823, 0.01716632525796247, 0.017111424910490548, 0.017058285385551278, 0.01700707954709487, 0.016992950610711675, 0.01690742601652432, 0.01684054723747856, 0.016870754855492002, 0.01675813262234144, 0.016758373363272232, 0.016703942211825983, 0.01664177611079591, 0.016656552917798006, 0.016555570619766747, 0.01655131136603139, 0.01649975906366773, 0.016440374342024403, 0.016443462163457632, 0.01643902673731413, 0.016346704668563118, 0.01634819275649536, 0.016293486905381883, 0.016342016464561376, 0.016222792974127757, 0.016217800152614294, 0.016262707662532853, 0.016152119860672356, 0.01614145733073087, 0.016109228615298905, 0.016094421687990884, 0.016056512931452306, 0.016021581211834765, 0.016052494774741667, 0.015990332144138683, 0.015937977808687234, 0.01595364697158451, 0.015895318668669143, 0.01589973788241596, 0.015858892797995024, 0.015876958227675896, 0.01579910031903316, 0.015755020374970514, 0.015748764601443203, 0.015733788330631944, 0.015697205414199996, 0.015720945679346846, 0.015654948979492305, 0.015642604395232695]\n"
     ]
    },
    {
     "data": {
      "application/vnd.jupyter.widget-view+json": {
       "model_id": "07209172b33a44189d8722210aaa6216",
       "version_major": 2,
       "version_minor": 0
      },
      "text/plain": [
       "HBox(children=(FloatProgress(value=0.0, max=782.0), HTML(value='')))"
      ]
     },
     "metadata": {},
     "output_type": "display_data"
    },
    {
     "name": "stdout",
     "output_type": "stream",
     "text": [
      "\n",
      "epoch : 108/150, loss = 0.015597\n",
      "loss list : [0.04804488558731878, 0.030687242127059366, 0.028325845446923504, 0.02720706879883014, 0.026197104626680578, 0.02506364527089364, 0.02418971135069037, 0.023623952858835992, 0.02315334045349637, 0.022692977669922745, 0.0223407316309831, 0.021953678999543952, 0.02165310765328386, 0.021416172623405675, 0.02115680442532272, 0.02100152473496583, 0.02084396844801238, 0.020636780042191754, 0.02051124759995, 0.020336717957883235, 0.02022155877941138, 0.020074059445973094, 0.019988947690886154, 0.019879242368375936, 0.019749382172551608, 0.019670612006055195, 0.019544808889555808, 0.019445481379051954, 0.01937830664903459, 0.01924366190972383, 0.019150482391809946, 0.019032190895646506, 0.01888003138482304, 0.018828929815193653, 0.01865616335254877, 0.018618830723826158, 0.01848372513109156, 0.01840241544920465, 0.01832478072570489, 0.018254614250539133, 0.018168394033418363, 0.018128619056499904, 0.018011601644156078, 0.017976157841227396, 0.017933478970747548, 0.017847869465427706, 0.017784333562769015, 0.017751687368297058, 0.01770254150342644, 0.017661164033576808, 0.017595522664249172, 0.0175807897330207, 0.01750959302334453, 0.017447488114495032, 0.017393359371349025, 0.017360051211369847, 0.017334512602823697, 0.01726232144548117, 0.01719888771557823, 0.01716632525796247, 0.017111424910490548, 0.017058285385551278, 0.01700707954709487, 0.016992950610711675, 0.01690742601652432, 0.01684054723747856, 0.016870754855492002, 0.01675813262234144, 0.016758373363272232, 0.016703942211825983, 0.01664177611079591, 0.016656552917798006, 0.016555570619766747, 0.01655131136603139, 0.01649975906366773, 0.016440374342024403, 0.016443462163457632, 0.01643902673731413, 0.016346704668563118, 0.01634819275649536, 0.016293486905381883, 0.016342016464561376, 0.016222792974127757, 0.016217800152614294, 0.016262707662532853, 0.016152119860672356, 0.01614145733073087, 0.016109228615298905, 0.016094421687990884, 0.016056512931452306, 0.016021581211834765, 0.016052494774741667, 0.015990332144138683, 0.015937977808687234, 0.01595364697158451, 0.015895318668669143, 0.01589973788241596, 0.015858892797995024, 0.015876958227675896, 0.01579910031903316, 0.015755020374970514, 0.015748764601443203, 0.015733788330631944, 0.015697205414199996, 0.015720945679346846, 0.015654948979492305, 0.015642604395232695, 0.015597019376723892]\n"
     ]
    },
    {
     "data": {
      "application/vnd.jupyter.widget-view+json": {
       "model_id": "1e53df6511f1439787b242d5fc3adcf7",
       "version_major": 2,
       "version_minor": 0
      },
      "text/plain": [
       "HBox(children=(FloatProgress(value=0.0, max=782.0), HTML(value='')))"
      ]
     },
     "metadata": {},
     "output_type": "display_data"
    },
    {
     "name": "stdout",
     "output_type": "stream",
     "text": [
      "\n",
      "epoch : 109/150, loss = 0.015601\n",
      "loss list : [0.04804488558731878, 0.030687242127059366, 0.028325845446923504, 0.02720706879883014, 0.026197104626680578, 0.02506364527089364, 0.02418971135069037, 0.023623952858835992, 0.02315334045349637, 0.022692977669922745, 0.0223407316309831, 0.021953678999543952, 0.02165310765328386, 0.021416172623405675, 0.02115680442532272, 0.02100152473496583, 0.02084396844801238, 0.020636780042191754, 0.02051124759995, 0.020336717957883235, 0.02022155877941138, 0.020074059445973094, 0.019988947690886154, 0.019879242368375936, 0.019749382172551608, 0.019670612006055195, 0.019544808889555808, 0.019445481379051954, 0.01937830664903459, 0.01924366190972383, 0.019150482391809946, 0.019032190895646506, 0.01888003138482304, 0.018828929815193653, 0.01865616335254877, 0.018618830723826158, 0.01848372513109156, 0.01840241544920465, 0.01832478072570489, 0.018254614250539133, 0.018168394033418363, 0.018128619056499904, 0.018011601644156078, 0.017976157841227396, 0.017933478970747548, 0.017847869465427706, 0.017784333562769015, 0.017751687368297058, 0.01770254150342644, 0.017661164033576808, 0.017595522664249172, 0.0175807897330207, 0.01750959302334453, 0.017447488114495032, 0.017393359371349025, 0.017360051211369847, 0.017334512602823697, 0.01726232144548117, 0.01719888771557823, 0.01716632525796247, 0.017111424910490548, 0.017058285385551278, 0.01700707954709487, 0.016992950610711675, 0.01690742601652432, 0.01684054723747856, 0.016870754855492002, 0.01675813262234144, 0.016758373363272232, 0.016703942211825983, 0.01664177611079591, 0.016656552917798006, 0.016555570619766747, 0.01655131136603139, 0.01649975906366773, 0.016440374342024403, 0.016443462163457632, 0.01643902673731413, 0.016346704668563118, 0.01634819275649536, 0.016293486905381883, 0.016342016464561376, 0.016222792974127757, 0.016217800152614294, 0.016262707662532853, 0.016152119860672356, 0.01614145733073087, 0.016109228615298905, 0.016094421687990884, 0.016056512931452306, 0.016021581211834765, 0.016052494774741667, 0.015990332144138683, 0.015937977808687234, 0.01595364697158451, 0.015895318668669143, 0.01589973788241596, 0.015858892797995024, 0.015876958227675896, 0.01579910031903316, 0.015755020374970514, 0.015748764601443203, 0.015733788330631944, 0.015697205414199996, 0.015720945679346846, 0.015654948979492305, 0.015642604395232695, 0.015597019376723892, 0.015601312279548791]\n"
     ]
    },
    {
     "data": {
      "application/vnd.jupyter.widget-view+json": {
       "model_id": "47ac3cbfc67940e684f817bbf66f38fd",
       "version_major": 2,
       "version_minor": 0
      },
      "text/plain": [
       "HBox(children=(FloatProgress(value=0.0, max=782.0), HTML(value='')))"
      ]
     },
     "metadata": {},
     "output_type": "display_data"
    },
    {
     "name": "stdout",
     "output_type": "stream",
     "text": [
      "\n",
      "epoch : 110/150, loss = 0.015602\n",
      "loss list : [0.04804488558731878, 0.030687242127059366, 0.028325845446923504, 0.02720706879883014, 0.026197104626680578, 0.02506364527089364, 0.02418971135069037, 0.023623952858835992, 0.02315334045349637, 0.022692977669922745, 0.0223407316309831, 0.021953678999543952, 0.02165310765328386, 0.021416172623405675, 0.02115680442532272, 0.02100152473496583, 0.02084396844801238, 0.020636780042191754, 0.02051124759995, 0.020336717957883235, 0.02022155877941138, 0.020074059445973094, 0.019988947690886154, 0.019879242368375936, 0.019749382172551608, 0.019670612006055195, 0.019544808889555808, 0.019445481379051954, 0.01937830664903459, 0.01924366190972383, 0.019150482391809946, 0.019032190895646506, 0.01888003138482304, 0.018828929815193653, 0.01865616335254877, 0.018618830723826158, 0.01848372513109156, 0.01840241544920465, 0.01832478072570489, 0.018254614250539133, 0.018168394033418363, 0.018128619056499904, 0.018011601644156078, 0.017976157841227396, 0.017933478970747548, 0.017847869465427706, 0.017784333562769015, 0.017751687368297058, 0.01770254150342644, 0.017661164033576808, 0.017595522664249172, 0.0175807897330207, 0.01750959302334453, 0.017447488114495032, 0.017393359371349025, 0.017360051211369847, 0.017334512602823697, 0.01726232144548117, 0.01719888771557823, 0.01716632525796247, 0.017111424910490548, 0.017058285385551278, 0.01700707954709487, 0.016992950610711675, 0.01690742601652432, 0.01684054723747856, 0.016870754855492002, 0.01675813262234144, 0.016758373363272232, 0.016703942211825983, 0.01664177611079591, 0.016656552917798006, 0.016555570619766747, 0.01655131136603139, 0.01649975906366773, 0.016440374342024403, 0.016443462163457632, 0.01643902673731413, 0.016346704668563118, 0.01634819275649536, 0.016293486905381883, 0.016342016464561376, 0.016222792974127757, 0.016217800152614294, 0.016262707662532853, 0.016152119860672356, 0.01614145733073087, 0.016109228615298905, 0.016094421687990884, 0.016056512931452306, 0.016021581211834765, 0.016052494774741667, 0.015990332144138683, 0.015937977808687234, 0.01595364697158451, 0.015895318668669143, 0.01589973788241596, 0.015858892797995024, 0.015876958227675896, 0.01579910031903316, 0.015755020374970514, 0.015748764601443203, 0.015733788330631944, 0.015697205414199996, 0.015720945679346846, 0.015654948979492305, 0.015642604395232695, 0.015597019376723892, 0.015601312279548791, 0.015601683877256063]\n"
     ]
    },
    {
     "data": {
      "application/vnd.jupyter.widget-view+json": {
       "model_id": "9ee56629f18749c88e2fc0e464d30a56",
       "version_major": 2,
       "version_minor": 0
      },
      "text/plain": [
       "HBox(children=(FloatProgress(value=0.0, max=782.0), HTML(value='')))"
      ]
     },
     "metadata": {},
     "output_type": "display_data"
    },
    {
     "name": "stdout",
     "output_type": "stream",
     "text": [
      "\n",
      "epoch : 111/150, loss = 0.015586\n",
      "loss list : [0.04804488558731878, 0.030687242127059366, 0.028325845446923504, 0.02720706879883014, 0.026197104626680578, 0.02506364527089364, 0.02418971135069037, 0.023623952858835992, 0.02315334045349637, 0.022692977669922745, 0.0223407316309831, 0.021953678999543952, 0.02165310765328386, 0.021416172623405675, 0.02115680442532272, 0.02100152473496583, 0.02084396844801238, 0.020636780042191754, 0.02051124759995, 0.020336717957883235, 0.02022155877941138, 0.020074059445973094, 0.019988947690886154, 0.019879242368375936, 0.019749382172551608, 0.019670612006055195, 0.019544808889555808, 0.019445481379051954, 0.01937830664903459, 0.01924366190972383, 0.019150482391809946, 0.019032190895646506, 0.01888003138482304, 0.018828929815193653, 0.01865616335254877, 0.018618830723826158, 0.01848372513109156, 0.01840241544920465, 0.01832478072570489, 0.018254614250539133, 0.018168394033418363, 0.018128619056499904, 0.018011601644156078, 0.017976157841227396, 0.017933478970747548, 0.017847869465427706, 0.017784333562769015, 0.017751687368297058, 0.01770254150342644, 0.017661164033576808, 0.017595522664249172, 0.0175807897330207, 0.01750959302334453, 0.017447488114495032, 0.017393359371349025, 0.017360051211369847, 0.017334512602823697, 0.01726232144548117, 0.01719888771557823, 0.01716632525796247, 0.017111424910490548, 0.017058285385551278, 0.01700707954709487, 0.016992950610711675, 0.01690742601652432, 0.01684054723747856, 0.016870754855492002, 0.01675813262234144, 0.016758373363272232, 0.016703942211825983, 0.01664177611079591, 0.016656552917798006, 0.016555570619766747, 0.01655131136603139, 0.01649975906366773, 0.016440374342024403, 0.016443462163457632, 0.01643902673731413, 0.016346704668563118, 0.01634819275649536, 0.016293486905381883, 0.016342016464561376, 0.016222792974127757, 0.016217800152614294, 0.016262707662532853, 0.016152119860672356, 0.01614145733073087, 0.016109228615298905, 0.016094421687990884, 0.016056512931452306, 0.016021581211834765, 0.016052494774741667, 0.015990332144138683, 0.015937977808687234, 0.01595364697158451, 0.015895318668669143, 0.01589973788241596, 0.015858892797995024, 0.015876958227675896, 0.01579910031903316, 0.015755020374970514, 0.015748764601443203, 0.015733788330631944, 0.015697205414199996, 0.015720945679346846, 0.015654948979492305, 0.015642604395232695, 0.015597019376723892, 0.015601312279548791, 0.015601683877256063, 0.015585606463987123]\n"
     ]
    },
    {
     "data": {
      "application/vnd.jupyter.widget-view+json": {
       "model_id": "24b21790490f423295db691dfab15e7f",
       "version_major": 2,
       "version_minor": 0
      },
      "text/plain": [
       "HBox(children=(FloatProgress(value=0.0, max=782.0), HTML(value='')))"
      ]
     },
     "metadata": {},
     "output_type": "display_data"
    },
    {
     "name": "stdout",
     "output_type": "stream",
     "text": [
      "\n",
      "epoch : 112/150, loss = 0.015575\n",
      "loss list : [0.04804488558731878, 0.030687242127059366, 0.028325845446923504, 0.02720706879883014, 0.026197104626680578, 0.02506364527089364, 0.02418971135069037, 0.023623952858835992, 0.02315334045349637, 0.022692977669922745, 0.0223407316309831, 0.021953678999543952, 0.02165310765328386, 0.021416172623405675, 0.02115680442532272, 0.02100152473496583, 0.02084396844801238, 0.020636780042191754, 0.02051124759995, 0.020336717957883235, 0.02022155877941138, 0.020074059445973094, 0.019988947690886154, 0.019879242368375936, 0.019749382172551608, 0.019670612006055195, 0.019544808889555808, 0.019445481379051954, 0.01937830664903459, 0.01924366190972383, 0.019150482391809946, 0.019032190895646506, 0.01888003138482304, 0.018828929815193653, 0.01865616335254877, 0.018618830723826158, 0.01848372513109156, 0.01840241544920465, 0.01832478072570489, 0.018254614250539133, 0.018168394033418363, 0.018128619056499904, 0.018011601644156078, 0.017976157841227396, 0.017933478970747548, 0.017847869465427706, 0.017784333562769015, 0.017751687368297058, 0.01770254150342644, 0.017661164033576808, 0.017595522664249172, 0.0175807897330207, 0.01750959302334453, 0.017447488114495032, 0.017393359371349025, 0.017360051211369847, 0.017334512602823697, 0.01726232144548117, 0.01719888771557823, 0.01716632525796247, 0.017111424910490548, 0.017058285385551278, 0.01700707954709487, 0.016992950610711675, 0.01690742601652432, 0.01684054723747856, 0.016870754855492002, 0.01675813262234144, 0.016758373363272232, 0.016703942211825983, 0.01664177611079591, 0.016656552917798006, 0.016555570619766747, 0.01655131136603139, 0.01649975906366773, 0.016440374342024403, 0.016443462163457632, 0.01643902673731413, 0.016346704668563118, 0.01634819275649536, 0.016293486905381883, 0.016342016464561376, 0.016222792974127757, 0.016217800152614294, 0.016262707662532853, 0.016152119860672356, 0.01614145733073087, 0.016109228615298905, 0.016094421687990884, 0.016056512931452306, 0.016021581211834765, 0.016052494774741667, 0.015990332144138683, 0.015937977808687234, 0.01595364697158451, 0.015895318668669143, 0.01589973788241596, 0.015858892797995024, 0.015876958227675896, 0.01579910031903316, 0.015755020374970514, 0.015748764601443203, 0.015733788330631944, 0.015697205414199996, 0.015720945679346846, 0.015654948979492305, 0.015642604395232695, 0.015597019376723892, 0.015601312279548791, 0.015601683877256063, 0.015585606463987123, 0.01557487877838485]\n"
     ]
    },
    {
     "data": {
      "application/vnd.jupyter.widget-view+json": {
       "model_id": "2d1c924ff5ae45e09b7d6449369eee2b",
       "version_major": 2,
       "version_minor": 0
      },
      "text/plain": [
       "HBox(children=(FloatProgress(value=0.0, max=782.0), HTML(value='')))"
      ]
     },
     "metadata": {},
     "output_type": "display_data"
    },
    {
     "name": "stdout",
     "output_type": "stream",
     "text": [
      "\n",
      "epoch : 113/150, loss = 0.015536\n",
      "loss list : [0.04804488558731878, 0.030687242127059366, 0.028325845446923504, 0.02720706879883014, 0.026197104626680578, 0.02506364527089364, 0.02418971135069037, 0.023623952858835992, 0.02315334045349637, 0.022692977669922745, 0.0223407316309831, 0.021953678999543952, 0.02165310765328386, 0.021416172623405675, 0.02115680442532272, 0.02100152473496583, 0.02084396844801238, 0.020636780042191754, 0.02051124759995, 0.020336717957883235, 0.02022155877941138, 0.020074059445973094, 0.019988947690886154, 0.019879242368375936, 0.019749382172551608, 0.019670612006055195, 0.019544808889555808, 0.019445481379051954, 0.01937830664903459, 0.01924366190972383, 0.019150482391809946, 0.019032190895646506, 0.01888003138482304, 0.018828929815193653, 0.01865616335254877, 0.018618830723826158, 0.01848372513109156, 0.01840241544920465, 0.01832478072570489, 0.018254614250539133, 0.018168394033418363, 0.018128619056499904, 0.018011601644156078, 0.017976157841227396, 0.017933478970747548, 0.017847869465427706, 0.017784333562769015, 0.017751687368297058, 0.01770254150342644, 0.017661164033576808, 0.017595522664249172, 0.0175807897330207, 0.01750959302334453, 0.017447488114495032, 0.017393359371349025, 0.017360051211369847, 0.017334512602823697, 0.01726232144548117, 0.01719888771557823, 0.01716632525796247, 0.017111424910490548, 0.017058285385551278, 0.01700707954709487, 0.016992950610711675, 0.01690742601652432, 0.01684054723747856, 0.016870754855492002, 0.01675813262234144, 0.016758373363272232, 0.016703942211825983, 0.01664177611079591, 0.016656552917798006, 0.016555570619766747, 0.01655131136603139, 0.01649975906366773, 0.016440374342024403, 0.016443462163457632, 0.01643902673731413, 0.016346704668563118, 0.01634819275649536, 0.016293486905381883, 0.016342016464561376, 0.016222792974127757, 0.016217800152614294, 0.016262707662532853, 0.016152119860672356, 0.01614145733073087, 0.016109228615298905, 0.016094421687990884, 0.016056512931452306, 0.016021581211834765, 0.016052494774741667, 0.015990332144138683, 0.015937977808687234, 0.01595364697158451, 0.015895318668669143, 0.01589973788241596, 0.015858892797995024, 0.015876958227675896, 0.01579910031903316, 0.015755020374970514, 0.015748764601443203, 0.015733788330631944, 0.015697205414199996, 0.015720945679346846, 0.015654948979492305, 0.015642604395232695, 0.015597019376723892, 0.015601312279548791, 0.015601683877256063, 0.015585606463987123, 0.01557487877838485, 0.01553638576222655]\n"
     ]
    },
    {
     "data": {
      "application/vnd.jupyter.widget-view+json": {
       "model_id": "dee6f159a64e49b79e381c6253bca4a6",
       "version_major": 2,
       "version_minor": 0
      },
      "text/plain": [
       "HBox(children=(FloatProgress(value=0.0, max=782.0), HTML(value='')))"
      ]
     },
     "metadata": {},
     "output_type": "display_data"
    },
    {
     "name": "stdout",
     "output_type": "stream",
     "text": [
      "\n",
      "epoch : 114/150, loss = 0.015519\n",
      "loss list : [0.04804488558731878, 0.030687242127059366, 0.028325845446923504, 0.02720706879883014, 0.026197104626680578, 0.02506364527089364, 0.02418971135069037, 0.023623952858835992, 0.02315334045349637, 0.022692977669922745, 0.0223407316309831, 0.021953678999543952, 0.02165310765328386, 0.021416172623405675, 0.02115680442532272, 0.02100152473496583, 0.02084396844801238, 0.020636780042191754, 0.02051124759995, 0.020336717957883235, 0.02022155877941138, 0.020074059445973094, 0.019988947690886154, 0.019879242368375936, 0.019749382172551608, 0.019670612006055195, 0.019544808889555808, 0.019445481379051954, 0.01937830664903459, 0.01924366190972383, 0.019150482391809946, 0.019032190895646506, 0.01888003138482304, 0.018828929815193653, 0.01865616335254877, 0.018618830723826158, 0.01848372513109156, 0.01840241544920465, 0.01832478072570489, 0.018254614250539133, 0.018168394033418363, 0.018128619056499904, 0.018011601644156078, 0.017976157841227396, 0.017933478970747548, 0.017847869465427706, 0.017784333562769015, 0.017751687368297058, 0.01770254150342644, 0.017661164033576808, 0.017595522664249172, 0.0175807897330207, 0.01750959302334453, 0.017447488114495032, 0.017393359371349025, 0.017360051211369847, 0.017334512602823697, 0.01726232144548117, 0.01719888771557823, 0.01716632525796247, 0.017111424910490548, 0.017058285385551278, 0.01700707954709487, 0.016992950610711675, 0.01690742601652432, 0.01684054723747856, 0.016870754855492002, 0.01675813262234144, 0.016758373363272232, 0.016703942211825983, 0.01664177611079591, 0.016656552917798006, 0.016555570619766747, 0.01655131136603139, 0.01649975906366773, 0.016440374342024403, 0.016443462163457632, 0.01643902673731413, 0.016346704668563118, 0.01634819275649536, 0.016293486905381883, 0.016342016464561376, 0.016222792974127757, 0.016217800152614294, 0.016262707662532853, 0.016152119860672356, 0.01614145733073087, 0.016109228615298905, 0.016094421687990884, 0.016056512931452306, 0.016021581211834765, 0.016052494774741667, 0.015990332144138683, 0.015937977808687234, 0.01595364697158451, 0.015895318668669143, 0.01589973788241596, 0.015858892797995024, 0.015876958227675896, 0.01579910031903316, 0.015755020374970514, 0.015748764601443203, 0.015733788330631944, 0.015697205414199996, 0.015720945679346846, 0.015654948979492305, 0.015642604395232695, 0.015597019376723892, 0.015601312279548791, 0.015601683877256063, 0.015585606463987123, 0.01557487877838485, 0.01553638576222655, 0.015519006036060013]\n"
     ]
    },
    {
     "data": {
      "application/vnd.jupyter.widget-view+json": {
       "model_id": "6c0181cd154943f8b132564933ab807f",
       "version_major": 2,
       "version_minor": 0
      },
      "text/plain": [
       "HBox(children=(FloatProgress(value=0.0, max=782.0), HTML(value='')))"
      ]
     },
     "metadata": {},
     "output_type": "display_data"
    },
    {
     "name": "stdout",
     "output_type": "stream",
     "text": [
      "\n",
      "epoch : 115/150, loss = 0.015461\n",
      "loss list : [0.04804488558731878, 0.030687242127059366, 0.028325845446923504, 0.02720706879883014, 0.026197104626680578, 0.02506364527089364, 0.02418971135069037, 0.023623952858835992, 0.02315334045349637, 0.022692977669922745, 0.0223407316309831, 0.021953678999543952, 0.02165310765328386, 0.021416172623405675, 0.02115680442532272, 0.02100152473496583, 0.02084396844801238, 0.020636780042191754, 0.02051124759995, 0.020336717957883235, 0.02022155877941138, 0.020074059445973094, 0.019988947690886154, 0.019879242368375936, 0.019749382172551608, 0.019670612006055195, 0.019544808889555808, 0.019445481379051954, 0.01937830664903459, 0.01924366190972383, 0.019150482391809946, 0.019032190895646506, 0.01888003138482304, 0.018828929815193653, 0.01865616335254877, 0.018618830723826158, 0.01848372513109156, 0.01840241544920465, 0.01832478072570489, 0.018254614250539133, 0.018168394033418363, 0.018128619056499904, 0.018011601644156078, 0.017976157841227396, 0.017933478970747548, 0.017847869465427706, 0.017784333562769015, 0.017751687368297058, 0.01770254150342644, 0.017661164033576808, 0.017595522664249172, 0.0175807897330207, 0.01750959302334453, 0.017447488114495032, 0.017393359371349025, 0.017360051211369847, 0.017334512602823697, 0.01726232144548117, 0.01719888771557823, 0.01716632525796247, 0.017111424910490548, 0.017058285385551278, 0.01700707954709487, 0.016992950610711675, 0.01690742601652432, 0.01684054723747856, 0.016870754855492002, 0.01675813262234144, 0.016758373363272232, 0.016703942211825983, 0.01664177611079591, 0.016656552917798006, 0.016555570619766747, 0.01655131136603139, 0.01649975906366773, 0.016440374342024403, 0.016443462163457632, 0.01643902673731413, 0.016346704668563118, 0.01634819275649536, 0.016293486905381883, 0.016342016464561376, 0.016222792974127757, 0.016217800152614294, 0.016262707662532853, 0.016152119860672356, 0.01614145733073087, 0.016109228615298905, 0.016094421687990884, 0.016056512931452306, 0.016021581211834765, 0.016052494774741667, 0.015990332144138683, 0.015937977808687234, 0.01595364697158451, 0.015895318668669143, 0.01589973788241596, 0.015858892797995024, 0.015876958227675896, 0.01579910031903316, 0.015755020374970514, 0.015748764601443203, 0.015733788330631944, 0.015697205414199996, 0.015720945679346846, 0.015654948979492305, 0.015642604395232695, 0.015597019376723892, 0.015601312279548791, 0.015601683877256063, 0.015585606463987123, 0.01557487877838485, 0.01553638576222655, 0.015519006036060013, 0.015460984699208946]\n"
     ]
    },
    {
     "data": {
      "application/vnd.jupyter.widget-view+json": {
       "model_id": "58cf0e2b4eb74639a786b507476e7c5e",
       "version_major": 2,
       "version_minor": 0
      },
      "text/plain": [
       "HBox(children=(FloatProgress(value=0.0, max=782.0), HTML(value='')))"
      ]
     },
     "metadata": {},
     "output_type": "display_data"
    },
    {
     "name": "stdout",
     "output_type": "stream",
     "text": [
      "\n",
      "epoch : 116/150, loss = 0.015458\n",
      "loss list : [0.04804488558731878, 0.030687242127059366, 0.028325845446923504, 0.02720706879883014, 0.026197104626680578, 0.02506364527089364, 0.02418971135069037, 0.023623952858835992, 0.02315334045349637, 0.022692977669922745, 0.0223407316309831, 0.021953678999543952, 0.02165310765328386, 0.021416172623405675, 0.02115680442532272, 0.02100152473496583, 0.02084396844801238, 0.020636780042191754, 0.02051124759995, 0.020336717957883235, 0.02022155877941138, 0.020074059445973094, 0.019988947690886154, 0.019879242368375936, 0.019749382172551608, 0.019670612006055195, 0.019544808889555808, 0.019445481379051954, 0.01937830664903459, 0.01924366190972383, 0.019150482391809946, 0.019032190895646506, 0.01888003138482304, 0.018828929815193653, 0.01865616335254877, 0.018618830723826158, 0.01848372513109156, 0.01840241544920465, 0.01832478072570489, 0.018254614250539133, 0.018168394033418363, 0.018128619056499904, 0.018011601644156078, 0.017976157841227396, 0.017933478970747548, 0.017847869465427706, 0.017784333562769015, 0.017751687368297058, 0.01770254150342644, 0.017661164033576808, 0.017595522664249172, 0.0175807897330207, 0.01750959302334453, 0.017447488114495032, 0.017393359371349025, 0.017360051211369847, 0.017334512602823697, 0.01726232144548117, 0.01719888771557823, 0.01716632525796247, 0.017111424910490548, 0.017058285385551278, 0.01700707954709487, 0.016992950610711675, 0.01690742601652432, 0.01684054723747856, 0.016870754855492002, 0.01675813262234144, 0.016758373363272232, 0.016703942211825983, 0.01664177611079591, 0.016656552917798006, 0.016555570619766747, 0.01655131136603139, 0.01649975906366773, 0.016440374342024403, 0.016443462163457632, 0.01643902673731413, 0.016346704668563118, 0.01634819275649536, 0.016293486905381883, 0.016342016464561376, 0.016222792974127757, 0.016217800152614294, 0.016262707662532853, 0.016152119860672356, 0.01614145733073087, 0.016109228615298905, 0.016094421687990884, 0.016056512931452306, 0.016021581211834765, 0.016052494774741667, 0.015990332144138683, 0.015937977808687234, 0.01595364697158451, 0.015895318668669143, 0.01589973788241596, 0.015858892797995024, 0.015876958227675896, 0.01579910031903316, 0.015755020374970514, 0.015748764601443203, 0.015733788330631944, 0.015697205414199996, 0.015720945679346846, 0.015654948979492305, 0.015642604395232695, 0.015597019376723892, 0.015601312279548791, 0.015601683877256063, 0.015585606463987123, 0.01557487877838485, 0.01553638576222655, 0.015519006036060013, 0.015460984699208946, 0.015458301867327422]\n"
     ]
    },
    {
     "data": {
      "application/vnd.jupyter.widget-view+json": {
       "model_id": "6a2e0bed715249aa8e1101a4beea19b3",
       "version_major": 2,
       "version_minor": 0
      },
      "text/plain": [
       "HBox(children=(FloatProgress(value=0.0, max=782.0), HTML(value='')))"
      ]
     },
     "metadata": {},
     "output_type": "display_data"
    },
    {
     "name": "stdout",
     "output_type": "stream",
     "text": [
      "\n",
      "epoch : 117/150, loss = 0.015438\n",
      "loss list : [0.04804488558731878, 0.030687242127059366, 0.028325845446923504, 0.02720706879883014, 0.026197104626680578, 0.02506364527089364, 0.02418971135069037, 0.023623952858835992, 0.02315334045349637, 0.022692977669922745, 0.0223407316309831, 0.021953678999543952, 0.02165310765328386, 0.021416172623405675, 0.02115680442532272, 0.02100152473496583, 0.02084396844801238, 0.020636780042191754, 0.02051124759995, 0.020336717957883235, 0.02022155877941138, 0.020074059445973094, 0.019988947690886154, 0.019879242368375936, 0.019749382172551608, 0.019670612006055195, 0.019544808889555808, 0.019445481379051954, 0.01937830664903459, 0.01924366190972383, 0.019150482391809946, 0.019032190895646506, 0.01888003138482304, 0.018828929815193653, 0.01865616335254877, 0.018618830723826158, 0.01848372513109156, 0.01840241544920465, 0.01832478072570489, 0.018254614250539133, 0.018168394033418363, 0.018128619056499904, 0.018011601644156078, 0.017976157841227396, 0.017933478970747548, 0.017847869465427706, 0.017784333562769015, 0.017751687368297058, 0.01770254150342644, 0.017661164033576808, 0.017595522664249172, 0.0175807897330207, 0.01750959302334453, 0.017447488114495032, 0.017393359371349025, 0.017360051211369847, 0.017334512602823697, 0.01726232144548117, 0.01719888771557823, 0.01716632525796247, 0.017111424910490548, 0.017058285385551278, 0.01700707954709487, 0.016992950610711675, 0.01690742601652432, 0.01684054723747856, 0.016870754855492002, 0.01675813262234144, 0.016758373363272232, 0.016703942211825983, 0.01664177611079591, 0.016656552917798006, 0.016555570619766747, 0.01655131136603139, 0.01649975906366773, 0.016440374342024403, 0.016443462163457632, 0.01643902673731413, 0.016346704668563118, 0.01634819275649536, 0.016293486905381883, 0.016342016464561376, 0.016222792974127757, 0.016217800152614294, 0.016262707662532853, 0.016152119860672356, 0.01614145733073087, 0.016109228615298905, 0.016094421687990884, 0.016056512931452306, 0.016021581211834765, 0.016052494774741667, 0.015990332144138683, 0.015937977808687234, 0.01595364697158451, 0.015895318668669143, 0.01589973788241596, 0.015858892797995024, 0.015876958227675896, 0.01579910031903316, 0.015755020374970514, 0.015748764601443203, 0.015733788330631944, 0.015697205414199996, 0.015720945679346846, 0.015654948979492305, 0.015642604395232695, 0.015597019376723892, 0.015601312279548791, 0.015601683877256063, 0.015585606463987123, 0.01557487877838485, 0.01553638576222655, 0.015519006036060013, 0.015460984699208946, 0.015458301867327422, 0.015437984624710839]\n"
     ]
    },
    {
     "data": {
      "application/vnd.jupyter.widget-view+json": {
       "model_id": "92aedc805187410a83f8576edceace8f",
       "version_major": 2,
       "version_minor": 0
      },
      "text/plain": [
       "HBox(children=(FloatProgress(value=0.0, max=782.0), HTML(value='')))"
      ]
     },
     "metadata": {},
     "output_type": "display_data"
    },
    {
     "name": "stdout",
     "output_type": "stream",
     "text": [
      "\n",
      "epoch : 118/150, loss = 0.015406\n",
      "loss list : [0.04804488558731878, 0.030687242127059366, 0.028325845446923504, 0.02720706879883014, 0.026197104626680578, 0.02506364527089364, 0.02418971135069037, 0.023623952858835992, 0.02315334045349637, 0.022692977669922745, 0.0223407316309831, 0.021953678999543952, 0.02165310765328386, 0.021416172623405675, 0.02115680442532272, 0.02100152473496583, 0.02084396844801238, 0.020636780042191754, 0.02051124759995, 0.020336717957883235, 0.02022155877941138, 0.020074059445973094, 0.019988947690886154, 0.019879242368375936, 0.019749382172551608, 0.019670612006055195, 0.019544808889555808, 0.019445481379051954, 0.01937830664903459, 0.01924366190972383, 0.019150482391809946, 0.019032190895646506, 0.01888003138482304, 0.018828929815193653, 0.01865616335254877, 0.018618830723826158, 0.01848372513109156, 0.01840241544920465, 0.01832478072570489, 0.018254614250539133, 0.018168394033418363, 0.018128619056499904, 0.018011601644156078, 0.017976157841227396, 0.017933478970747548, 0.017847869465427706, 0.017784333562769015, 0.017751687368297058, 0.01770254150342644, 0.017661164033576808, 0.017595522664249172, 0.0175807897330207, 0.01750959302334453, 0.017447488114495032, 0.017393359371349025, 0.017360051211369847, 0.017334512602823697, 0.01726232144548117, 0.01719888771557823, 0.01716632525796247, 0.017111424910490548, 0.017058285385551278, 0.01700707954709487, 0.016992950610711675, 0.01690742601652432, 0.01684054723747856, 0.016870754855492002, 0.01675813262234144, 0.016758373363272232, 0.016703942211825983, 0.01664177611079591, 0.016656552917798006, 0.016555570619766747, 0.01655131136603139, 0.01649975906366773, 0.016440374342024403, 0.016443462163457632, 0.01643902673731413, 0.016346704668563118, 0.01634819275649536, 0.016293486905381883, 0.016342016464561376, 0.016222792974127757, 0.016217800152614294, 0.016262707662532853, 0.016152119860672356, 0.01614145733073087, 0.016109228615298905, 0.016094421687990884, 0.016056512931452306, 0.016021581211834765, 0.016052494774741667, 0.015990332144138683, 0.015937977808687234, 0.01595364697158451, 0.015895318668669143, 0.01589973788241596, 0.015858892797995024, 0.015876958227675896, 0.01579910031903316, 0.015755020374970514, 0.015748764601443203, 0.015733788330631944, 0.015697205414199996, 0.015720945679346846, 0.015654948979492305, 0.015642604395232695, 0.015597019376723892, 0.015601312279548791, 0.015601683877256063, 0.015585606463987123, 0.01557487877838485, 0.01553638576222655, 0.015519006036060013, 0.015460984699208946, 0.015458301867327422, 0.015437984624710839, 0.015405968635502603]\n"
     ]
    },
    {
     "data": {
      "application/vnd.jupyter.widget-view+json": {
       "model_id": "918a0bc86e734644aacdd9e887160b0b",
       "version_major": 2,
       "version_minor": 0
      },
      "text/plain": [
       "HBox(children=(FloatProgress(value=0.0, max=782.0), HTML(value='')))"
      ]
     },
     "metadata": {},
     "output_type": "display_data"
    },
    {
     "name": "stdout",
     "output_type": "stream",
     "text": [
      "\n",
      "epoch : 119/150, loss = 0.015425\n",
      "loss list : [0.04804488558731878, 0.030687242127059366, 0.028325845446923504, 0.02720706879883014, 0.026197104626680578, 0.02506364527089364, 0.02418971135069037, 0.023623952858835992, 0.02315334045349637, 0.022692977669922745, 0.0223407316309831, 0.021953678999543952, 0.02165310765328386, 0.021416172623405675, 0.02115680442532272, 0.02100152473496583, 0.02084396844801238, 0.020636780042191754, 0.02051124759995, 0.020336717957883235, 0.02022155877941138, 0.020074059445973094, 0.019988947690886154, 0.019879242368375936, 0.019749382172551608, 0.019670612006055195, 0.019544808889555808, 0.019445481379051954, 0.01937830664903459, 0.01924366190972383, 0.019150482391809946, 0.019032190895646506, 0.01888003138482304, 0.018828929815193653, 0.01865616335254877, 0.018618830723826158, 0.01848372513109156, 0.01840241544920465, 0.01832478072570489, 0.018254614250539133, 0.018168394033418363, 0.018128619056499904, 0.018011601644156078, 0.017976157841227396, 0.017933478970747548, 0.017847869465427706, 0.017784333562769015, 0.017751687368297058, 0.01770254150342644, 0.017661164033576808, 0.017595522664249172, 0.0175807897330207, 0.01750959302334453, 0.017447488114495032, 0.017393359371349025, 0.017360051211369847, 0.017334512602823697, 0.01726232144548117, 0.01719888771557823, 0.01716632525796247, 0.017111424910490548, 0.017058285385551278, 0.01700707954709487, 0.016992950610711675, 0.01690742601652432, 0.01684054723747856, 0.016870754855492002, 0.01675813262234144, 0.016758373363272232, 0.016703942211825983, 0.01664177611079591, 0.016656552917798006, 0.016555570619766747, 0.01655131136603139, 0.01649975906366773, 0.016440374342024403, 0.016443462163457632, 0.01643902673731413, 0.016346704668563118, 0.01634819275649536, 0.016293486905381883, 0.016342016464561376, 0.016222792974127757, 0.016217800152614294, 0.016262707662532853, 0.016152119860672356, 0.01614145733073087, 0.016109228615298905, 0.016094421687990884, 0.016056512931452306, 0.016021581211834765, 0.016052494774741667, 0.015990332144138683, 0.015937977808687234, 0.01595364697158451, 0.015895318668669143, 0.01589973788241596, 0.015858892797995024, 0.015876958227675896, 0.01579910031903316, 0.015755020374970514, 0.015748764601443203, 0.015733788330631944, 0.015697205414199996, 0.015720945679346846, 0.015654948979492305, 0.015642604395232695, 0.015597019376723892, 0.015601312279548791, 0.015601683877256063, 0.015585606463987123, 0.01557487877838485, 0.01553638576222655, 0.015519006036060013, 0.015460984699208946, 0.015458301867327422, 0.015437984624710839, 0.015405968635502603, 0.015425402805676012]\n"
     ]
    },
    {
     "data": {
      "application/vnd.jupyter.widget-view+json": {
       "model_id": "9c8da08889a0450db942631e263ec35d",
       "version_major": 2,
       "version_minor": 0
      },
      "text/plain": [
       "HBox(children=(FloatProgress(value=0.0, max=782.0), HTML(value='')))"
      ]
     },
     "metadata": {},
     "output_type": "display_data"
    },
    {
     "name": "stdout",
     "output_type": "stream",
     "text": [
      "\n",
      "epoch : 120/150, loss = 0.015368\n",
      "loss list : [0.04804488558731878, 0.030687242127059366, 0.028325845446923504, 0.02720706879883014, 0.026197104626680578, 0.02506364527089364, 0.02418971135069037, 0.023623952858835992, 0.02315334045349637, 0.022692977669922745, 0.0223407316309831, 0.021953678999543952, 0.02165310765328386, 0.021416172623405675, 0.02115680442532272, 0.02100152473496583, 0.02084396844801238, 0.020636780042191754, 0.02051124759995, 0.020336717957883235, 0.02022155877941138, 0.020074059445973094, 0.019988947690886154, 0.019879242368375936, 0.019749382172551608, 0.019670612006055195, 0.019544808889555808, 0.019445481379051954, 0.01937830664903459, 0.01924366190972383, 0.019150482391809946, 0.019032190895646506, 0.01888003138482304, 0.018828929815193653, 0.01865616335254877, 0.018618830723826158, 0.01848372513109156, 0.01840241544920465, 0.01832478072570489, 0.018254614250539133, 0.018168394033418363, 0.018128619056499904, 0.018011601644156078, 0.017976157841227396, 0.017933478970747548, 0.017847869465427706, 0.017784333562769015, 0.017751687368297058, 0.01770254150342644, 0.017661164033576808, 0.017595522664249172, 0.0175807897330207, 0.01750959302334453, 0.017447488114495032, 0.017393359371349025, 0.017360051211369847, 0.017334512602823697, 0.01726232144548117, 0.01719888771557823, 0.01716632525796247, 0.017111424910490548, 0.017058285385551278, 0.01700707954709487, 0.016992950610711675, 0.01690742601652432, 0.01684054723747856, 0.016870754855492002, 0.01675813262234144, 0.016758373363272232, 0.016703942211825983, 0.01664177611079591, 0.016656552917798006, 0.016555570619766747, 0.01655131136603139, 0.01649975906366773, 0.016440374342024403, 0.016443462163457632, 0.01643902673731413, 0.016346704668563118, 0.01634819275649536, 0.016293486905381883, 0.016342016464561376, 0.016222792974127757, 0.016217800152614294, 0.016262707662532853, 0.016152119860672356, 0.01614145733073087, 0.016109228615298905, 0.016094421687990884, 0.016056512931452306, 0.016021581211834765, 0.016052494774741667, 0.015990332144138683, 0.015937977808687234, 0.01595364697158451, 0.015895318668669143, 0.01589973788241596, 0.015858892797995024, 0.015876958227675896, 0.01579910031903316, 0.015755020374970514, 0.015748764601443203, 0.015733788330631944, 0.015697205414199996, 0.015720945679346846, 0.015654948979492305, 0.015642604395232695, 0.015597019376723892, 0.015601312279548791, 0.015601683877256063, 0.015585606463987123, 0.01557487877838485, 0.01553638576222655, 0.015519006036060013, 0.015460984699208946, 0.015458301867327422, 0.015437984624710839, 0.015405968635502603, 0.015425402805676012, 0.01536775458022914]\n"
     ]
    },
    {
     "data": {
      "application/vnd.jupyter.widget-view+json": {
       "model_id": "33b165c353344138ae8a3411390d9413",
       "version_major": 2,
       "version_minor": 0
      },
      "text/plain": [
       "HBox(children=(FloatProgress(value=0.0, max=782.0), HTML(value='')))"
      ]
     },
     "metadata": {},
     "output_type": "display_data"
    },
    {
     "name": "stdout",
     "output_type": "stream",
     "text": [
      "\n",
      "epoch : 121/150, loss = 0.015392\n",
      "loss list : [0.04804488558731878, 0.030687242127059366, 0.028325845446923504, 0.02720706879883014, 0.026197104626680578, 0.02506364527089364, 0.02418971135069037, 0.023623952858835992, 0.02315334045349637, 0.022692977669922745, 0.0223407316309831, 0.021953678999543952, 0.02165310765328386, 0.021416172623405675, 0.02115680442532272, 0.02100152473496583, 0.02084396844801238, 0.020636780042191754, 0.02051124759995, 0.020336717957883235, 0.02022155877941138, 0.020074059445973094, 0.019988947690886154, 0.019879242368375936, 0.019749382172551608, 0.019670612006055195, 0.019544808889555808, 0.019445481379051954, 0.01937830664903459, 0.01924366190972383, 0.019150482391809946, 0.019032190895646506, 0.01888003138482304, 0.018828929815193653, 0.01865616335254877, 0.018618830723826158, 0.01848372513109156, 0.01840241544920465, 0.01832478072570489, 0.018254614250539133, 0.018168394033418363, 0.018128619056499904, 0.018011601644156078, 0.017976157841227396, 0.017933478970747548, 0.017847869465427706, 0.017784333562769015, 0.017751687368297058, 0.01770254150342644, 0.017661164033576808, 0.017595522664249172, 0.0175807897330207, 0.01750959302334453, 0.017447488114495032, 0.017393359371349025, 0.017360051211369847, 0.017334512602823697, 0.01726232144548117, 0.01719888771557823, 0.01716632525796247, 0.017111424910490548, 0.017058285385551278, 0.01700707954709487, 0.016992950610711675, 0.01690742601652432, 0.01684054723747856, 0.016870754855492002, 0.01675813262234144, 0.016758373363272232, 0.016703942211825983, 0.01664177611079591, 0.016656552917798006, 0.016555570619766747, 0.01655131136603139, 0.01649975906366773, 0.016440374342024403, 0.016443462163457632, 0.01643902673731413, 0.016346704668563118, 0.01634819275649536, 0.016293486905381883, 0.016342016464561376, 0.016222792974127757, 0.016217800152614294, 0.016262707662532853, 0.016152119860672356, 0.01614145733073087, 0.016109228615298905, 0.016094421687990884, 0.016056512931452306, 0.016021581211834765, 0.016052494774741667, 0.015990332144138683, 0.015937977808687234, 0.01595364697158451, 0.015895318668669143, 0.01589973788241596, 0.015858892797995024, 0.015876958227675896, 0.01579910031903316, 0.015755020374970514, 0.015748764601443203, 0.015733788330631944, 0.015697205414199996, 0.015720945679346846, 0.015654948979492305, 0.015642604395232695, 0.015597019376723892, 0.015601312279548791, 0.015601683877256063, 0.015585606463987123, 0.01557487877838485, 0.01553638576222655, 0.015519006036060013, 0.015460984699208946, 0.015458301867327422, 0.015437984624710839, 0.015405968635502603, 0.015425402805676012, 0.01536775458022914, 0.01539176526596136]\n"
     ]
    },
    {
     "data": {
      "application/vnd.jupyter.widget-view+json": {
       "model_id": "fd4658d2a83b46018c943320bce3c954",
       "version_major": 2,
       "version_minor": 0
      },
      "text/plain": [
       "HBox(children=(FloatProgress(value=0.0, max=782.0), HTML(value='')))"
      ]
     },
     "metadata": {},
     "output_type": "display_data"
    },
    {
     "name": "stdout",
     "output_type": "stream",
     "text": [
      "\n",
      "epoch : 122/150, loss = 0.015370\n",
      "loss list : [0.04804488558731878, 0.030687242127059366, 0.028325845446923504, 0.02720706879883014, 0.026197104626680578, 0.02506364527089364, 0.02418971135069037, 0.023623952858835992, 0.02315334045349637, 0.022692977669922745, 0.0223407316309831, 0.021953678999543952, 0.02165310765328386, 0.021416172623405675, 0.02115680442532272, 0.02100152473496583, 0.02084396844801238, 0.020636780042191754, 0.02051124759995, 0.020336717957883235, 0.02022155877941138, 0.020074059445973094, 0.019988947690886154, 0.019879242368375936, 0.019749382172551608, 0.019670612006055195, 0.019544808889555808, 0.019445481379051954, 0.01937830664903459, 0.01924366190972383, 0.019150482391809946, 0.019032190895646506, 0.01888003138482304, 0.018828929815193653, 0.01865616335254877, 0.018618830723826158, 0.01848372513109156, 0.01840241544920465, 0.01832478072570489, 0.018254614250539133, 0.018168394033418363, 0.018128619056499904, 0.018011601644156078, 0.017976157841227396, 0.017933478970747548, 0.017847869465427706, 0.017784333562769015, 0.017751687368297058, 0.01770254150342644, 0.017661164033576808, 0.017595522664249172, 0.0175807897330207, 0.01750959302334453, 0.017447488114495032, 0.017393359371349025, 0.017360051211369847, 0.017334512602823697, 0.01726232144548117, 0.01719888771557823, 0.01716632525796247, 0.017111424910490548, 0.017058285385551278, 0.01700707954709487, 0.016992950610711675, 0.01690742601652432, 0.01684054723747856, 0.016870754855492002, 0.01675813262234144, 0.016758373363272232, 0.016703942211825983, 0.01664177611079591, 0.016656552917798006, 0.016555570619766747, 0.01655131136603139, 0.01649975906366773, 0.016440374342024403, 0.016443462163457632, 0.01643902673731413, 0.016346704668563118, 0.01634819275649536, 0.016293486905381883, 0.016342016464561376, 0.016222792974127757, 0.016217800152614294, 0.016262707662532853, 0.016152119860672356, 0.01614145733073087, 0.016109228615298905, 0.016094421687990884, 0.016056512931452306, 0.016021581211834765, 0.016052494774741667, 0.015990332144138683, 0.015937977808687234, 0.01595364697158451, 0.015895318668669143, 0.01589973788241596, 0.015858892797995024, 0.015876958227675896, 0.01579910031903316, 0.015755020374970514, 0.015748764601443203, 0.015733788330631944, 0.015697205414199996, 0.015720945679346846, 0.015654948979492305, 0.015642604395232695, 0.015597019376723892, 0.015601312279548791, 0.015601683877256063, 0.015585606463987123, 0.01557487877838485, 0.01553638576222655, 0.015519006036060013, 0.015460984699208946, 0.015458301867327422, 0.015437984624710839, 0.015405968635502603, 0.015425402805676012, 0.01536775458022914, 0.01539176526596136, 0.01536977507621812]\n"
     ]
    },
    {
     "data": {
      "application/vnd.jupyter.widget-view+json": {
       "model_id": "bce6b84be5104bf5b3ed724ebca79df4",
       "version_major": 2,
       "version_minor": 0
      },
      "text/plain": [
       "HBox(children=(FloatProgress(value=0.0, max=782.0), HTML(value='')))"
      ]
     },
     "metadata": {},
     "output_type": "display_data"
    },
    {
     "name": "stdout",
     "output_type": "stream",
     "text": [
      "\n",
      "epoch : 123/150, loss = 0.015349\n",
      "loss list : [0.04804488558731878, 0.030687242127059366, 0.028325845446923504, 0.02720706879883014, 0.026197104626680578, 0.02506364527089364, 0.02418971135069037, 0.023623952858835992, 0.02315334045349637, 0.022692977669922745, 0.0223407316309831, 0.021953678999543952, 0.02165310765328386, 0.021416172623405675, 0.02115680442532272, 0.02100152473496583, 0.02084396844801238, 0.020636780042191754, 0.02051124759995, 0.020336717957883235, 0.02022155877941138, 0.020074059445973094, 0.019988947690886154, 0.019879242368375936, 0.019749382172551608, 0.019670612006055195, 0.019544808889555808, 0.019445481379051954, 0.01937830664903459, 0.01924366190972383, 0.019150482391809946, 0.019032190895646506, 0.01888003138482304, 0.018828929815193653, 0.01865616335254877, 0.018618830723826158, 0.01848372513109156, 0.01840241544920465, 0.01832478072570489, 0.018254614250539133, 0.018168394033418363, 0.018128619056499904, 0.018011601644156078, 0.017976157841227396, 0.017933478970747548, 0.017847869465427706, 0.017784333562769015, 0.017751687368297058, 0.01770254150342644, 0.017661164033576808, 0.017595522664249172, 0.0175807897330207, 0.01750959302334453, 0.017447488114495032, 0.017393359371349025, 0.017360051211369847, 0.017334512602823697, 0.01726232144548117, 0.01719888771557823, 0.01716632525796247, 0.017111424910490548, 0.017058285385551278, 0.01700707954709487, 0.016992950610711675, 0.01690742601652432, 0.01684054723747856, 0.016870754855492002, 0.01675813262234144, 0.016758373363272232, 0.016703942211825983, 0.01664177611079591, 0.016656552917798006, 0.016555570619766747, 0.01655131136603139, 0.01649975906366773, 0.016440374342024403, 0.016443462163457632, 0.01643902673731413, 0.016346704668563118, 0.01634819275649536, 0.016293486905381883, 0.016342016464561376, 0.016222792974127757, 0.016217800152614294, 0.016262707662532853, 0.016152119860672356, 0.01614145733073087, 0.016109228615298905, 0.016094421687990884, 0.016056512931452306, 0.016021581211834765, 0.016052494774741667, 0.015990332144138683, 0.015937977808687234, 0.01595364697158451, 0.015895318668669143, 0.01589973788241596, 0.015858892797995024, 0.015876958227675896, 0.01579910031903316, 0.015755020374970514, 0.015748764601443203, 0.015733788330631944, 0.015697205414199996, 0.015720945679346846, 0.015654948979492305, 0.015642604395232695, 0.015597019376723892, 0.015601312279548791, 0.015601683877256063, 0.015585606463987123, 0.01557487877838485, 0.01553638576222655, 0.015519006036060013, 0.015460984699208946, 0.015458301867327422, 0.015437984624710839, 0.015405968635502603, 0.015425402805676012, 0.01536775458022914, 0.01539176526596136, 0.01536977507621812, 0.015348761711660249]\n"
     ]
    },
    {
     "data": {
      "application/vnd.jupyter.widget-view+json": {
       "model_id": "e31b5fd11da24f6196232a6846b879c0",
       "version_major": 2,
       "version_minor": 0
      },
      "text/plain": [
       "HBox(children=(FloatProgress(value=0.0, max=782.0), HTML(value='')))"
      ]
     },
     "metadata": {},
     "output_type": "display_data"
    },
    {
     "name": "stdout",
     "output_type": "stream",
     "text": [
      "\n",
      "epoch : 124/150, loss = 0.015306\n",
      "loss list : [0.04804488558731878, 0.030687242127059366, 0.028325845446923504, 0.02720706879883014, 0.026197104626680578, 0.02506364527089364, 0.02418971135069037, 0.023623952858835992, 0.02315334045349637, 0.022692977669922745, 0.0223407316309831, 0.021953678999543952, 0.02165310765328386, 0.021416172623405675, 0.02115680442532272, 0.02100152473496583, 0.02084396844801238, 0.020636780042191754, 0.02051124759995, 0.020336717957883235, 0.02022155877941138, 0.020074059445973094, 0.019988947690886154, 0.019879242368375936, 0.019749382172551608, 0.019670612006055195, 0.019544808889555808, 0.019445481379051954, 0.01937830664903459, 0.01924366190972383, 0.019150482391809946, 0.019032190895646506, 0.01888003138482304, 0.018828929815193653, 0.01865616335254877, 0.018618830723826158, 0.01848372513109156, 0.01840241544920465, 0.01832478072570489, 0.018254614250539133, 0.018168394033418363, 0.018128619056499904, 0.018011601644156078, 0.017976157841227396, 0.017933478970747548, 0.017847869465427706, 0.017784333562769015, 0.017751687368297058, 0.01770254150342644, 0.017661164033576808, 0.017595522664249172, 0.0175807897330207, 0.01750959302334453, 0.017447488114495032, 0.017393359371349025, 0.017360051211369847, 0.017334512602823697, 0.01726232144548117, 0.01719888771557823, 0.01716632525796247, 0.017111424910490548, 0.017058285385551278, 0.01700707954709487, 0.016992950610711675, 0.01690742601652432, 0.01684054723747856, 0.016870754855492002, 0.01675813262234144, 0.016758373363272232, 0.016703942211825983, 0.01664177611079591, 0.016656552917798006, 0.016555570619766747, 0.01655131136603139, 0.01649975906366773, 0.016440374342024403, 0.016443462163457632, 0.01643902673731413, 0.016346704668563118, 0.01634819275649536, 0.016293486905381883, 0.016342016464561376, 0.016222792974127757, 0.016217800152614294, 0.016262707662532853, 0.016152119860672356, 0.01614145733073087, 0.016109228615298905, 0.016094421687990884, 0.016056512931452306, 0.016021581211834765, 0.016052494774741667, 0.015990332144138683, 0.015937977808687234, 0.01595364697158451, 0.015895318668669143, 0.01589973788241596, 0.015858892797995024, 0.015876958227675896, 0.01579910031903316, 0.015755020374970514, 0.015748764601443203, 0.015733788330631944, 0.015697205414199996, 0.015720945679346846, 0.015654948979492305, 0.015642604395232695, 0.015597019376723892, 0.015601312279548791, 0.015601683877256063, 0.015585606463987123, 0.01557487877838485, 0.01553638576222655, 0.015519006036060013, 0.015460984699208946, 0.015458301867327422, 0.015437984624710839, 0.015405968635502603, 0.015425402805676012, 0.01536775458022914, 0.01539176526596136, 0.01536977507621812, 0.015348761711660249, 0.01530606326077829]\n"
     ]
    },
    {
     "data": {
      "application/vnd.jupyter.widget-view+json": {
       "model_id": "0b4aa285d1d048f6b6b6b01ab72a145a",
       "version_major": 2,
       "version_minor": 0
      },
      "text/plain": [
       "HBox(children=(FloatProgress(value=0.0, max=782.0), HTML(value='')))"
      ]
     },
     "metadata": {},
     "output_type": "display_data"
    },
    {
     "name": "stdout",
     "output_type": "stream",
     "text": [
      "\n",
      "epoch : 125/150, loss = 0.015339\n",
      "loss list : [0.04804488558731878, 0.030687242127059366, 0.028325845446923504, 0.02720706879883014, 0.026197104626680578, 0.02506364527089364, 0.02418971135069037, 0.023623952858835992, 0.02315334045349637, 0.022692977669922745, 0.0223407316309831, 0.021953678999543952, 0.02165310765328386, 0.021416172623405675, 0.02115680442532272, 0.02100152473496583, 0.02084396844801238, 0.020636780042191754, 0.02051124759995, 0.020336717957883235, 0.02022155877941138, 0.020074059445973094, 0.019988947690886154, 0.019879242368375936, 0.019749382172551608, 0.019670612006055195, 0.019544808889555808, 0.019445481379051954, 0.01937830664903459, 0.01924366190972383, 0.019150482391809946, 0.019032190895646506, 0.01888003138482304, 0.018828929815193653, 0.01865616335254877, 0.018618830723826158, 0.01848372513109156, 0.01840241544920465, 0.01832478072570489, 0.018254614250539133, 0.018168394033418363, 0.018128619056499904, 0.018011601644156078, 0.017976157841227396, 0.017933478970747548, 0.017847869465427706, 0.017784333562769015, 0.017751687368297058, 0.01770254150342644, 0.017661164033576808, 0.017595522664249172, 0.0175807897330207, 0.01750959302334453, 0.017447488114495032, 0.017393359371349025, 0.017360051211369847, 0.017334512602823697, 0.01726232144548117, 0.01719888771557823, 0.01716632525796247, 0.017111424910490548, 0.017058285385551278, 0.01700707954709487, 0.016992950610711675, 0.01690742601652432, 0.01684054723747856, 0.016870754855492002, 0.01675813262234144, 0.016758373363272232, 0.016703942211825983, 0.01664177611079591, 0.016656552917798006, 0.016555570619766747, 0.01655131136603139, 0.01649975906366773, 0.016440374342024403, 0.016443462163457632, 0.01643902673731413, 0.016346704668563118, 0.01634819275649536, 0.016293486905381883, 0.016342016464561376, 0.016222792974127757, 0.016217800152614294, 0.016262707662532853, 0.016152119860672356, 0.01614145733073087, 0.016109228615298905, 0.016094421687990884, 0.016056512931452306, 0.016021581211834765, 0.016052494774741667, 0.015990332144138683, 0.015937977808687234, 0.01595364697158451, 0.015895318668669143, 0.01589973788241596, 0.015858892797995024, 0.015876958227675896, 0.01579910031903316, 0.015755020374970514, 0.015748764601443203, 0.015733788330631944, 0.015697205414199996, 0.015720945679346846, 0.015654948979492305, 0.015642604395232695, 0.015597019376723892, 0.015601312279548791, 0.015601683877256063, 0.015585606463987123, 0.01557487877838485, 0.01553638576222655, 0.015519006036060013, 0.015460984699208946, 0.015458301867327422, 0.015437984624710839, 0.015405968635502603, 0.015425402805676012, 0.01536775458022914, 0.01539176526596136, 0.01536977507621812, 0.015348761711660249, 0.01530606326077829, 0.015338771635918971]\n"
     ]
    },
    {
     "data": {
      "application/vnd.jupyter.widget-view+json": {
       "model_id": "0e2945407732444f91eda87a178fd9fd",
       "version_major": 2,
       "version_minor": 0
      },
      "text/plain": [
       "HBox(children=(FloatProgress(value=0.0, max=782.0), HTML(value='')))"
      ]
     },
     "metadata": {},
     "output_type": "display_data"
    },
    {
     "name": "stdout",
     "output_type": "stream",
     "text": [
      "\n",
      "epoch : 126/150, loss = 0.015301\n",
      "loss list : [0.04804488558731878, 0.030687242127059366, 0.028325845446923504, 0.02720706879883014, 0.026197104626680578, 0.02506364527089364, 0.02418971135069037, 0.023623952858835992, 0.02315334045349637, 0.022692977669922745, 0.0223407316309831, 0.021953678999543952, 0.02165310765328386, 0.021416172623405675, 0.02115680442532272, 0.02100152473496583, 0.02084396844801238, 0.020636780042191754, 0.02051124759995, 0.020336717957883235, 0.02022155877941138, 0.020074059445973094, 0.019988947690886154, 0.019879242368375936, 0.019749382172551608, 0.019670612006055195, 0.019544808889555808, 0.019445481379051954, 0.01937830664903459, 0.01924366190972383, 0.019150482391809946, 0.019032190895646506, 0.01888003138482304, 0.018828929815193653, 0.01865616335254877, 0.018618830723826158, 0.01848372513109156, 0.01840241544920465, 0.01832478072570489, 0.018254614250539133, 0.018168394033418363, 0.018128619056499904, 0.018011601644156078, 0.017976157841227396, 0.017933478970747548, 0.017847869465427706, 0.017784333562769015, 0.017751687368297058, 0.01770254150342644, 0.017661164033576808, 0.017595522664249172, 0.0175807897330207, 0.01750959302334453, 0.017447488114495032, 0.017393359371349025, 0.017360051211369847, 0.017334512602823697, 0.01726232144548117, 0.01719888771557823, 0.01716632525796247, 0.017111424910490548, 0.017058285385551278, 0.01700707954709487, 0.016992950610711675, 0.01690742601652432, 0.01684054723747856, 0.016870754855492002, 0.01675813262234144, 0.016758373363272232, 0.016703942211825983, 0.01664177611079591, 0.016656552917798006, 0.016555570619766747, 0.01655131136603139, 0.01649975906366773, 0.016440374342024403, 0.016443462163457632, 0.01643902673731413, 0.016346704668563118, 0.01634819275649536, 0.016293486905381883, 0.016342016464561376, 0.016222792974127757, 0.016217800152614294, 0.016262707662532853, 0.016152119860672356, 0.01614145733073087, 0.016109228615298905, 0.016094421687990884, 0.016056512931452306, 0.016021581211834765, 0.016052494774741667, 0.015990332144138683, 0.015937977808687234, 0.01595364697158451, 0.015895318668669143, 0.01589973788241596, 0.015858892797995024, 0.015876958227675896, 0.01579910031903316, 0.015755020374970514, 0.015748764601443203, 0.015733788330631944, 0.015697205414199996, 0.015720945679346846, 0.015654948979492305, 0.015642604395232695, 0.015597019376723892, 0.015601312279548791, 0.015601683877256063, 0.015585606463987123, 0.01557487877838485, 0.01553638576222655, 0.015519006036060013, 0.015460984699208946, 0.015458301867327422, 0.015437984624710839, 0.015405968635502603, 0.015425402805676012, 0.01536775458022914, 0.01539176526596136, 0.01536977507621812, 0.015348761711660249, 0.01530606326077829, 0.015338771635918971, 0.015300656416360527]\n"
     ]
    },
    {
     "data": {
      "application/vnd.jupyter.widget-view+json": {
       "model_id": "477b870393b74c7297b5754bc1da93ce",
       "version_major": 2,
       "version_minor": 0
      },
      "text/plain": [
       "HBox(children=(FloatProgress(value=0.0, max=782.0), HTML(value='')))"
      ]
     },
     "metadata": {},
     "output_type": "display_data"
    },
    {
     "name": "stdout",
     "output_type": "stream",
     "text": [
      "\n",
      "epoch : 127/150, loss = 0.015299\n",
      "loss list : [0.04804488558731878, 0.030687242127059366, 0.028325845446923504, 0.02720706879883014, 0.026197104626680578, 0.02506364527089364, 0.02418971135069037, 0.023623952858835992, 0.02315334045349637, 0.022692977669922745, 0.0223407316309831, 0.021953678999543952, 0.02165310765328386, 0.021416172623405675, 0.02115680442532272, 0.02100152473496583, 0.02084396844801238, 0.020636780042191754, 0.02051124759995, 0.020336717957883235, 0.02022155877941138, 0.020074059445973094, 0.019988947690886154, 0.019879242368375936, 0.019749382172551608, 0.019670612006055195, 0.019544808889555808, 0.019445481379051954, 0.01937830664903459, 0.01924366190972383, 0.019150482391809946, 0.019032190895646506, 0.01888003138482304, 0.018828929815193653, 0.01865616335254877, 0.018618830723826158, 0.01848372513109156, 0.01840241544920465, 0.01832478072570489, 0.018254614250539133, 0.018168394033418363, 0.018128619056499904, 0.018011601644156078, 0.017976157841227396, 0.017933478970747548, 0.017847869465427706, 0.017784333562769015, 0.017751687368297058, 0.01770254150342644, 0.017661164033576808, 0.017595522664249172, 0.0175807897330207, 0.01750959302334453, 0.017447488114495032, 0.017393359371349025, 0.017360051211369847, 0.017334512602823697, 0.01726232144548117, 0.01719888771557823, 0.01716632525796247, 0.017111424910490548, 0.017058285385551278, 0.01700707954709487, 0.016992950610711675, 0.01690742601652432, 0.01684054723747856, 0.016870754855492002, 0.01675813262234144, 0.016758373363272232, 0.016703942211825983, 0.01664177611079591, 0.016656552917798006, 0.016555570619766747, 0.01655131136603139, 0.01649975906366773, 0.016440374342024403, 0.016443462163457632, 0.01643902673731413, 0.016346704668563118, 0.01634819275649536, 0.016293486905381883, 0.016342016464561376, 0.016222792974127757, 0.016217800152614294, 0.016262707662532853, 0.016152119860672356, 0.01614145733073087, 0.016109228615298905, 0.016094421687990884, 0.016056512931452306, 0.016021581211834765, 0.016052494774741667, 0.015990332144138683, 0.015937977808687234, 0.01595364697158451, 0.015895318668669143, 0.01589973788241596, 0.015858892797995024, 0.015876958227675896, 0.01579910031903316, 0.015755020374970514, 0.015748764601443203, 0.015733788330631944, 0.015697205414199996, 0.015720945679346846, 0.015654948979492305, 0.015642604395232695, 0.015597019376723892, 0.015601312279548791, 0.015601683877256063, 0.015585606463987123, 0.01557487877838485, 0.01553638576222655, 0.015519006036060013, 0.015460984699208946, 0.015458301867327422, 0.015437984624710839, 0.015405968635502603, 0.015425402805676012, 0.01536775458022914, 0.01539176526596136, 0.01536977507621812, 0.015348761711660249, 0.01530606326077829, 0.015338771635918971, 0.015300656416360527, 0.015298853596181744]\n"
     ]
    },
    {
     "data": {
      "application/vnd.jupyter.widget-view+json": {
       "model_id": "af0ca77434664393a30f4db9cf1fa8cf",
       "version_major": 2,
       "version_minor": 0
      },
      "text/plain": [
       "HBox(children=(FloatProgress(value=0.0, max=782.0), HTML(value='')))"
      ]
     },
     "metadata": {},
     "output_type": "display_data"
    },
    {
     "name": "stdout",
     "output_type": "stream",
     "text": [
      "\n",
      "epoch : 128/150, loss = 0.015241\n",
      "loss list : [0.04804488558731878, 0.030687242127059366, 0.028325845446923504, 0.02720706879883014, 0.026197104626680578, 0.02506364527089364, 0.02418971135069037, 0.023623952858835992, 0.02315334045349637, 0.022692977669922745, 0.0223407316309831, 0.021953678999543952, 0.02165310765328386, 0.021416172623405675, 0.02115680442532272, 0.02100152473496583, 0.02084396844801238, 0.020636780042191754, 0.02051124759995, 0.020336717957883235, 0.02022155877941138, 0.020074059445973094, 0.019988947690886154, 0.019879242368375936, 0.019749382172551608, 0.019670612006055195, 0.019544808889555808, 0.019445481379051954, 0.01937830664903459, 0.01924366190972383, 0.019150482391809946, 0.019032190895646506, 0.01888003138482304, 0.018828929815193653, 0.01865616335254877, 0.018618830723826158, 0.01848372513109156, 0.01840241544920465, 0.01832478072570489, 0.018254614250539133, 0.018168394033418363, 0.018128619056499904, 0.018011601644156078, 0.017976157841227396, 0.017933478970747548, 0.017847869465427706, 0.017784333562769015, 0.017751687368297058, 0.01770254150342644, 0.017661164033576808, 0.017595522664249172, 0.0175807897330207, 0.01750959302334453, 0.017447488114495032, 0.017393359371349025, 0.017360051211369847, 0.017334512602823697, 0.01726232144548117, 0.01719888771557823, 0.01716632525796247, 0.017111424910490548, 0.017058285385551278, 0.01700707954709487, 0.016992950610711675, 0.01690742601652432, 0.01684054723747856, 0.016870754855492002, 0.01675813262234144, 0.016758373363272232, 0.016703942211825983, 0.01664177611079591, 0.016656552917798006, 0.016555570619766747, 0.01655131136603139, 0.01649975906366773, 0.016440374342024403, 0.016443462163457632, 0.01643902673731413, 0.016346704668563118, 0.01634819275649536, 0.016293486905381883, 0.016342016464561376, 0.016222792974127757, 0.016217800152614294, 0.016262707662532853, 0.016152119860672356, 0.01614145733073087, 0.016109228615298905, 0.016094421687990884, 0.016056512931452306, 0.016021581211834765, 0.016052494774741667, 0.015990332144138683, 0.015937977808687234, 0.01595364697158451, 0.015895318668669143, 0.01589973788241596, 0.015858892797995024, 0.015876958227675896, 0.01579910031903316, 0.015755020374970514, 0.015748764601443203, 0.015733788330631944, 0.015697205414199996, 0.015720945679346846, 0.015654948979492305, 0.015642604395232695, 0.015597019376723892, 0.015601312279548791, 0.015601683877256063, 0.015585606463987123, 0.01557487877838485, 0.01553638576222655, 0.015519006036060013, 0.015460984699208946, 0.015458301867327422, 0.015437984624710839, 0.015405968635502603, 0.015425402805676012, 0.01536775458022914, 0.01539176526596136, 0.01536977507621812, 0.015348761711660249, 0.01530606326077829, 0.015338771635918971, 0.015300656416360527, 0.015298853596181744, 0.015240721773746831]\n"
     ]
    },
    {
     "data": {
      "application/vnd.jupyter.widget-view+json": {
       "model_id": "0998c4b63c1f4a24ac2af1a0bb47c80e",
       "version_major": 2,
       "version_minor": 0
      },
      "text/plain": [
       "HBox(children=(FloatProgress(value=0.0, max=782.0), HTML(value='')))"
      ]
     },
     "metadata": {},
     "output_type": "display_data"
    },
    {
     "name": "stdout",
     "output_type": "stream",
     "text": [
      "\n",
      "epoch : 129/150, loss = 0.015265\n",
      "loss list : [0.04804488558731878, 0.030687242127059366, 0.028325845446923504, 0.02720706879883014, 0.026197104626680578, 0.02506364527089364, 0.02418971135069037, 0.023623952858835992, 0.02315334045349637, 0.022692977669922745, 0.0223407316309831, 0.021953678999543952, 0.02165310765328386, 0.021416172623405675, 0.02115680442532272, 0.02100152473496583, 0.02084396844801238, 0.020636780042191754, 0.02051124759995, 0.020336717957883235, 0.02022155877941138, 0.020074059445973094, 0.019988947690886154, 0.019879242368375936, 0.019749382172551608, 0.019670612006055195, 0.019544808889555808, 0.019445481379051954, 0.01937830664903459, 0.01924366190972383, 0.019150482391809946, 0.019032190895646506, 0.01888003138482304, 0.018828929815193653, 0.01865616335254877, 0.018618830723826158, 0.01848372513109156, 0.01840241544920465, 0.01832478072570489, 0.018254614250539133, 0.018168394033418363, 0.018128619056499904, 0.018011601644156078, 0.017976157841227396, 0.017933478970747548, 0.017847869465427706, 0.017784333562769015, 0.017751687368297058, 0.01770254150342644, 0.017661164033576808, 0.017595522664249172, 0.0175807897330207, 0.01750959302334453, 0.017447488114495032, 0.017393359371349025, 0.017360051211369847, 0.017334512602823697, 0.01726232144548117, 0.01719888771557823, 0.01716632525796247, 0.017111424910490548, 0.017058285385551278, 0.01700707954709487, 0.016992950610711675, 0.01690742601652432, 0.01684054723747856, 0.016870754855492002, 0.01675813262234144, 0.016758373363272232, 0.016703942211825983, 0.01664177611079591, 0.016656552917798006, 0.016555570619766747, 0.01655131136603139, 0.01649975906366773, 0.016440374342024403, 0.016443462163457632, 0.01643902673731413, 0.016346704668563118, 0.01634819275649536, 0.016293486905381883, 0.016342016464561376, 0.016222792974127757, 0.016217800152614294, 0.016262707662532853, 0.016152119860672356, 0.01614145733073087, 0.016109228615298905, 0.016094421687990884, 0.016056512931452306, 0.016021581211834765, 0.016052494774741667, 0.015990332144138683, 0.015937977808687234, 0.01595364697158451, 0.015895318668669143, 0.01589973788241596, 0.015858892797995024, 0.015876958227675896, 0.01579910031903316, 0.015755020374970514, 0.015748764601443203, 0.015733788330631944, 0.015697205414199996, 0.015720945679346846, 0.015654948979492305, 0.015642604395232695, 0.015597019376723892, 0.015601312279548791, 0.015601683877256063, 0.015585606463987123, 0.01557487877838485, 0.01553638576222655, 0.015519006036060013, 0.015460984699208946, 0.015458301867327422, 0.015437984624710839, 0.015405968635502603, 0.015425402805676012, 0.01536775458022914, 0.01539176526596136, 0.01536977507621812, 0.015348761711660249, 0.01530606326077829, 0.015338771635918971, 0.015300656416360527, 0.015298853596181744, 0.015240721773746831, 0.015264974847493116]\n"
     ]
    },
    {
     "data": {
      "application/vnd.jupyter.widget-view+json": {
       "model_id": "9ff242985e4648cdbf5234f5a11dbfb4",
       "version_major": 2,
       "version_minor": 0
      },
      "text/plain": [
       "HBox(children=(FloatProgress(value=0.0, max=782.0), HTML(value='')))"
      ]
     },
     "metadata": {},
     "output_type": "display_data"
    },
    {
     "name": "stdout",
     "output_type": "stream",
     "text": [
      "\n",
      "epoch : 130/150, loss = 0.015195\n",
      "loss list : [0.04804488558731878, 0.030687242127059366, 0.028325845446923504, 0.02720706879883014, 0.026197104626680578, 0.02506364527089364, 0.02418971135069037, 0.023623952858835992, 0.02315334045349637, 0.022692977669922745, 0.0223407316309831, 0.021953678999543952, 0.02165310765328386, 0.021416172623405675, 0.02115680442532272, 0.02100152473496583, 0.02084396844801238, 0.020636780042191754, 0.02051124759995, 0.020336717957883235, 0.02022155877941138, 0.020074059445973094, 0.019988947690886154, 0.019879242368375936, 0.019749382172551608, 0.019670612006055195, 0.019544808889555808, 0.019445481379051954, 0.01937830664903459, 0.01924366190972383, 0.019150482391809946, 0.019032190895646506, 0.01888003138482304, 0.018828929815193653, 0.01865616335254877, 0.018618830723826158, 0.01848372513109156, 0.01840241544920465, 0.01832478072570489, 0.018254614250539133, 0.018168394033418363, 0.018128619056499904, 0.018011601644156078, 0.017976157841227396, 0.017933478970747548, 0.017847869465427706, 0.017784333562769015, 0.017751687368297058, 0.01770254150342644, 0.017661164033576808, 0.017595522664249172, 0.0175807897330207, 0.01750959302334453, 0.017447488114495032, 0.017393359371349025, 0.017360051211369847, 0.017334512602823697, 0.01726232144548117, 0.01719888771557823, 0.01716632525796247, 0.017111424910490548, 0.017058285385551278, 0.01700707954709487, 0.016992950610711675, 0.01690742601652432, 0.01684054723747856, 0.016870754855492002, 0.01675813262234144, 0.016758373363272232, 0.016703942211825983, 0.01664177611079591, 0.016656552917798006, 0.016555570619766747, 0.01655131136603139, 0.01649975906366773, 0.016440374342024403, 0.016443462163457632, 0.01643902673731413, 0.016346704668563118, 0.01634819275649536, 0.016293486905381883, 0.016342016464561376, 0.016222792974127757, 0.016217800152614294, 0.016262707662532853, 0.016152119860672356, 0.01614145733073087, 0.016109228615298905, 0.016094421687990884, 0.016056512931452306, 0.016021581211834765, 0.016052494774741667, 0.015990332144138683, 0.015937977808687234, 0.01595364697158451, 0.015895318668669143, 0.01589973788241596, 0.015858892797995024, 0.015876958227675896, 0.01579910031903316, 0.015755020374970514, 0.015748764601443203, 0.015733788330631944, 0.015697205414199996, 0.015720945679346846, 0.015654948979492305, 0.015642604395232695, 0.015597019376723892, 0.015601312279548791, 0.015601683877256063, 0.015585606463987123, 0.01557487877838485, 0.01553638576222655, 0.015519006036060013, 0.015460984699208946, 0.015458301867327422, 0.015437984624710839, 0.015405968635502603, 0.015425402805676012, 0.01536775458022914, 0.01539176526596136, 0.01536977507621812, 0.015348761711660249, 0.01530606326077829, 0.015338771635918971, 0.015300656416360527, 0.015298853596181744, 0.015240721773746831, 0.015264974847493116, 0.015194720870879528]\n"
     ]
    },
    {
     "data": {
      "application/vnd.jupyter.widget-view+json": {
       "model_id": "03177a5d32de451d83999ca25bfaa67d",
       "version_major": 2,
       "version_minor": 0
      },
      "text/plain": [
       "HBox(children=(FloatProgress(value=0.0, max=782.0), HTML(value='')))"
      ]
     },
     "metadata": {},
     "output_type": "display_data"
    },
    {
     "name": "stdout",
     "output_type": "stream",
     "text": [
      "\n",
      "epoch : 131/150, loss = 0.015228\n",
      "loss list : [0.04804488558731878, 0.030687242127059366, 0.028325845446923504, 0.02720706879883014, 0.026197104626680578, 0.02506364527089364, 0.02418971135069037, 0.023623952858835992, 0.02315334045349637, 0.022692977669922745, 0.0223407316309831, 0.021953678999543952, 0.02165310765328386, 0.021416172623405675, 0.02115680442532272, 0.02100152473496583, 0.02084396844801238, 0.020636780042191754, 0.02051124759995, 0.020336717957883235, 0.02022155877941138, 0.020074059445973094, 0.019988947690886154, 0.019879242368375936, 0.019749382172551608, 0.019670612006055195, 0.019544808889555808, 0.019445481379051954, 0.01937830664903459, 0.01924366190972383, 0.019150482391809946, 0.019032190895646506, 0.01888003138482304, 0.018828929815193653, 0.01865616335254877, 0.018618830723826158, 0.01848372513109156, 0.01840241544920465, 0.01832478072570489, 0.018254614250539133, 0.018168394033418363, 0.018128619056499904, 0.018011601644156078, 0.017976157841227396, 0.017933478970747548, 0.017847869465427706, 0.017784333562769015, 0.017751687368297058, 0.01770254150342644, 0.017661164033576808, 0.017595522664249172, 0.0175807897330207, 0.01750959302334453, 0.017447488114495032, 0.017393359371349025, 0.017360051211369847, 0.017334512602823697, 0.01726232144548117, 0.01719888771557823, 0.01716632525796247, 0.017111424910490548, 0.017058285385551278, 0.01700707954709487, 0.016992950610711675, 0.01690742601652432, 0.01684054723747856, 0.016870754855492002, 0.01675813262234144, 0.016758373363272232, 0.016703942211825983, 0.01664177611079591, 0.016656552917798006, 0.016555570619766747, 0.01655131136603139, 0.01649975906366773, 0.016440374342024403, 0.016443462163457632, 0.01643902673731413, 0.016346704668563118, 0.01634819275649536, 0.016293486905381883, 0.016342016464561376, 0.016222792974127757, 0.016217800152614294, 0.016262707662532853, 0.016152119860672356, 0.01614145733073087, 0.016109228615298905, 0.016094421687990884, 0.016056512931452306, 0.016021581211834765, 0.016052494774741667, 0.015990332144138683, 0.015937977808687234, 0.01595364697158451, 0.015895318668669143, 0.01589973788241596, 0.015858892797995024, 0.015876958227675896, 0.01579910031903316, 0.015755020374970514, 0.015748764601443203, 0.015733788330631944, 0.015697205414199996, 0.015720945679346846, 0.015654948979492305, 0.015642604395232695, 0.015597019376723892, 0.015601312279548791, 0.015601683877256063, 0.015585606463987123, 0.01557487877838485, 0.01553638576222655, 0.015519006036060013, 0.015460984699208946, 0.015458301867327422, 0.015437984624710839, 0.015405968635502603, 0.015425402805676012, 0.01536775458022914, 0.01539176526596136, 0.01536977507621812, 0.015348761711660249, 0.01530606326077829, 0.015338771635918971, 0.015300656416360527, 0.015298853596181744, 0.015240721773746831, 0.015264974847493116, 0.015194720870879528, 0.015228187093687484]\n"
     ]
    },
    {
     "data": {
      "application/vnd.jupyter.widget-view+json": {
       "model_id": "87c1ece5225c4bd3bc31746fc69133f4",
       "version_major": 2,
       "version_minor": 0
      },
      "text/plain": [
       "HBox(children=(FloatProgress(value=0.0, max=782.0), HTML(value='')))"
      ]
     },
     "metadata": {},
     "output_type": "display_data"
    },
    {
     "name": "stdout",
     "output_type": "stream",
     "text": [
      "\n",
      "epoch : 132/150, loss = 0.015202\n",
      "loss list : [0.04804488558731878, 0.030687242127059366, 0.028325845446923504, 0.02720706879883014, 0.026197104626680578, 0.02506364527089364, 0.02418971135069037, 0.023623952858835992, 0.02315334045349637, 0.022692977669922745, 0.0223407316309831, 0.021953678999543952, 0.02165310765328386, 0.021416172623405675, 0.02115680442532272, 0.02100152473496583, 0.02084396844801238, 0.020636780042191754, 0.02051124759995, 0.020336717957883235, 0.02022155877941138, 0.020074059445973094, 0.019988947690886154, 0.019879242368375936, 0.019749382172551608, 0.019670612006055195, 0.019544808889555808, 0.019445481379051954, 0.01937830664903459, 0.01924366190972383, 0.019150482391809946, 0.019032190895646506, 0.01888003138482304, 0.018828929815193653, 0.01865616335254877, 0.018618830723826158, 0.01848372513109156, 0.01840241544920465, 0.01832478072570489, 0.018254614250539133, 0.018168394033418363, 0.018128619056499904, 0.018011601644156078, 0.017976157841227396, 0.017933478970747548, 0.017847869465427706, 0.017784333562769015, 0.017751687368297058, 0.01770254150342644, 0.017661164033576808, 0.017595522664249172, 0.0175807897330207, 0.01750959302334453, 0.017447488114495032, 0.017393359371349025, 0.017360051211369847, 0.017334512602823697, 0.01726232144548117, 0.01719888771557823, 0.01716632525796247, 0.017111424910490548, 0.017058285385551278, 0.01700707954709487, 0.016992950610711675, 0.01690742601652432, 0.01684054723747856, 0.016870754855492002, 0.01675813262234144, 0.016758373363272232, 0.016703942211825983, 0.01664177611079591, 0.016656552917798006, 0.016555570619766747, 0.01655131136603139, 0.01649975906366773, 0.016440374342024403, 0.016443462163457632, 0.01643902673731413, 0.016346704668563118, 0.01634819275649536, 0.016293486905381883, 0.016342016464561376, 0.016222792974127757, 0.016217800152614294, 0.016262707662532853, 0.016152119860672356, 0.01614145733073087, 0.016109228615298905, 0.016094421687990884, 0.016056512931452306, 0.016021581211834765, 0.016052494774741667, 0.015990332144138683, 0.015937977808687234, 0.01595364697158451, 0.015895318668669143, 0.01589973788241596, 0.015858892797995024, 0.015876958227675896, 0.01579910031903316, 0.015755020374970514, 0.015748764601443203, 0.015733788330631944, 0.015697205414199996, 0.015720945679346846, 0.015654948979492305, 0.015642604395232695, 0.015597019376723892, 0.015601312279548791, 0.015601683877256063, 0.015585606463987123, 0.01557487877838485, 0.01553638576222655, 0.015519006036060013, 0.015460984699208946, 0.015458301867327422, 0.015437984624710839, 0.015405968635502603, 0.015425402805676012, 0.01536775458022914, 0.01539176526596136, 0.01536977507621812, 0.015348761711660249, 0.01530606326077829, 0.015338771635918971, 0.015300656416360527, 0.015298853596181744, 0.015240721773746831, 0.015264974847493116, 0.015194720870879528, 0.015228187093687484, 0.015202049256476296]\n"
     ]
    },
    {
     "data": {
      "application/vnd.jupyter.widget-view+json": {
       "model_id": "33e291a476ed4e5b9d714d812c6c7086",
       "version_major": 2,
       "version_minor": 0
      },
      "text/plain": [
       "HBox(children=(FloatProgress(value=0.0, max=782.0), HTML(value='')))"
      ]
     },
     "metadata": {},
     "output_type": "display_data"
    },
    {
     "name": "stdout",
     "output_type": "stream",
     "text": [
      "\n",
      "epoch : 133/150, loss = 0.015184\n",
      "loss list : [0.04804488558731878, 0.030687242127059366, 0.028325845446923504, 0.02720706879883014, 0.026197104626680578, 0.02506364527089364, 0.02418971135069037, 0.023623952858835992, 0.02315334045349637, 0.022692977669922745, 0.0223407316309831, 0.021953678999543952, 0.02165310765328386, 0.021416172623405675, 0.02115680442532272, 0.02100152473496583, 0.02084396844801238, 0.020636780042191754, 0.02051124759995, 0.020336717957883235, 0.02022155877941138, 0.020074059445973094, 0.019988947690886154, 0.019879242368375936, 0.019749382172551608, 0.019670612006055195, 0.019544808889555808, 0.019445481379051954, 0.01937830664903459, 0.01924366190972383, 0.019150482391809946, 0.019032190895646506, 0.01888003138482304, 0.018828929815193653, 0.01865616335254877, 0.018618830723826158, 0.01848372513109156, 0.01840241544920465, 0.01832478072570489, 0.018254614250539133, 0.018168394033418363, 0.018128619056499904, 0.018011601644156078, 0.017976157841227396, 0.017933478970747548, 0.017847869465427706, 0.017784333562769015, 0.017751687368297058, 0.01770254150342644, 0.017661164033576808, 0.017595522664249172, 0.0175807897330207, 0.01750959302334453, 0.017447488114495032, 0.017393359371349025, 0.017360051211369847, 0.017334512602823697, 0.01726232144548117, 0.01719888771557823, 0.01716632525796247, 0.017111424910490548, 0.017058285385551278, 0.01700707954709487, 0.016992950610711675, 0.01690742601652432, 0.01684054723747856, 0.016870754855492002, 0.01675813262234144, 0.016758373363272232, 0.016703942211825983, 0.01664177611079591, 0.016656552917798006, 0.016555570619766747, 0.01655131136603139, 0.01649975906366773, 0.016440374342024403, 0.016443462163457632, 0.01643902673731413, 0.016346704668563118, 0.01634819275649536, 0.016293486905381883, 0.016342016464561376, 0.016222792974127757, 0.016217800152614294, 0.016262707662532853, 0.016152119860672356, 0.01614145733073087, 0.016109228615298905, 0.016094421687990884, 0.016056512931452306, 0.016021581211834765, 0.016052494774741667, 0.015990332144138683, 0.015937977808687234, 0.01595364697158451, 0.015895318668669143, 0.01589973788241596, 0.015858892797995024, 0.015876958227675896, 0.01579910031903316, 0.015755020374970514, 0.015748764601443203, 0.015733788330631944, 0.015697205414199996, 0.015720945679346846, 0.015654948979492305, 0.015642604395232695, 0.015597019376723892, 0.015601312279548791, 0.015601683877256063, 0.015585606463987123, 0.01557487877838485, 0.01553638576222655, 0.015519006036060013, 0.015460984699208946, 0.015458301867327422, 0.015437984624710839, 0.015405968635502603, 0.015425402805676012, 0.01536775458022914, 0.01539176526596136, 0.01536977507621812, 0.015348761711660249, 0.01530606326077829, 0.015338771635918971, 0.015300656416360527, 0.015298853596181744, 0.015240721773746831, 0.015264974847493116, 0.015194720870879528, 0.015228187093687484, 0.015202049256476296, 0.015184105463240229]\n"
     ]
    },
    {
     "data": {
      "application/vnd.jupyter.widget-view+json": {
       "model_id": "25d9aeb4ab274b52a9d04d3b8e453b97",
       "version_major": 2,
       "version_minor": 0
      },
      "text/plain": [
       "HBox(children=(FloatProgress(value=0.0, max=782.0), HTML(value='')))"
      ]
     },
     "metadata": {},
     "output_type": "display_data"
    },
    {
     "name": "stdout",
     "output_type": "stream",
     "text": [
      "\n",
      "epoch : 134/150, loss = 0.015208\n",
      "loss list : [0.04804488558731878, 0.030687242127059366, 0.028325845446923504, 0.02720706879883014, 0.026197104626680578, 0.02506364527089364, 0.02418971135069037, 0.023623952858835992, 0.02315334045349637, 0.022692977669922745, 0.0223407316309831, 0.021953678999543952, 0.02165310765328386, 0.021416172623405675, 0.02115680442532272, 0.02100152473496583, 0.02084396844801238, 0.020636780042191754, 0.02051124759995, 0.020336717957883235, 0.02022155877941138, 0.020074059445973094, 0.019988947690886154, 0.019879242368375936, 0.019749382172551608, 0.019670612006055195, 0.019544808889555808, 0.019445481379051954, 0.01937830664903459, 0.01924366190972383, 0.019150482391809946, 0.019032190895646506, 0.01888003138482304, 0.018828929815193653, 0.01865616335254877, 0.018618830723826158, 0.01848372513109156, 0.01840241544920465, 0.01832478072570489, 0.018254614250539133, 0.018168394033418363, 0.018128619056499904, 0.018011601644156078, 0.017976157841227396, 0.017933478970747548, 0.017847869465427706, 0.017784333562769015, 0.017751687368297058, 0.01770254150342644, 0.017661164033576808, 0.017595522664249172, 0.0175807897330207, 0.01750959302334453, 0.017447488114495032, 0.017393359371349025, 0.017360051211369847, 0.017334512602823697, 0.01726232144548117, 0.01719888771557823, 0.01716632525796247, 0.017111424910490548, 0.017058285385551278, 0.01700707954709487, 0.016992950610711675, 0.01690742601652432, 0.01684054723747856, 0.016870754855492002, 0.01675813262234144, 0.016758373363272232, 0.016703942211825983, 0.01664177611079591, 0.016656552917798006, 0.016555570619766747, 0.01655131136603139, 0.01649975906366773, 0.016440374342024403, 0.016443462163457632, 0.01643902673731413, 0.016346704668563118, 0.01634819275649536, 0.016293486905381883, 0.016342016464561376, 0.016222792974127757, 0.016217800152614294, 0.016262707662532853, 0.016152119860672356, 0.01614145733073087, 0.016109228615298905, 0.016094421687990884, 0.016056512931452306, 0.016021581211834765, 0.016052494774741667, 0.015990332144138683, 0.015937977808687234, 0.01595364697158451, 0.015895318668669143, 0.01589973788241596, 0.015858892797995024, 0.015876958227675896, 0.01579910031903316, 0.015755020374970514, 0.015748764601443203, 0.015733788330631944, 0.015697205414199996, 0.015720945679346846, 0.015654948979492305, 0.015642604395232695, 0.015597019376723892, 0.015601312279548791, 0.015601683877256063, 0.015585606463987123, 0.01557487877838485, 0.01553638576222655, 0.015519006036060013, 0.015460984699208946, 0.015458301867327422, 0.015437984624710839, 0.015405968635502603, 0.015425402805676012, 0.01536775458022914, 0.01539176526596136, 0.01536977507621812, 0.015348761711660249, 0.01530606326077829, 0.015338771635918971, 0.015300656416360527, 0.015298853596181744, 0.015240721773746831, 0.015264974847493116, 0.015194720870879528, 0.015228187093687484, 0.015202049256476296, 0.015184105463240229, 0.01520829698037537]\n"
     ]
    },
    {
     "data": {
      "application/vnd.jupyter.widget-view+json": {
       "model_id": "f4eccfc9dc294da684341c4684ef4a2e",
       "version_major": 2,
       "version_minor": 0
      },
      "text/plain": [
       "HBox(children=(FloatProgress(value=0.0, max=782.0), HTML(value='')))"
      ]
     },
     "metadata": {},
     "output_type": "display_data"
    },
    {
     "name": "stdout",
     "output_type": "stream",
     "text": [
      "\n",
      "epoch : 135/150, loss = 0.015177\n",
      "loss list : [0.04804488558731878, 0.030687242127059366, 0.028325845446923504, 0.02720706879883014, 0.026197104626680578, 0.02506364527089364, 0.02418971135069037, 0.023623952858835992, 0.02315334045349637, 0.022692977669922745, 0.0223407316309831, 0.021953678999543952, 0.02165310765328386, 0.021416172623405675, 0.02115680442532272, 0.02100152473496583, 0.02084396844801238, 0.020636780042191754, 0.02051124759995, 0.020336717957883235, 0.02022155877941138, 0.020074059445973094, 0.019988947690886154, 0.019879242368375936, 0.019749382172551608, 0.019670612006055195, 0.019544808889555808, 0.019445481379051954, 0.01937830664903459, 0.01924366190972383, 0.019150482391809946, 0.019032190895646506, 0.01888003138482304, 0.018828929815193653, 0.01865616335254877, 0.018618830723826158, 0.01848372513109156, 0.01840241544920465, 0.01832478072570489, 0.018254614250539133, 0.018168394033418363, 0.018128619056499904, 0.018011601644156078, 0.017976157841227396, 0.017933478970747548, 0.017847869465427706, 0.017784333562769015, 0.017751687368297058, 0.01770254150342644, 0.017661164033576808, 0.017595522664249172, 0.0175807897330207, 0.01750959302334453, 0.017447488114495032, 0.017393359371349025, 0.017360051211369847, 0.017334512602823697, 0.01726232144548117, 0.01719888771557823, 0.01716632525796247, 0.017111424910490548, 0.017058285385551278, 0.01700707954709487, 0.016992950610711675, 0.01690742601652432, 0.01684054723747856, 0.016870754855492002, 0.01675813262234144, 0.016758373363272232, 0.016703942211825983, 0.01664177611079591, 0.016656552917798006, 0.016555570619766747, 0.01655131136603139, 0.01649975906366773, 0.016440374342024403, 0.016443462163457632, 0.01643902673731413, 0.016346704668563118, 0.01634819275649536, 0.016293486905381883, 0.016342016464561376, 0.016222792974127757, 0.016217800152614294, 0.016262707662532853, 0.016152119860672356, 0.01614145733073087, 0.016109228615298905, 0.016094421687990884, 0.016056512931452306, 0.016021581211834765, 0.016052494774741667, 0.015990332144138683, 0.015937977808687234, 0.01595364697158451, 0.015895318668669143, 0.01589973788241596, 0.015858892797995024, 0.015876958227675896, 0.01579910031903316, 0.015755020374970514, 0.015748764601443203, 0.015733788330631944, 0.015697205414199996, 0.015720945679346846, 0.015654948979492305, 0.015642604395232695, 0.015597019376723892, 0.015601312279548791, 0.015601683877256063, 0.015585606463987123, 0.01557487877838485, 0.01553638576222655, 0.015519006036060013, 0.015460984699208946, 0.015458301867327422, 0.015437984624710839, 0.015405968635502603, 0.015425402805676012, 0.01536775458022914, 0.01539176526596136, 0.01536977507621812, 0.015348761711660249, 0.01530606326077829, 0.015338771635918971, 0.015300656416360527, 0.015298853596181744, 0.015240721773746831, 0.015264974847493116, 0.015194720870879528, 0.015228187093687484, 0.015202049256476296, 0.015184105463240229, 0.01520829698037537, 0.015177427394472805]\n"
     ]
    },
    {
     "data": {
      "application/vnd.jupyter.widget-view+json": {
       "model_id": "7f2cf2c19af24eb7a5a836e15e1f373b",
       "version_major": 2,
       "version_minor": 0
      },
      "text/plain": [
       "HBox(children=(FloatProgress(value=0.0, max=782.0), HTML(value='')))"
      ]
     },
     "metadata": {},
     "output_type": "display_data"
    },
    {
     "name": "stdout",
     "output_type": "stream",
     "text": [
      "\n",
      "epoch : 136/150, loss = 0.015181\n",
      "loss list : [0.04804488558731878, 0.030687242127059366, 0.028325845446923504, 0.02720706879883014, 0.026197104626680578, 0.02506364527089364, 0.02418971135069037, 0.023623952858835992, 0.02315334045349637, 0.022692977669922745, 0.0223407316309831, 0.021953678999543952, 0.02165310765328386, 0.021416172623405675, 0.02115680442532272, 0.02100152473496583, 0.02084396844801238, 0.020636780042191754, 0.02051124759995, 0.020336717957883235, 0.02022155877941138, 0.020074059445973094, 0.019988947690886154, 0.019879242368375936, 0.019749382172551608, 0.019670612006055195, 0.019544808889555808, 0.019445481379051954, 0.01937830664903459, 0.01924366190972383, 0.019150482391809946, 0.019032190895646506, 0.01888003138482304, 0.018828929815193653, 0.01865616335254877, 0.018618830723826158, 0.01848372513109156, 0.01840241544920465, 0.01832478072570489, 0.018254614250539133, 0.018168394033418363, 0.018128619056499904, 0.018011601644156078, 0.017976157841227396, 0.017933478970747548, 0.017847869465427706, 0.017784333562769015, 0.017751687368297058, 0.01770254150342644, 0.017661164033576808, 0.017595522664249172, 0.0175807897330207, 0.01750959302334453, 0.017447488114495032, 0.017393359371349025, 0.017360051211369847, 0.017334512602823697, 0.01726232144548117, 0.01719888771557823, 0.01716632525796247, 0.017111424910490548, 0.017058285385551278, 0.01700707954709487, 0.016992950610711675, 0.01690742601652432, 0.01684054723747856, 0.016870754855492002, 0.01675813262234144, 0.016758373363272232, 0.016703942211825983, 0.01664177611079591, 0.016656552917798006, 0.016555570619766747, 0.01655131136603139, 0.01649975906366773, 0.016440374342024403, 0.016443462163457632, 0.01643902673731413, 0.016346704668563118, 0.01634819275649536, 0.016293486905381883, 0.016342016464561376, 0.016222792974127757, 0.016217800152614294, 0.016262707662532853, 0.016152119860672356, 0.01614145733073087, 0.016109228615298905, 0.016094421687990884, 0.016056512931452306, 0.016021581211834765, 0.016052494774741667, 0.015990332144138683, 0.015937977808687234, 0.01595364697158451, 0.015895318668669143, 0.01589973788241596, 0.015858892797995024, 0.015876958227675896, 0.01579910031903316, 0.015755020374970514, 0.015748764601443203, 0.015733788330631944, 0.015697205414199996, 0.015720945679346846, 0.015654948979492305, 0.015642604395232695, 0.015597019376723892, 0.015601312279548791, 0.015601683877256063, 0.015585606463987123, 0.01557487877838485, 0.01553638576222655, 0.015519006036060013, 0.015460984699208946, 0.015458301867327422, 0.015437984624710839, 0.015405968635502603, 0.015425402805676012, 0.01536775458022914, 0.01539176526596136, 0.01536977507621812, 0.015348761711660249, 0.01530606326077829, 0.015338771635918971, 0.015300656416360527, 0.015298853596181744, 0.015240721773746831, 0.015264974847493116, 0.015194720870879528, 0.015228187093687484, 0.015202049256476296, 0.015184105463240229, 0.01520829698037537, 0.015177427394472805, 0.015180656214809175]\n"
     ]
    },
    {
     "data": {
      "application/vnd.jupyter.widget-view+json": {
       "model_id": "c5043b695a0840b7b777ed88b8d25833",
       "version_major": 2,
       "version_minor": 0
      },
      "text/plain": [
       "HBox(children=(FloatProgress(value=0.0, max=782.0), HTML(value='')))"
      ]
     },
     "metadata": {},
     "output_type": "display_data"
    },
    {
     "name": "stdout",
     "output_type": "stream",
     "text": [
      "\n",
      "epoch : 137/150, loss = 0.015111\n",
      "loss list : [0.04804488558731878, 0.030687242127059366, 0.028325845446923504, 0.02720706879883014, 0.026197104626680578, 0.02506364527089364, 0.02418971135069037, 0.023623952858835992, 0.02315334045349637, 0.022692977669922745, 0.0223407316309831, 0.021953678999543952, 0.02165310765328386, 0.021416172623405675, 0.02115680442532272, 0.02100152473496583, 0.02084396844801238, 0.020636780042191754, 0.02051124759995, 0.020336717957883235, 0.02022155877941138, 0.020074059445973094, 0.019988947690886154, 0.019879242368375936, 0.019749382172551608, 0.019670612006055195, 0.019544808889555808, 0.019445481379051954, 0.01937830664903459, 0.01924366190972383, 0.019150482391809946, 0.019032190895646506, 0.01888003138482304, 0.018828929815193653, 0.01865616335254877, 0.018618830723826158, 0.01848372513109156, 0.01840241544920465, 0.01832478072570489, 0.018254614250539133, 0.018168394033418363, 0.018128619056499904, 0.018011601644156078, 0.017976157841227396, 0.017933478970747548, 0.017847869465427706, 0.017784333562769015, 0.017751687368297058, 0.01770254150342644, 0.017661164033576808, 0.017595522664249172, 0.0175807897330207, 0.01750959302334453, 0.017447488114495032, 0.017393359371349025, 0.017360051211369847, 0.017334512602823697, 0.01726232144548117, 0.01719888771557823, 0.01716632525796247, 0.017111424910490548, 0.017058285385551278, 0.01700707954709487, 0.016992950610711675, 0.01690742601652432, 0.01684054723747856, 0.016870754855492002, 0.01675813262234144, 0.016758373363272232, 0.016703942211825983, 0.01664177611079591, 0.016656552917798006, 0.016555570619766747, 0.01655131136603139, 0.01649975906366773, 0.016440374342024403, 0.016443462163457632, 0.01643902673731413, 0.016346704668563118, 0.01634819275649536, 0.016293486905381883, 0.016342016464561376, 0.016222792974127757, 0.016217800152614294, 0.016262707662532853, 0.016152119860672356, 0.01614145733073087, 0.016109228615298905, 0.016094421687990884, 0.016056512931452306, 0.016021581211834765, 0.016052494774741667, 0.015990332144138683, 0.015937977808687234, 0.01595364697158451, 0.015895318668669143, 0.01589973788241596, 0.015858892797995024, 0.015876958227675896, 0.01579910031903316, 0.015755020374970514, 0.015748764601443203, 0.015733788330631944, 0.015697205414199996, 0.015720945679346846, 0.015654948979492305, 0.015642604395232695, 0.015597019376723892, 0.015601312279548791, 0.015601683877256063, 0.015585606463987123, 0.01557487877838485, 0.01553638576222655, 0.015519006036060013, 0.015460984699208946, 0.015458301867327422, 0.015437984624710839, 0.015405968635502603, 0.015425402805676012, 0.01536775458022914, 0.01539176526596136, 0.01536977507621812, 0.015348761711660249, 0.01530606326077829, 0.015338771635918971, 0.015300656416360527, 0.015298853596181744, 0.015240721773746831, 0.015264974847493116, 0.015194720870879528, 0.015228187093687484, 0.015202049256476296, 0.015184105463240229, 0.01520829698037537, 0.015177427394472805, 0.015180656214809175, 0.015111098983003508]\n"
     ]
    },
    {
     "data": {
      "application/vnd.jupyter.widget-view+json": {
       "model_id": "f079304e5cab4d1c86cf091209555d7b",
       "version_major": 2,
       "version_minor": 0
      },
      "text/plain": [
       "HBox(children=(FloatProgress(value=0.0, max=782.0), HTML(value='')))"
      ]
     },
     "metadata": {},
     "output_type": "display_data"
    },
    {
     "name": "stdout",
     "output_type": "stream",
     "text": [
      "\n",
      "epoch : 138/150, loss = 0.015132\n",
      "loss list : [0.04804488558731878, 0.030687242127059366, 0.028325845446923504, 0.02720706879883014, 0.026197104626680578, 0.02506364527089364, 0.02418971135069037, 0.023623952858835992, 0.02315334045349637, 0.022692977669922745, 0.0223407316309831, 0.021953678999543952, 0.02165310765328386, 0.021416172623405675, 0.02115680442532272, 0.02100152473496583, 0.02084396844801238, 0.020636780042191754, 0.02051124759995, 0.020336717957883235, 0.02022155877941138, 0.020074059445973094, 0.019988947690886154, 0.019879242368375936, 0.019749382172551608, 0.019670612006055195, 0.019544808889555808, 0.019445481379051954, 0.01937830664903459, 0.01924366190972383, 0.019150482391809946, 0.019032190895646506, 0.01888003138482304, 0.018828929815193653, 0.01865616335254877, 0.018618830723826158, 0.01848372513109156, 0.01840241544920465, 0.01832478072570489, 0.018254614250539133, 0.018168394033418363, 0.018128619056499904, 0.018011601644156078, 0.017976157841227396, 0.017933478970747548, 0.017847869465427706, 0.017784333562769015, 0.017751687368297058, 0.01770254150342644, 0.017661164033576808, 0.017595522664249172, 0.0175807897330207, 0.01750959302334453, 0.017447488114495032, 0.017393359371349025, 0.017360051211369847, 0.017334512602823697, 0.01726232144548117, 0.01719888771557823, 0.01716632525796247, 0.017111424910490548, 0.017058285385551278, 0.01700707954709487, 0.016992950610711675, 0.01690742601652432, 0.01684054723747856, 0.016870754855492002, 0.01675813262234144, 0.016758373363272232, 0.016703942211825983, 0.01664177611079591, 0.016656552917798006, 0.016555570619766747, 0.01655131136603139, 0.01649975906366773, 0.016440374342024403, 0.016443462163457632, 0.01643902673731413, 0.016346704668563118, 0.01634819275649536, 0.016293486905381883, 0.016342016464561376, 0.016222792974127757, 0.016217800152614294, 0.016262707662532853, 0.016152119860672356, 0.01614145733073087, 0.016109228615298905, 0.016094421687990884, 0.016056512931452306, 0.016021581211834765, 0.016052494774741667, 0.015990332144138683, 0.015937977808687234, 0.01595364697158451, 0.015895318668669143, 0.01589973788241596, 0.015858892797995024, 0.015876958227675896, 0.01579910031903316, 0.015755020374970514, 0.015748764601443203, 0.015733788330631944, 0.015697205414199996, 0.015720945679346846, 0.015654948979492305, 0.015642604395232695, 0.015597019376723892, 0.015601312279548791, 0.015601683877256063, 0.015585606463987123, 0.01557487877838485, 0.01553638576222655, 0.015519006036060013, 0.015460984699208946, 0.015458301867327422, 0.015437984624710839, 0.015405968635502603, 0.015425402805676012, 0.01536775458022914, 0.01539176526596136, 0.01536977507621812, 0.015348761711660249, 0.01530606326077829, 0.015338771635918971, 0.015300656416360527, 0.015298853596181744, 0.015240721773746831, 0.015264974847493116, 0.015194720870879528, 0.015228187093687484, 0.015202049256476296, 0.015184105463240229, 0.01520829698037537, 0.015177427394472805, 0.015180656214809175, 0.015111098983003508, 0.015132078740155071]\n"
     ]
    },
    {
     "data": {
      "application/vnd.jupyter.widget-view+json": {
       "model_id": "11b1987c469e4c5386db8de966bfa309",
       "version_major": 2,
       "version_minor": 0
      },
      "text/plain": [
       "HBox(children=(FloatProgress(value=0.0, max=782.0), HTML(value='')))"
      ]
     },
     "metadata": {},
     "output_type": "display_data"
    },
    {
     "name": "stdout",
     "output_type": "stream",
     "text": [
      "\n",
      "epoch : 139/150, loss = 0.015124\n",
      "loss list : [0.04804488558731878, 0.030687242127059366, 0.028325845446923504, 0.02720706879883014, 0.026197104626680578, 0.02506364527089364, 0.02418971135069037, 0.023623952858835992, 0.02315334045349637, 0.022692977669922745, 0.0223407316309831, 0.021953678999543952, 0.02165310765328386, 0.021416172623405675, 0.02115680442532272, 0.02100152473496583, 0.02084396844801238, 0.020636780042191754, 0.02051124759995, 0.020336717957883235, 0.02022155877941138, 0.020074059445973094, 0.019988947690886154, 0.019879242368375936, 0.019749382172551608, 0.019670612006055195, 0.019544808889555808, 0.019445481379051954, 0.01937830664903459, 0.01924366190972383, 0.019150482391809946, 0.019032190895646506, 0.01888003138482304, 0.018828929815193653, 0.01865616335254877, 0.018618830723826158, 0.01848372513109156, 0.01840241544920465, 0.01832478072570489, 0.018254614250539133, 0.018168394033418363, 0.018128619056499904, 0.018011601644156078, 0.017976157841227396, 0.017933478970747548, 0.017847869465427706, 0.017784333562769015, 0.017751687368297058, 0.01770254150342644, 0.017661164033576808, 0.017595522664249172, 0.0175807897330207, 0.01750959302334453, 0.017447488114495032, 0.017393359371349025, 0.017360051211369847, 0.017334512602823697, 0.01726232144548117, 0.01719888771557823, 0.01716632525796247, 0.017111424910490548, 0.017058285385551278, 0.01700707954709487, 0.016992950610711675, 0.01690742601652432, 0.01684054723747856, 0.016870754855492002, 0.01675813262234144, 0.016758373363272232, 0.016703942211825983, 0.01664177611079591, 0.016656552917798006, 0.016555570619766747, 0.01655131136603139, 0.01649975906366773, 0.016440374342024403, 0.016443462163457632, 0.01643902673731413, 0.016346704668563118, 0.01634819275649536, 0.016293486905381883, 0.016342016464561376, 0.016222792974127757, 0.016217800152614294, 0.016262707662532853, 0.016152119860672356, 0.01614145733073087, 0.016109228615298905, 0.016094421687990884, 0.016056512931452306, 0.016021581211834765, 0.016052494774741667, 0.015990332144138683, 0.015937977808687234, 0.01595364697158451, 0.015895318668669143, 0.01589973788241596, 0.015858892797995024, 0.015876958227675896, 0.01579910031903316, 0.015755020374970514, 0.015748764601443203, 0.015733788330631944, 0.015697205414199996, 0.015720945679346846, 0.015654948979492305, 0.015642604395232695, 0.015597019376723892, 0.015601312279548791, 0.015601683877256063, 0.015585606463987123, 0.01557487877838485, 0.01553638576222655, 0.015519006036060013, 0.015460984699208946, 0.015458301867327422, 0.015437984624710839, 0.015405968635502603, 0.015425402805676012, 0.01536775458022914, 0.01539176526596136, 0.01536977507621812, 0.015348761711660249, 0.01530606326077829, 0.015338771635918971, 0.015300656416360527, 0.015298853596181744, 0.015240721773746831, 0.015264974847493116, 0.015194720870879528, 0.015228187093687484, 0.015202049256476296, 0.015184105463240229, 0.01520829698037537, 0.015177427394472805, 0.015180656214809175, 0.015111098983003508, 0.015132078740155071, 0.015124120211223965]\n"
     ]
    },
    {
     "data": {
      "application/vnd.jupyter.widget-view+json": {
       "model_id": "5e35c46bc7cd45d08eaf186b9a83c5b9",
       "version_major": 2,
       "version_minor": 0
      },
      "text/plain": [
       "HBox(children=(FloatProgress(value=0.0, max=782.0), HTML(value='')))"
      ]
     },
     "metadata": {},
     "output_type": "display_data"
    },
    {
     "name": "stdout",
     "output_type": "stream",
     "text": [
      "\n",
      "epoch : 140/150, loss = 0.015108\n",
      "loss list : [0.04804488558731878, 0.030687242127059366, 0.028325845446923504, 0.02720706879883014, 0.026197104626680578, 0.02506364527089364, 0.02418971135069037, 0.023623952858835992, 0.02315334045349637, 0.022692977669922745, 0.0223407316309831, 0.021953678999543952, 0.02165310765328386, 0.021416172623405675, 0.02115680442532272, 0.02100152473496583, 0.02084396844801238, 0.020636780042191754, 0.02051124759995, 0.020336717957883235, 0.02022155877941138, 0.020074059445973094, 0.019988947690886154, 0.019879242368375936, 0.019749382172551608, 0.019670612006055195, 0.019544808889555808, 0.019445481379051954, 0.01937830664903459, 0.01924366190972383, 0.019150482391809946, 0.019032190895646506, 0.01888003138482304, 0.018828929815193653, 0.01865616335254877, 0.018618830723826158, 0.01848372513109156, 0.01840241544920465, 0.01832478072570489, 0.018254614250539133, 0.018168394033418363, 0.018128619056499904, 0.018011601644156078, 0.017976157841227396, 0.017933478970747548, 0.017847869465427706, 0.017784333562769015, 0.017751687368297058, 0.01770254150342644, 0.017661164033576808, 0.017595522664249172, 0.0175807897330207, 0.01750959302334453, 0.017447488114495032, 0.017393359371349025, 0.017360051211369847, 0.017334512602823697, 0.01726232144548117, 0.01719888771557823, 0.01716632525796247, 0.017111424910490548, 0.017058285385551278, 0.01700707954709487, 0.016992950610711675, 0.01690742601652432, 0.01684054723747856, 0.016870754855492002, 0.01675813262234144, 0.016758373363272232, 0.016703942211825983, 0.01664177611079591, 0.016656552917798006, 0.016555570619766747, 0.01655131136603139, 0.01649975906366773, 0.016440374342024403, 0.016443462163457632, 0.01643902673731413, 0.016346704668563118, 0.01634819275649536, 0.016293486905381883, 0.016342016464561376, 0.016222792974127757, 0.016217800152614294, 0.016262707662532853, 0.016152119860672356, 0.01614145733073087, 0.016109228615298905, 0.016094421687990884, 0.016056512931452306, 0.016021581211834765, 0.016052494774741667, 0.015990332144138683, 0.015937977808687234, 0.01595364697158451, 0.015895318668669143, 0.01589973788241596, 0.015858892797995024, 0.015876958227675896, 0.01579910031903316, 0.015755020374970514, 0.015748764601443203, 0.015733788330631944, 0.015697205414199996, 0.015720945679346846, 0.015654948979492305, 0.015642604395232695, 0.015597019376723892, 0.015601312279548791, 0.015601683877256063, 0.015585606463987123, 0.01557487877838485, 0.01553638576222655, 0.015519006036060013, 0.015460984699208946, 0.015458301867327422, 0.015437984624710839, 0.015405968635502603, 0.015425402805676012, 0.01536775458022914, 0.01539176526596136, 0.01536977507621812, 0.015348761711660249, 0.01530606326077829, 0.015338771635918971, 0.015300656416360527, 0.015298853596181744, 0.015240721773746831, 0.015264974847493116, 0.015194720870879528, 0.015228187093687484, 0.015202049256476296, 0.015184105463240229, 0.01520829698037537, 0.015177427394472805, 0.015180656214809175, 0.015111098983003508, 0.015132078740155071, 0.015124120211223965, 0.015107940209557866]\n"
     ]
    },
    {
     "data": {
      "application/vnd.jupyter.widget-view+json": {
       "model_id": "dfd08f34c876415a802257a9b1dc58da",
       "version_major": 2,
       "version_minor": 0
      },
      "text/plain": [
       "HBox(children=(FloatProgress(value=0.0, max=782.0), HTML(value='')))"
      ]
     },
     "metadata": {},
     "output_type": "display_data"
    },
    {
     "name": "stdout",
     "output_type": "stream",
     "text": [
      "\n",
      "epoch : 141/150, loss = 0.015080\n",
      "loss list : [0.04804488558731878, 0.030687242127059366, 0.028325845446923504, 0.02720706879883014, 0.026197104626680578, 0.02506364527089364, 0.02418971135069037, 0.023623952858835992, 0.02315334045349637, 0.022692977669922745, 0.0223407316309831, 0.021953678999543952, 0.02165310765328386, 0.021416172623405675, 0.02115680442532272, 0.02100152473496583, 0.02084396844801238, 0.020636780042191754, 0.02051124759995, 0.020336717957883235, 0.02022155877941138, 0.020074059445973094, 0.019988947690886154, 0.019879242368375936, 0.019749382172551608, 0.019670612006055195, 0.019544808889555808, 0.019445481379051954, 0.01937830664903459, 0.01924366190972383, 0.019150482391809946, 0.019032190895646506, 0.01888003138482304, 0.018828929815193653, 0.01865616335254877, 0.018618830723826158, 0.01848372513109156, 0.01840241544920465, 0.01832478072570489, 0.018254614250539133, 0.018168394033418363, 0.018128619056499904, 0.018011601644156078, 0.017976157841227396, 0.017933478970747548, 0.017847869465427706, 0.017784333562769015, 0.017751687368297058, 0.01770254150342644, 0.017661164033576808, 0.017595522664249172, 0.0175807897330207, 0.01750959302334453, 0.017447488114495032, 0.017393359371349025, 0.017360051211369847, 0.017334512602823697, 0.01726232144548117, 0.01719888771557823, 0.01716632525796247, 0.017111424910490548, 0.017058285385551278, 0.01700707954709487, 0.016992950610711675, 0.01690742601652432, 0.01684054723747856, 0.016870754855492002, 0.01675813262234144, 0.016758373363272232, 0.016703942211825983, 0.01664177611079591, 0.016656552917798006, 0.016555570619766747, 0.01655131136603139, 0.01649975906366773, 0.016440374342024403, 0.016443462163457632, 0.01643902673731413, 0.016346704668563118, 0.01634819275649536, 0.016293486905381883, 0.016342016464561376, 0.016222792974127757, 0.016217800152614294, 0.016262707662532853, 0.016152119860672356, 0.01614145733073087, 0.016109228615298905, 0.016094421687990884, 0.016056512931452306, 0.016021581211834765, 0.016052494774741667, 0.015990332144138683, 0.015937977808687234, 0.01595364697158451, 0.015895318668669143, 0.01589973788241596, 0.015858892797995024, 0.015876958227675896, 0.01579910031903316, 0.015755020374970514, 0.015748764601443203, 0.015733788330631944, 0.015697205414199996, 0.015720945679346846, 0.015654948979492305, 0.015642604395232695, 0.015597019376723892, 0.015601312279548791, 0.015601683877256063, 0.015585606463987123, 0.01557487877838485, 0.01553638576222655, 0.015519006036060013, 0.015460984699208946, 0.015458301867327422, 0.015437984624710839, 0.015405968635502603, 0.015425402805676012, 0.01536775458022914, 0.01539176526596136, 0.01536977507621812, 0.015348761711660249, 0.01530606326077829, 0.015338771635918971, 0.015300656416360527, 0.015298853596181744, 0.015240721773746831, 0.015264974847493116, 0.015194720870879528, 0.015228187093687484, 0.015202049256476296, 0.015184105463240229, 0.01520829698037537, 0.015177427394472805, 0.015180656214809175, 0.015111098983003508, 0.015132078740155071, 0.015124120211223965, 0.015107940209557866, 0.015079809619528253]\n"
     ]
    },
    {
     "data": {
      "application/vnd.jupyter.widget-view+json": {
       "model_id": "861449af10014bfc8b2f1426db1c8284",
       "version_major": 2,
       "version_minor": 0
      },
      "text/plain": [
       "HBox(children=(FloatProgress(value=0.0, max=782.0), HTML(value='')))"
      ]
     },
     "metadata": {},
     "output_type": "display_data"
    },
    {
     "name": "stdout",
     "output_type": "stream",
     "text": [
      "\n",
      "epoch : 142/150, loss = 0.015074\n",
      "loss list : [0.04804488558731878, 0.030687242127059366, 0.028325845446923504, 0.02720706879883014, 0.026197104626680578, 0.02506364527089364, 0.02418971135069037, 0.023623952858835992, 0.02315334045349637, 0.022692977669922745, 0.0223407316309831, 0.021953678999543952, 0.02165310765328386, 0.021416172623405675, 0.02115680442532272, 0.02100152473496583, 0.02084396844801238, 0.020636780042191754, 0.02051124759995, 0.020336717957883235, 0.02022155877941138, 0.020074059445973094, 0.019988947690886154, 0.019879242368375936, 0.019749382172551608, 0.019670612006055195, 0.019544808889555808, 0.019445481379051954, 0.01937830664903459, 0.01924366190972383, 0.019150482391809946, 0.019032190895646506, 0.01888003138482304, 0.018828929815193653, 0.01865616335254877, 0.018618830723826158, 0.01848372513109156, 0.01840241544920465, 0.01832478072570489, 0.018254614250539133, 0.018168394033418363, 0.018128619056499904, 0.018011601644156078, 0.017976157841227396, 0.017933478970747548, 0.017847869465427706, 0.017784333562769015, 0.017751687368297058, 0.01770254150342644, 0.017661164033576808, 0.017595522664249172, 0.0175807897330207, 0.01750959302334453, 0.017447488114495032, 0.017393359371349025, 0.017360051211369847, 0.017334512602823697, 0.01726232144548117, 0.01719888771557823, 0.01716632525796247, 0.017111424910490548, 0.017058285385551278, 0.01700707954709487, 0.016992950610711675, 0.01690742601652432, 0.01684054723747856, 0.016870754855492002, 0.01675813262234144, 0.016758373363272232, 0.016703942211825983, 0.01664177611079591, 0.016656552917798006, 0.016555570619766747, 0.01655131136603139, 0.01649975906366773, 0.016440374342024403, 0.016443462163457632, 0.01643902673731413, 0.016346704668563118, 0.01634819275649536, 0.016293486905381883, 0.016342016464561376, 0.016222792974127757, 0.016217800152614294, 0.016262707662532853, 0.016152119860672356, 0.01614145733073087, 0.016109228615298905, 0.016094421687990884, 0.016056512931452306, 0.016021581211834765, 0.016052494774741667, 0.015990332144138683, 0.015937977808687234, 0.01595364697158451, 0.015895318668669143, 0.01589973788241596, 0.015858892797995024, 0.015876958227675896, 0.01579910031903316, 0.015755020374970514, 0.015748764601443203, 0.015733788330631944, 0.015697205414199996, 0.015720945679346846, 0.015654948979492305, 0.015642604395232695, 0.015597019376723892, 0.015601312279548791, 0.015601683877256063, 0.015585606463987123, 0.01557487877838485, 0.01553638576222655, 0.015519006036060013, 0.015460984699208946, 0.015458301867327422, 0.015437984624710839, 0.015405968635502603, 0.015425402805676012, 0.01536775458022914, 0.01539176526596136, 0.01536977507621812, 0.015348761711660249, 0.01530606326077829, 0.015338771635918971, 0.015300656416360527, 0.015298853596181744, 0.015240721773746831, 0.015264974847493116, 0.015194720870879528, 0.015228187093687484, 0.015202049256476296, 0.015184105463240229, 0.01520829698037537, 0.015177427394472805, 0.015180656214809175, 0.015111098983003508, 0.015132078740155071, 0.015124120211223965, 0.015107940209557866, 0.015079809619528253, 0.015073627226359552]\n"
     ]
    },
    {
     "data": {
      "application/vnd.jupyter.widget-view+json": {
       "model_id": "80c2f4fcc04f441f9ea73f5f12f103b5",
       "version_major": 2,
       "version_minor": 0
      },
      "text/plain": [
       "HBox(children=(FloatProgress(value=0.0, max=782.0), HTML(value='')))"
      ]
     },
     "metadata": {},
     "output_type": "display_data"
    },
    {
     "name": "stdout",
     "output_type": "stream",
     "text": [
      "\n",
      "epoch : 143/150, loss = 0.015039\n",
      "loss list : [0.04804488558731878, 0.030687242127059366, 0.028325845446923504, 0.02720706879883014, 0.026197104626680578, 0.02506364527089364, 0.02418971135069037, 0.023623952858835992, 0.02315334045349637, 0.022692977669922745, 0.0223407316309831, 0.021953678999543952, 0.02165310765328386, 0.021416172623405675, 0.02115680442532272, 0.02100152473496583, 0.02084396844801238, 0.020636780042191754, 0.02051124759995, 0.020336717957883235, 0.02022155877941138, 0.020074059445973094, 0.019988947690886154, 0.019879242368375936, 0.019749382172551608, 0.019670612006055195, 0.019544808889555808, 0.019445481379051954, 0.01937830664903459, 0.01924366190972383, 0.019150482391809946, 0.019032190895646506, 0.01888003138482304, 0.018828929815193653, 0.01865616335254877, 0.018618830723826158, 0.01848372513109156, 0.01840241544920465, 0.01832478072570489, 0.018254614250539133, 0.018168394033418363, 0.018128619056499904, 0.018011601644156078, 0.017976157841227396, 0.017933478970747548, 0.017847869465427706, 0.017784333562769015, 0.017751687368297058, 0.01770254150342644, 0.017661164033576808, 0.017595522664249172, 0.0175807897330207, 0.01750959302334453, 0.017447488114495032, 0.017393359371349025, 0.017360051211369847, 0.017334512602823697, 0.01726232144548117, 0.01719888771557823, 0.01716632525796247, 0.017111424910490548, 0.017058285385551278, 0.01700707954709487, 0.016992950610711675, 0.01690742601652432, 0.01684054723747856, 0.016870754855492002, 0.01675813262234144, 0.016758373363272232, 0.016703942211825983, 0.01664177611079591, 0.016656552917798006, 0.016555570619766747, 0.01655131136603139, 0.01649975906366773, 0.016440374342024403, 0.016443462163457632, 0.01643902673731413, 0.016346704668563118, 0.01634819275649536, 0.016293486905381883, 0.016342016464561376, 0.016222792974127757, 0.016217800152614294, 0.016262707662532853, 0.016152119860672356, 0.01614145733073087, 0.016109228615298905, 0.016094421687990884, 0.016056512931452306, 0.016021581211834765, 0.016052494774741667, 0.015990332144138683, 0.015937977808687234, 0.01595364697158451, 0.015895318668669143, 0.01589973788241596, 0.015858892797995024, 0.015876958227675896, 0.01579910031903316, 0.015755020374970514, 0.015748764601443203, 0.015733788330631944, 0.015697205414199996, 0.015720945679346846, 0.015654948979492305, 0.015642604395232695, 0.015597019376723892, 0.015601312279548791, 0.015601683877256063, 0.015585606463987123, 0.01557487877838485, 0.01553638576222655, 0.015519006036060013, 0.015460984699208946, 0.015458301867327422, 0.015437984624710839, 0.015405968635502603, 0.015425402805676012, 0.01536775458022914, 0.01539176526596136, 0.01536977507621812, 0.015348761711660249, 0.01530606326077829, 0.015338771635918971, 0.015300656416360527, 0.015298853596181744, 0.015240721773746831, 0.015264974847493116, 0.015194720870879528, 0.015228187093687484, 0.015202049256476296, 0.015184105463240229, 0.01520829698037537, 0.015177427394472805, 0.015180656214809175, 0.015111098983003508, 0.015132078740155071, 0.015124120211223965, 0.015107940209557866, 0.015079809619528253, 0.015073627226359552, 0.015038659049393346]\n"
     ]
    },
    {
     "data": {
      "application/vnd.jupyter.widget-view+json": {
       "model_id": "f9eddfac3dbf4e30b13d975b8010fccd",
       "version_major": 2,
       "version_minor": 0
      },
      "text/plain": [
       "HBox(children=(FloatProgress(value=0.0, max=782.0), HTML(value='')))"
      ]
     },
     "metadata": {},
     "output_type": "display_data"
    },
    {
     "name": "stdout",
     "output_type": "stream",
     "text": [
      "\n",
      "epoch : 144/150, loss = 0.015061\n",
      "loss list : [0.04804488558731878, 0.030687242127059366, 0.028325845446923504, 0.02720706879883014, 0.026197104626680578, 0.02506364527089364, 0.02418971135069037, 0.023623952858835992, 0.02315334045349637, 0.022692977669922745, 0.0223407316309831, 0.021953678999543952, 0.02165310765328386, 0.021416172623405675, 0.02115680442532272, 0.02100152473496583, 0.02084396844801238, 0.020636780042191754, 0.02051124759995, 0.020336717957883235, 0.02022155877941138, 0.020074059445973094, 0.019988947690886154, 0.019879242368375936, 0.019749382172551608, 0.019670612006055195, 0.019544808889555808, 0.019445481379051954, 0.01937830664903459, 0.01924366190972383, 0.019150482391809946, 0.019032190895646506, 0.01888003138482304, 0.018828929815193653, 0.01865616335254877, 0.018618830723826158, 0.01848372513109156, 0.01840241544920465, 0.01832478072570489, 0.018254614250539133, 0.018168394033418363, 0.018128619056499904, 0.018011601644156078, 0.017976157841227396, 0.017933478970747548, 0.017847869465427706, 0.017784333562769015, 0.017751687368297058, 0.01770254150342644, 0.017661164033576808, 0.017595522664249172, 0.0175807897330207, 0.01750959302334453, 0.017447488114495032, 0.017393359371349025, 0.017360051211369847, 0.017334512602823697, 0.01726232144548117, 0.01719888771557823, 0.01716632525796247, 0.017111424910490548, 0.017058285385551278, 0.01700707954709487, 0.016992950610711675, 0.01690742601652432, 0.01684054723747856, 0.016870754855492002, 0.01675813262234144, 0.016758373363272232, 0.016703942211825983, 0.01664177611079591, 0.016656552917798006, 0.016555570619766747, 0.01655131136603139, 0.01649975906366773, 0.016440374342024403, 0.016443462163457632, 0.01643902673731413, 0.016346704668563118, 0.01634819275649536, 0.016293486905381883, 0.016342016464561376, 0.016222792974127757, 0.016217800152614294, 0.016262707662532853, 0.016152119860672356, 0.01614145733073087, 0.016109228615298905, 0.016094421687990884, 0.016056512931452306, 0.016021581211834765, 0.016052494774741667, 0.015990332144138683, 0.015937977808687234, 0.01595364697158451, 0.015895318668669143, 0.01589973788241596, 0.015858892797995024, 0.015876958227675896, 0.01579910031903316, 0.015755020374970514, 0.015748764601443203, 0.015733788330631944, 0.015697205414199996, 0.015720945679346846, 0.015654948979492305, 0.015642604395232695, 0.015597019376723892, 0.015601312279548791, 0.015601683877256063, 0.015585606463987123, 0.01557487877838485, 0.01553638576222655, 0.015519006036060013, 0.015460984699208946, 0.015458301867327422, 0.015437984624710839, 0.015405968635502603, 0.015425402805676012, 0.01536775458022914, 0.01539176526596136, 0.01536977507621812, 0.015348761711660249, 0.01530606326077829, 0.015338771635918971, 0.015300656416360527, 0.015298853596181744, 0.015240721773746831, 0.015264974847493116, 0.015194720870879528, 0.015228187093687484, 0.015202049256476296, 0.015184105463240229, 0.01520829698037537, 0.015177427394472805, 0.015180656214809175, 0.015111098983003508, 0.015132078740155071, 0.015124120211223965, 0.015107940209557866, 0.015079809619528253, 0.015073627226359552, 0.015038659049393346, 0.015061290297523865]\n"
     ]
    },
    {
     "data": {
      "application/vnd.jupyter.widget-view+json": {
       "model_id": "82640916ea78407e90b83cdeb81705fb",
       "version_major": 2,
       "version_minor": 0
      },
      "text/plain": [
       "HBox(children=(FloatProgress(value=0.0, max=782.0), HTML(value='')))"
      ]
     },
     "metadata": {},
     "output_type": "display_data"
    },
    {
     "name": "stdout",
     "output_type": "stream",
     "text": [
      "\n",
      "epoch : 145/150, loss = 0.015022\n",
      "loss list : [0.04804488558731878, 0.030687242127059366, 0.028325845446923504, 0.02720706879883014, 0.026197104626680578, 0.02506364527089364, 0.02418971135069037, 0.023623952858835992, 0.02315334045349637, 0.022692977669922745, 0.0223407316309831, 0.021953678999543952, 0.02165310765328386, 0.021416172623405675, 0.02115680442532272, 0.02100152473496583, 0.02084396844801238, 0.020636780042191754, 0.02051124759995, 0.020336717957883235, 0.02022155877941138, 0.020074059445973094, 0.019988947690886154, 0.019879242368375936, 0.019749382172551608, 0.019670612006055195, 0.019544808889555808, 0.019445481379051954, 0.01937830664903459, 0.01924366190972383, 0.019150482391809946, 0.019032190895646506, 0.01888003138482304, 0.018828929815193653, 0.01865616335254877, 0.018618830723826158, 0.01848372513109156, 0.01840241544920465, 0.01832478072570489, 0.018254614250539133, 0.018168394033418363, 0.018128619056499904, 0.018011601644156078, 0.017976157841227396, 0.017933478970747548, 0.017847869465427706, 0.017784333562769015, 0.017751687368297058, 0.01770254150342644, 0.017661164033576808, 0.017595522664249172, 0.0175807897330207, 0.01750959302334453, 0.017447488114495032, 0.017393359371349025, 0.017360051211369847, 0.017334512602823697, 0.01726232144548117, 0.01719888771557823, 0.01716632525796247, 0.017111424910490548, 0.017058285385551278, 0.01700707954709487, 0.016992950610711675, 0.01690742601652432, 0.01684054723747856, 0.016870754855492002, 0.01675813262234144, 0.016758373363272232, 0.016703942211825983, 0.01664177611079591, 0.016656552917798006, 0.016555570619766747, 0.01655131136603139, 0.01649975906366773, 0.016440374342024403, 0.016443462163457632, 0.01643902673731413, 0.016346704668563118, 0.01634819275649536, 0.016293486905381883, 0.016342016464561376, 0.016222792974127757, 0.016217800152614294, 0.016262707662532853, 0.016152119860672356, 0.01614145733073087, 0.016109228615298905, 0.016094421687990884, 0.016056512931452306, 0.016021581211834765, 0.016052494774741667, 0.015990332144138683, 0.015937977808687234, 0.01595364697158451, 0.015895318668669143, 0.01589973788241596, 0.015858892797995024, 0.015876958227675896, 0.01579910031903316, 0.015755020374970514, 0.015748764601443203, 0.015733788330631944, 0.015697205414199996, 0.015720945679346846, 0.015654948979492305, 0.015642604395232695, 0.015597019376723892, 0.015601312279548791, 0.015601683877256063, 0.015585606463987123, 0.01557487877838485, 0.01553638576222655, 0.015519006036060013, 0.015460984699208946, 0.015458301867327422, 0.015437984624710839, 0.015405968635502603, 0.015425402805676012, 0.01536775458022914, 0.01539176526596136, 0.01536977507621812, 0.015348761711660249, 0.01530606326077829, 0.015338771635918971, 0.015300656416360527, 0.015298853596181744, 0.015240721773746831, 0.015264974847493116, 0.015194720870879528, 0.015228187093687484, 0.015202049256476296, 0.015184105463240229, 0.01520829698037537, 0.015177427394472805, 0.015180656214809175, 0.015111098983003508, 0.015132078740155071, 0.015124120211223965, 0.015107940209557866, 0.015079809619528253, 0.015073627226359552, 0.015038659049393346, 0.015061290297523865, 0.015022281348905372]\n"
     ]
    },
    {
     "data": {
      "application/vnd.jupyter.widget-view+json": {
       "model_id": "efbfaf0b5df648b5a1fa98a3b1ded6d4",
       "version_major": 2,
       "version_minor": 0
      },
      "text/plain": [
       "HBox(children=(FloatProgress(value=0.0, max=782.0), HTML(value='')))"
      ]
     },
     "metadata": {},
     "output_type": "display_data"
    },
    {
     "name": "stdout",
     "output_type": "stream",
     "text": [
      "\n",
      "epoch : 146/150, loss = 0.015025\n",
      "loss list : [0.04804488558731878, 0.030687242127059366, 0.028325845446923504, 0.02720706879883014, 0.026197104626680578, 0.02506364527089364, 0.02418971135069037, 0.023623952858835992, 0.02315334045349637, 0.022692977669922745, 0.0223407316309831, 0.021953678999543952, 0.02165310765328386, 0.021416172623405675, 0.02115680442532272, 0.02100152473496583, 0.02084396844801238, 0.020636780042191754, 0.02051124759995, 0.020336717957883235, 0.02022155877941138, 0.020074059445973094, 0.019988947690886154, 0.019879242368375936, 0.019749382172551608, 0.019670612006055195, 0.019544808889555808, 0.019445481379051954, 0.01937830664903459, 0.01924366190972383, 0.019150482391809946, 0.019032190895646506, 0.01888003138482304, 0.018828929815193653, 0.01865616335254877, 0.018618830723826158, 0.01848372513109156, 0.01840241544920465, 0.01832478072570489, 0.018254614250539133, 0.018168394033418363, 0.018128619056499904, 0.018011601644156078, 0.017976157841227396, 0.017933478970747548, 0.017847869465427706, 0.017784333562769015, 0.017751687368297058, 0.01770254150342644, 0.017661164033576808, 0.017595522664249172, 0.0175807897330207, 0.01750959302334453, 0.017447488114495032, 0.017393359371349025, 0.017360051211369847, 0.017334512602823697, 0.01726232144548117, 0.01719888771557823, 0.01716632525796247, 0.017111424910490548, 0.017058285385551278, 0.01700707954709487, 0.016992950610711675, 0.01690742601652432, 0.01684054723747856, 0.016870754855492002, 0.01675813262234144, 0.016758373363272232, 0.016703942211825983, 0.01664177611079591, 0.016656552917798006, 0.016555570619766747, 0.01655131136603139, 0.01649975906366773, 0.016440374342024403, 0.016443462163457632, 0.01643902673731413, 0.016346704668563118, 0.01634819275649536, 0.016293486905381883, 0.016342016464561376, 0.016222792974127757, 0.016217800152614294, 0.016262707662532853, 0.016152119860672356, 0.01614145733073087, 0.016109228615298905, 0.016094421687990884, 0.016056512931452306, 0.016021581211834765, 0.016052494774741667, 0.015990332144138683, 0.015937977808687234, 0.01595364697158451, 0.015895318668669143, 0.01589973788241596, 0.015858892797995024, 0.015876958227675896, 0.01579910031903316, 0.015755020374970514, 0.015748764601443203, 0.015733788330631944, 0.015697205414199996, 0.015720945679346846, 0.015654948979492305, 0.015642604395232695, 0.015597019376723892, 0.015601312279548791, 0.015601683877256063, 0.015585606463987123, 0.01557487877838485, 0.01553638576222655, 0.015519006036060013, 0.015460984699208946, 0.015458301867327422, 0.015437984624710839, 0.015405968635502603, 0.015425402805676012, 0.01536775458022914, 0.01539176526596136, 0.01536977507621812, 0.015348761711660249, 0.01530606326077829, 0.015338771635918971, 0.015300656416360527, 0.015298853596181744, 0.015240721773746831, 0.015264974847493116, 0.015194720870879528, 0.015228187093687484, 0.015202049256476296, 0.015184105463240229, 0.01520829698037537, 0.015177427394472805, 0.015180656214809175, 0.015111098983003508, 0.015132078740155071, 0.015124120211223965, 0.015107940209557866, 0.015079809619528253, 0.015073627226359552, 0.015038659049393346, 0.015061290297523865, 0.015022281348905372, 0.01502477345854768]\n"
     ]
    },
    {
     "data": {
      "application/vnd.jupyter.widget-view+json": {
       "model_id": "147635b675b1405ab56eb3adb43a11dc",
       "version_major": 2,
       "version_minor": 0
      },
      "text/plain": [
       "HBox(children=(FloatProgress(value=0.0, max=782.0), HTML(value='')))"
      ]
     },
     "metadata": {},
     "output_type": "display_data"
    },
    {
     "name": "stdout",
     "output_type": "stream",
     "text": [
      "\n",
      "epoch : 147/150, loss = 0.015054\n",
      "loss list : [0.04804488558731878, 0.030687242127059366, 0.028325845446923504, 0.02720706879883014, 0.026197104626680578, 0.02506364527089364, 0.02418971135069037, 0.023623952858835992, 0.02315334045349637, 0.022692977669922745, 0.0223407316309831, 0.021953678999543952, 0.02165310765328386, 0.021416172623405675, 0.02115680442532272, 0.02100152473496583, 0.02084396844801238, 0.020636780042191754, 0.02051124759995, 0.020336717957883235, 0.02022155877941138, 0.020074059445973094, 0.019988947690886154, 0.019879242368375936, 0.019749382172551608, 0.019670612006055195, 0.019544808889555808, 0.019445481379051954, 0.01937830664903459, 0.01924366190972383, 0.019150482391809946, 0.019032190895646506, 0.01888003138482304, 0.018828929815193653, 0.01865616335254877, 0.018618830723826158, 0.01848372513109156, 0.01840241544920465, 0.01832478072570489, 0.018254614250539133, 0.018168394033418363, 0.018128619056499904, 0.018011601644156078, 0.017976157841227396, 0.017933478970747548, 0.017847869465427706, 0.017784333562769015, 0.017751687368297058, 0.01770254150342644, 0.017661164033576808, 0.017595522664249172, 0.0175807897330207, 0.01750959302334453, 0.017447488114495032, 0.017393359371349025, 0.017360051211369847, 0.017334512602823697, 0.01726232144548117, 0.01719888771557823, 0.01716632525796247, 0.017111424910490548, 0.017058285385551278, 0.01700707954709487, 0.016992950610711675, 0.01690742601652432, 0.01684054723747856, 0.016870754855492002, 0.01675813262234144, 0.016758373363272232, 0.016703942211825983, 0.01664177611079591, 0.016656552917798006, 0.016555570619766747, 0.01655131136603139, 0.01649975906366773, 0.016440374342024403, 0.016443462163457632, 0.01643902673731413, 0.016346704668563118, 0.01634819275649536, 0.016293486905381883, 0.016342016464561376, 0.016222792974127757, 0.016217800152614294, 0.016262707662532853, 0.016152119860672356, 0.01614145733073087, 0.016109228615298905, 0.016094421687990884, 0.016056512931452306, 0.016021581211834765, 0.016052494774741667, 0.015990332144138683, 0.015937977808687234, 0.01595364697158451, 0.015895318668669143, 0.01589973788241596, 0.015858892797995024, 0.015876958227675896, 0.01579910031903316, 0.015755020374970514, 0.015748764601443203, 0.015733788330631944, 0.015697205414199996, 0.015720945679346846, 0.015654948979492305, 0.015642604395232695, 0.015597019376723892, 0.015601312279548791, 0.015601683877256063, 0.015585606463987123, 0.01557487877838485, 0.01553638576222655, 0.015519006036060013, 0.015460984699208946, 0.015458301867327422, 0.015437984624710839, 0.015405968635502603, 0.015425402805676012, 0.01536775458022914, 0.01539176526596136, 0.01536977507621812, 0.015348761711660249, 0.01530606326077829, 0.015338771635918971, 0.015300656416360527, 0.015298853596181744, 0.015240721773746831, 0.015264974847493116, 0.015194720870879528, 0.015228187093687484, 0.015202049256476296, 0.015184105463240229, 0.01520829698037537, 0.015177427394472805, 0.015180656214809175, 0.015111098983003508, 0.015132078740155071, 0.015124120211223965, 0.015107940209557866, 0.015079809619528253, 0.015073627226359552, 0.015038659049393346, 0.015061290297523865, 0.015022281348905372, 0.01502477345854768, 0.015053726287315721]\n"
     ]
    },
    {
     "data": {
      "application/vnd.jupyter.widget-view+json": {
       "model_id": "c4a47a3699a444d0ac1ad25506a855fa",
       "version_major": 2,
       "version_minor": 0
      },
      "text/plain": [
       "HBox(children=(FloatProgress(value=0.0, max=782.0), HTML(value='')))"
      ]
     },
     "metadata": {},
     "output_type": "display_data"
    },
    {
     "name": "stdout",
     "output_type": "stream",
     "text": [
      "\n",
      "epoch : 148/150, loss = 0.014993\n",
      "loss list : [0.04804488558731878, 0.030687242127059366, 0.028325845446923504, 0.02720706879883014, 0.026197104626680578, 0.02506364527089364, 0.02418971135069037, 0.023623952858835992, 0.02315334045349637, 0.022692977669922745, 0.0223407316309831, 0.021953678999543952, 0.02165310765328386, 0.021416172623405675, 0.02115680442532272, 0.02100152473496583, 0.02084396844801238, 0.020636780042191754, 0.02051124759995, 0.020336717957883235, 0.02022155877941138, 0.020074059445973094, 0.019988947690886154, 0.019879242368375936, 0.019749382172551608, 0.019670612006055195, 0.019544808889555808, 0.019445481379051954, 0.01937830664903459, 0.01924366190972383, 0.019150482391809946, 0.019032190895646506, 0.01888003138482304, 0.018828929815193653, 0.01865616335254877, 0.018618830723826158, 0.01848372513109156, 0.01840241544920465, 0.01832478072570489, 0.018254614250539133, 0.018168394033418363, 0.018128619056499904, 0.018011601644156078, 0.017976157841227396, 0.017933478970747548, 0.017847869465427706, 0.017784333562769015, 0.017751687368297058, 0.01770254150342644, 0.017661164033576808, 0.017595522664249172, 0.0175807897330207, 0.01750959302334453, 0.017447488114495032, 0.017393359371349025, 0.017360051211369847, 0.017334512602823697, 0.01726232144548117, 0.01719888771557823, 0.01716632525796247, 0.017111424910490548, 0.017058285385551278, 0.01700707954709487, 0.016992950610711675, 0.01690742601652432, 0.01684054723747856, 0.016870754855492002, 0.01675813262234144, 0.016758373363272232, 0.016703942211825983, 0.01664177611079591, 0.016656552917798006, 0.016555570619766747, 0.01655131136603139, 0.01649975906366773, 0.016440374342024403, 0.016443462163457632, 0.01643902673731413, 0.016346704668563118, 0.01634819275649536, 0.016293486905381883, 0.016342016464561376, 0.016222792974127757, 0.016217800152614294, 0.016262707662532853, 0.016152119860672356, 0.01614145733073087, 0.016109228615298905, 0.016094421687990884, 0.016056512931452306, 0.016021581211834765, 0.016052494774741667, 0.015990332144138683, 0.015937977808687234, 0.01595364697158451, 0.015895318668669143, 0.01589973788241596, 0.015858892797995024, 0.015876958227675896, 0.01579910031903316, 0.015755020374970514, 0.015748764601443203, 0.015733788330631944, 0.015697205414199996, 0.015720945679346846, 0.015654948979492305, 0.015642604395232695, 0.015597019376723892, 0.015601312279548791, 0.015601683877256063, 0.015585606463987123, 0.01557487877838485, 0.01553638576222655, 0.015519006036060013, 0.015460984699208946, 0.015458301867327422, 0.015437984624710839, 0.015405968635502603, 0.015425402805676012, 0.01536775458022914, 0.01539176526596136, 0.01536977507621812, 0.015348761711660249, 0.01530606326077829, 0.015338771635918971, 0.015300656416360527, 0.015298853596181744, 0.015240721773746831, 0.015264974847493116, 0.015194720870879528, 0.015228187093687484, 0.015202049256476296, 0.015184105463240229, 0.01520829698037537, 0.015177427394472805, 0.015180656214809175, 0.015111098983003508, 0.015132078740155071, 0.015124120211223965, 0.015107940209557866, 0.015079809619528253, 0.015073627226359552, 0.015038659049393346, 0.015061290297523865, 0.015022281348905372, 0.01502477345854768, 0.015053726287315721, 0.014992547548992936]\n"
     ]
    },
    {
     "data": {
      "application/vnd.jupyter.widget-view+json": {
       "model_id": "793d2533de5d4a609982a8967627a704",
       "version_major": 2,
       "version_minor": 0
      },
      "text/plain": [
       "HBox(children=(FloatProgress(value=0.0, max=782.0), HTML(value='')))"
      ]
     },
     "metadata": {},
     "output_type": "display_data"
    },
    {
     "name": "stdout",
     "output_type": "stream",
     "text": [
      "\n",
      "epoch : 149/150, loss = 0.015008\n",
      "loss list : [0.04804488558731878, 0.030687242127059366, 0.028325845446923504, 0.02720706879883014, 0.026197104626680578, 0.02506364527089364, 0.02418971135069037, 0.023623952858835992, 0.02315334045349637, 0.022692977669922745, 0.0223407316309831, 0.021953678999543952, 0.02165310765328386, 0.021416172623405675, 0.02115680442532272, 0.02100152473496583, 0.02084396844801238, 0.020636780042191754, 0.02051124759995, 0.020336717957883235, 0.02022155877941138, 0.020074059445973094, 0.019988947690886154, 0.019879242368375936, 0.019749382172551608, 0.019670612006055195, 0.019544808889555808, 0.019445481379051954, 0.01937830664903459, 0.01924366190972383, 0.019150482391809946, 0.019032190895646506, 0.01888003138482304, 0.018828929815193653, 0.01865616335254877, 0.018618830723826158, 0.01848372513109156, 0.01840241544920465, 0.01832478072570489, 0.018254614250539133, 0.018168394033418363, 0.018128619056499904, 0.018011601644156078, 0.017976157841227396, 0.017933478970747548, 0.017847869465427706, 0.017784333562769015, 0.017751687368297058, 0.01770254150342644, 0.017661164033576808, 0.017595522664249172, 0.0175807897330207, 0.01750959302334453, 0.017447488114495032, 0.017393359371349025, 0.017360051211369847, 0.017334512602823697, 0.01726232144548117, 0.01719888771557823, 0.01716632525796247, 0.017111424910490548, 0.017058285385551278, 0.01700707954709487, 0.016992950610711675, 0.01690742601652432, 0.01684054723747856, 0.016870754855492002, 0.01675813262234144, 0.016758373363272232, 0.016703942211825983, 0.01664177611079591, 0.016656552917798006, 0.016555570619766747, 0.01655131136603139, 0.01649975906366773, 0.016440374342024403, 0.016443462163457632, 0.01643902673731413, 0.016346704668563118, 0.01634819275649536, 0.016293486905381883, 0.016342016464561376, 0.016222792974127757, 0.016217800152614294, 0.016262707662532853, 0.016152119860672356, 0.01614145733073087, 0.016109228615298905, 0.016094421687990884, 0.016056512931452306, 0.016021581211834765, 0.016052494774741667, 0.015990332144138683, 0.015937977808687234, 0.01595364697158451, 0.015895318668669143, 0.01589973788241596, 0.015858892797995024, 0.015876958227675896, 0.01579910031903316, 0.015755020374970514, 0.015748764601443203, 0.015733788330631944, 0.015697205414199996, 0.015720945679346846, 0.015654948979492305, 0.015642604395232695, 0.015597019376723892, 0.015601312279548791, 0.015601683877256063, 0.015585606463987123, 0.01557487877838485, 0.01553638576222655, 0.015519006036060013, 0.015460984699208946, 0.015458301867327422, 0.015437984624710839, 0.015405968635502603, 0.015425402805676012, 0.01536775458022914, 0.01539176526596136, 0.01536977507621812, 0.015348761711660249, 0.01530606326077829, 0.015338771635918971, 0.015300656416360527, 0.015298853596181744, 0.015240721773746831, 0.015264974847493116, 0.015194720870879528, 0.015228187093687484, 0.015202049256476296, 0.015184105463240229, 0.01520829698037537, 0.015177427394472805, 0.015180656214809175, 0.015111098983003508, 0.015132078740155071, 0.015124120211223965, 0.015107940209557866, 0.015079809619528253, 0.015073627226359552, 0.015038659049393346, 0.015061290297523865, 0.015022281348905372, 0.01502477345854768, 0.015053726287315721, 0.014992547548992936, 0.015008045796333525]\n"
     ]
    },
    {
     "data": {
      "application/vnd.jupyter.widget-view+json": {
       "model_id": "e46467177dd249cdb81d05b3f2831e3d",
       "version_major": 2,
       "version_minor": 0
      },
      "text/plain": [
       "HBox(children=(FloatProgress(value=0.0, max=782.0), HTML(value='')))"
      ]
     },
     "metadata": {},
     "output_type": "display_data"
    },
    {
     "name": "stdout",
     "output_type": "stream",
     "text": [
      "\n",
      "epoch : 150/150, loss = 0.015016\n",
      "loss list : [0.04804488558731878, 0.030687242127059366, 0.028325845446923504, 0.02720706879883014, 0.026197104626680578, 0.02506364527089364, 0.02418971135069037, 0.023623952858835992, 0.02315334045349637, 0.022692977669922745, 0.0223407316309831, 0.021953678999543952, 0.02165310765328386, 0.021416172623405675, 0.02115680442532272, 0.02100152473496583, 0.02084396844801238, 0.020636780042191754, 0.02051124759995, 0.020336717957883235, 0.02022155877941138, 0.020074059445973094, 0.019988947690886154, 0.019879242368375936, 0.019749382172551608, 0.019670612006055195, 0.019544808889555808, 0.019445481379051954, 0.01937830664903459, 0.01924366190972383, 0.019150482391809946, 0.019032190895646506, 0.01888003138482304, 0.018828929815193653, 0.01865616335254877, 0.018618830723826158, 0.01848372513109156, 0.01840241544920465, 0.01832478072570489, 0.018254614250539133, 0.018168394033418363, 0.018128619056499904, 0.018011601644156078, 0.017976157841227396, 0.017933478970747548, 0.017847869465427706, 0.017784333562769015, 0.017751687368297058, 0.01770254150342644, 0.017661164033576808, 0.017595522664249172, 0.0175807897330207, 0.01750959302334453, 0.017447488114495032, 0.017393359371349025, 0.017360051211369847, 0.017334512602823697, 0.01726232144548117, 0.01719888771557823, 0.01716632525796247, 0.017111424910490548, 0.017058285385551278, 0.01700707954709487, 0.016992950610711675, 0.01690742601652432, 0.01684054723747856, 0.016870754855492002, 0.01675813262234144, 0.016758373363272232, 0.016703942211825983, 0.01664177611079591, 0.016656552917798006, 0.016555570619766747, 0.01655131136603139, 0.01649975906366773, 0.016440374342024403, 0.016443462163457632, 0.01643902673731413, 0.016346704668563118, 0.01634819275649536, 0.016293486905381883, 0.016342016464561376, 0.016222792974127757, 0.016217800152614294, 0.016262707662532853, 0.016152119860672356, 0.01614145733073087, 0.016109228615298905, 0.016094421687990884, 0.016056512931452306, 0.016021581211834765, 0.016052494774741667, 0.015990332144138683, 0.015937977808687234, 0.01595364697158451, 0.015895318668669143, 0.01589973788241596, 0.015858892797995024, 0.015876958227675896, 0.01579910031903316, 0.015755020374970514, 0.015748764601443203, 0.015733788330631944, 0.015697205414199996, 0.015720945679346846, 0.015654948979492305, 0.015642604395232695, 0.015597019376723892, 0.015601312279548791, 0.015601683877256063, 0.015585606463987123, 0.01557487877838485, 0.01553638576222655, 0.015519006036060013, 0.015460984699208946, 0.015458301867327422, 0.015437984624710839, 0.015405968635502603, 0.015425402805676012, 0.01536775458022914, 0.01539176526596136, 0.01536977507621812, 0.015348761711660249, 0.01530606326077829, 0.015338771635918971, 0.015300656416360527, 0.015298853596181744, 0.015240721773746831, 0.015264974847493116, 0.015194720870879528, 0.015228187093687484, 0.015202049256476296, 0.015184105463240229, 0.01520829698037537, 0.015177427394472805, 0.015180656214809175, 0.015111098983003508, 0.015132078740155071, 0.015124120211223965, 0.015107940209557866, 0.015079809619528253, 0.015073627226359552, 0.015038659049393346, 0.015061290297523865, 0.015022281348905372, 0.01502477345854768, 0.015053726287315721, 0.014992547548992936, 0.015008045796333525, 0.015015918849622044]\n",
      "\n"
     ]
    }
   ],
   "source": [
    "# Load the model to either cpu or gpu according to availability\n",
    "device = torch.device(\"cuda\" if torch.cuda.is_available() else \"cpu\")\n",
    "neural_network = AutoEncoder().to(device)\n",
    "# Parameters\n",
    "learning_rate = 0.001\n",
    "epochs = 150\n",
    "# Loss function & optimizer\n",
    "criterion = nn.MSELoss()\n",
    "optimizer = torch.optim.Adam(neural_network.parameters(), lr=learning_rate)\n",
    "\n",
    "\n",
    "#train the model to convergence :\n",
    "losslist = []\n",
    "\n",
    "for epoch in tqdm(range(epochs)):\n",
    "    loss = 0\n",
    "    for clean, noise in tqdm(train_load):\n",
    "        clean = clean.view(-1,28*28).to(device)\n",
    "        clean = clean/255\n",
    "        noise = noise.view(-1,28*28).to(device)\n",
    "        noise = noise/255\n",
    "        #recontruction of images\n",
    "        outputs = neural_network(noise)\n",
    "        #training reconstruction loss\n",
    "        train_loss = criterion(outputs, clean)\n",
    "        optimizer.zero_grad()\n",
    "        train_loss.backward()\n",
    "        optimizer.step()\n",
    "        loss += train_loss.item()\n",
    "    loss = loss / len(train_load)\n",
    "    losslist.append(loss)\n",
    "    print(\"epoch : {}/{}, loss = {:.6f}\".format(epoch + 1, epochs, loss))\n",
    "    print(\"loss list :\" , losslist)"
   ]
  },
  {
   "cell_type": "markdown",
   "metadata": {},
   "source": [
    "# Plot loss on the training set and validation set for each epoch of training"
   ]
  },
  {
   "cell_type": "code",
   "execution_count": null,
   "metadata": {},
   "outputs": [],
   "source": [
    "losslist_val = []\n",
    "\n",
    "for epoch in range(epochs):\n",
    "    loss = 0\n",
    "    for clean, noise in val_load:\n",
    "        clean = clean.view(-1,28*28).to(device)\n",
    "        clean = clean/255\n",
    "        noise = noise.view(-1,28*28).to(device)\n",
    "        noise = noise/255\n",
    "        outputs = neural_network(noise)\n",
    "        val_loss = criterion(outputs, clean)\n",
    "        optimizer.zero_grad()\n",
    "        val_loss.backward()\n",
    "        optimizer.step()\n",
    "        loss += val_loss.item()\n",
    "    loss = loss / len(val_load)\n",
    "    losslist_val.append(loss)\n",
    "    \n",
    "plt.plot(range(len(losslist)),losslist, label= \"Training loss\")\n",
    "plt.plot(range(len(losslist_val)),losslist_val, label =\"Validation loss\")\n",
    "plt.xlabel(\"Epochs\")\n",
    "plt.ylabel(\"MSE loss\")\n",
    "plt.legend()\n",
    "plt.show()"
   ]
  },
  {
   "cell_type": "markdown",
   "metadata": {},
   "source": [
    "# Plot the first image in its original, “noisy”, and “denoised” form from train set "
   ]
  },
  {
   "cell_type": "code",
   "execution_count": 17,
   "metadata": {},
   "outputs": [
    {
     "data": {
      "application/vnd.jupyter.widget-view+json": {
       "model_id": "86ca878615f8410dadefd283bac5a921",
       "version_major": 2,
       "version_minor": 0
      },
      "text/plain": [
       "HBox(children=(FloatProgress(value=0.0, max=782.0), HTML(value='')))"
      ]
     },
     "metadata": {},
     "output_type": "display_data"
    },
    {
     "name": "stdout",
     "output_type": "stream",
     "text": [
      "\n"
     ]
    },
    {
     "data": {
      "image/png": "[encoded data removed]",
      "text/plain": [
       "<Figure size 1080x1080 with 3 Axes>"
      ]
     },
     "metadata": {
      "needs_background": "light"
     },
     "output_type": "display_data"
    }
   ],
   "source": [
    "for clean, noise in tqdm(train_load):\n",
    "    _, plots = plt.subplots(1,3, figsize =(15,15))\n",
    "    plots[0].set_title('original')\n",
    "    plots[1].set_title('noise')\n",
    "    plots[2].set_title('encoder')\n",
    "    plots[0].imshow(clean[0].view(28,28), cmap = 'gray')\n",
    "    plots[1].imshow(noise[0].view(28,28), cmap = 'gray')\n",
    "\n",
    "    noise = noise[0].view(-1, 28*28).to(device)\n",
    "    noise = noise/255\n",
    "\n",
    "    encoder_image = neural_network(noise)\n",
    "    encoder_image = encoder_image.view(1, 28, 28)\n",
    "    encoder_image = encoder_image.detach().cpu().numpy()\n",
    "\n",
    "    plots[2].imshow(encoder_image[0], cmap = 'gray')\n",
    "\n",
    "    break"
   ]
  },
  {
   "cell_type": "markdown",
   "metadata": {},
   "source": [
    "# Plot the first image in its original, “noisy”, and “denoised” form from val set "
   ]
  },
  {
   "cell_type": "code",
   "execution_count": 18,
   "metadata": {},
   "outputs": [
    {
     "data": {
      "application/vnd.jupyter.widget-view+json": {
       "model_id": "b171811ef5534dfa92c1fd3b37d51ee7",
       "version_major": 2,
       "version_minor": 0
      },
      "text/plain": [
       "HBox(children=(FloatProgress(value=0.0, max=157.0), HTML(value='')))"
      ]
     },
     "metadata": {},
     "output_type": "display_data"
    },
    {
     "name": "stdout",
     "output_type": "stream",
     "text": [
      "\n"
     ]
    },
    {
     "data": {
      "image/png": "[encoded data removed]",
      "text/plain": [
       "<Figure size 1080x1080 with 3 Axes>"
      ]
     },
     "metadata": {
      "needs_background": "light"
     },
     "output_type": "display_data"
    }
   ],
   "source": [
    "for clean, noise in tqdm(val_load):\n",
    "    _, plots = plt.subplots(1,3, figsize =(15,15))\n",
    "    plots[0].set_title('original')\n",
    "    plots[1].set_title('noise')\n",
    "    plots[2].set_title('encoder')\n",
    "    plots[0].imshow(clean[0].view(28,28), cmap = 'gray')\n",
    "    plots[1].imshow(noise[0].view(28,28), cmap = 'gray')\n",
    "\n",
    "    noise = noise[0].view(-1, 28*28).to(device)\n",
    "    noise = noise/255\n",
    "\n",
    "    encoder_image = neural_network(noise)\n",
    "    encoder_image = encoder_image.view(1, 28, 28)\n",
    "    encoder_image = encoder_image.detach().cpu().numpy()\n",
    "\n",
    "    plots[2].imshow(encoder_image[0], cmap = 'gray')\n",
    "\n",
    "    break"
   ]
  },
  {
   "cell_type": "markdown",
   "metadata": {},
   "source": [
    "Remark : By plotting more images, we can notice that the denoising autoencoder works well in general.  Nonetheless, it recognizes certain classes more easily than others.  Without loss of generality, we observe that shoes, shirts and trousers are well reconstructed.  Whilst, bags are often reconstructed as shoes or as undefined items. The autoencoder reconstructs the image pixel by pixel with value from 0 (black) to 255 (white). Thus, one could say that two images reconstructed similarly have similar intensity value distribution of pixel. Therefore, we assume that shoes and bags images have similar intensity value distributions of pixels, whilst, for shirt and trousers images the distribution is distinct."
   ]
  }
 ],
 "metadata": {
  "kernelspec": {
   "display_name": "Python 3",
   "language": "python",
   "name": "python3"
  },
  "language_info": {
   "codemirror_mode": {
    "name": "ipython",
    "version": 3
   },
   "file_extension": ".py",
   "mimetype": "text/x-python",
   "name": "python",
   "nbconvert_exporter": "python",
   "pygments_lexer": "ipython3",
   "version": "3.8.3"
  }
 },
 "nbformat": 4,
 "nbformat_minor": 4
}
