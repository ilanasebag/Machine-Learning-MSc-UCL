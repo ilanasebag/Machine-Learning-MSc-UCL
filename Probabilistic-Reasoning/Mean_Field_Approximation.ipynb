{
 "cells": [
  {
   "cell_type": "markdown",
   "metadata": {},
   "source": [
    "# Mean Field Approximation and Coordinate Ascent "
   ]
  },
  {
   "cell_type": "markdown",
   "metadata": {},
   "source": [
    "In this notebook, we consider the Ising model on the 10*10 lattice such that $ P(x) = \\frac{1}{Z}\\prod_{i>j} \\phi (x_{i}, x_{j}) $ and $ \\phi (x_{i}, x_{j}) = exp (\\beta \\: I[ x_{i} = x_{j} ]$ for i a neighbour of j on the lattice and i>j to avoid overcounting. \\\\\n",
    "\n",
    "We aim to compute the joint probability distribution of the top and bottom nodes of the rightmost column of the lattice for different values of beta. \\\\\n",
    "\n",
    "We use mean field approximation and coordinate ascent. "
   ]
  },
  {
   "cell_type": "code",
   "execution_count": 12,
   "metadata": {},
   "outputs": [],
   "source": [
    "import sys, os\n",
    "import random\n",
    "import numpy as np\n",
    "import matplotlib.pyplot as plt\n",
    "from tqdm.notebook import tqdm"
   ]
  },
  {
   "cell_type": "markdown",
   "metadata": {},
   "source": [
    "# Step 2 : define the relationship between the nodes "
   ]
  },
  {
   "cell_type": "code",
   "execution_count": 13,
   "metadata": {},
   "outputs": [],
   "source": [
    "def get_mn(k):\n",
    "    if k < xmax:\n",
    "        m = k\n",
    "        n = 0 \n",
    "    if k > xmax-1:\n",
    "        m = k % 10\n",
    "        n = (k-m)/10\n",
    "    return m,n\n",
    "\n",
    "def get_k(m,n):\n",
    "    k = m+(n*10)\n",
    "    return k"
   ]
  },
  {
   "cell_type": "markdown",
   "metadata": {},
   "source": [
    "# Step 3 : Check overflow issues "
   ]
  },
  {
   "cell_type": "code",
   "execution_count": 14,
   "metadata": {},
   "outputs": [],
   "source": [
    "#check whether index is within the 10*10 lattice \n",
    "\n",
    "def check_overflow(i, j):\n",
    "    if (0 <= i < xmax) and (0 <= j < ymax) :\n",
    "        return i,j\n",
    "    elif (0 > i > xmax) and (0 > j > ymax):\n",
    "        return ('overflow issue')"
   ]
  },
  {
   "cell_type": "markdown",
   "metadata": {},
   "source": [
    "# Step 4 : Get the neighbours of node k"
   ]
  },
  {
   "cell_type": "code",
   "execution_count": 15,
   "metadata": {},
   "outputs": [],
   "source": [
    "def neighbours(k):\n",
    "    \n",
    "    #define x and y\n",
    "    x, y = get_mn(k)\n",
    "    \n",
    "    #i\n",
    "    ineig = [(x+1,y),(x,y+1)]\n",
    "    i_neigh_list = [check_overflow(i_neighb, j_neighb) for (i_neighb, j_neighb) in ineig]\n",
    "    i = list(filter(None,i_neigh_list))\n",
    "    \n",
    "    for n in range(len(i)):\n",
    "        x_ = i[n][0]\n",
    "        y_ = i[n][1]\n",
    "        i[n] = get_k(x_, y_)\n",
    "    \n",
    "    #j\n",
    "    jneig = [(x-1,y),(x,y-1)]\n",
    "    j_neigh_list = [check_overflow(i_neighb, j_neighb) for (i_neighb, j_neighb) in jneig]\n",
    "    j = list(filter(None,j_neigh_list))\n",
    "    \n",
    "    for n in range(len(j)):\n",
    "        x_ = j[n][0]\n",
    "        y_ = j[n][1]\n",
    "        j[n] = get_k(x_, y_)\n",
    "        \n",
    "    return i,j\n"
   ]
  },
  {
   "cell_type": "markdown",
   "metadata": {},
   "source": [
    "# Step 5 : Update parameter theta of the Bernouilli"
   ]
  },
  {
   "cell_type": "markdown",
   "metadata": {},
   "source": [
    "Let us recall that the update of the parameter theta is made using logistic regression and the sigmoid function"
   ]
  },
  {
   "cell_type": "code",
   "execution_count": 16,
   "metadata": {},
   "outputs": [],
   "source": [
    "def sigmoid(x):\n",
    "    sigmoid = 1/(1 + np.exp(-x))\n",
    "    return sigmoid\n",
    "\n",
    "def update_theta(theta,k):\n",
    "    \n",
    "    i_= 0\n",
    "    j_= 0\n",
    "    \n",
    "    isimk, ksimj = neighbours(k) \n",
    "    \n",
    "    ik_list = [int(i) for i in isimk]\n",
    "    kj_list = [int(k) for k in ksimj]\n",
    "    \n",
    "    for i in ik_list:\n",
    "        i_ += 1-2*rdm[i]\n",
    "    \n",
    "    for j in kj_list:\n",
    "        j_ += 1-2*rdm[j]\n",
    "    \n",
    "    update = sigmoid(((i_+j_)*theta)*-1 )\n",
    "        \n",
    "    return update"
   ]
  },
  {
   "cell_type": "markdown",
   "metadata": {},
   "source": [
    "# Step 5 : Define ELBO"
   ]
  },
  {
   "cell_type": "markdown",
   "metadata": {},
   "source": [
    "Let us recall that the ELBO is the sum on the loglikelihood and the entropy functions (as proved in the mathematical demonstration)"
   ]
  },
  {
   "cell_type": "code",
   "execution_count": 17,
   "metadata": {},
   "outputs": [],
   "source": [
    "def entropy(k): \n",
    "    entropy = np.log(1-rdm[k]) * (1-rdm[k]) + np.log(rdm[k]) * rdm[k] * -1\n",
    "    return entropy \n",
    "\n",
    "def logLk(theta,k):\n",
    "    \n",
    "    i_ = 0 \n",
    "    j_ = 0 \n",
    "    \n",
    "    isimk, ksimj = neighbours(k) \n",
    "    ik_list = [int(i) for i in isimk]\n",
    "    kj_list = [int(k) for k in ksimj]\n",
    "\n",
    "    for i in ik_list:\n",
    "        i_ += rdm[i]*rdm[k]+(1-rdm[i])*(1-rdm[k])\n",
    "\n",
    "    for j in kj_list:\n",
    "        j_ += rdm[k]*rdm[j]+(1-rdm[k])*(1-rdm[j])\n",
    "        \n",
    "    loglk = theta*(i_+j_) \n",
    "        \n",
    "    return loglk\n",
    "\n",
    "def ELBO(theta): \n",
    "    \n",
    "    elbo = 0\n",
    "    \n",
    "    for k in range(xmax*ymax):\n",
    "        \n",
    "        elbo += logLk(beta,k) + entropy(k) #update elbo\n",
    "        isimk, ksimj = neighbours(k) #update neighours of node k \n",
    "        rdm[k] = update_theta(theta,k) #update theta\n",
    "        \n",
    "    return elbo"
   ]
  },
  {
   "cell_type": "markdown",
   "metadata": {},
   "source": [
    "# Define parameters and get probability tables for beta = 0.01"
   ]
  },
  {
   "cell_type": "code",
   "execution_count": 26,
   "metadata": {},
   "outputs": [
    {
     "name": "stdout",
     "output_type": "stream",
     "text": [
      "0.2500000000000027\n",
      "0.2500000000000027\n",
      "0.24999999999999728\n",
      "0.24999999999999728\n"
     ]
    }
   ],
   "source": [
    "beta = 0.01\n",
    "\n",
    "#Define the lattice \n",
    "xmax = 10\n",
    "ymax = 10\n",
    "\n",
    "#pre-compute : less time consumming \n",
    "rdm = np.random.random(xmax * ymax)\n",
    "\n",
    "tends_to_0 = 0.000001\n",
    "tends_to_inf = 100000\n",
    "\n",
    "#initialization \n",
    "update_elbo =0\n",
    "\n",
    "while 1:\n",
    "    update_elbo = ELBO(beta)\n",
    "    \n",
    "    if tends_to_inf - update_elbo < tends_to_0 and tends_to_inf - update_elbo >= 0:\n",
    "        break\n",
    "        \n",
    "    tends_to_inf = update_elbo\n",
    "    \n",
    "X_1_10_is_1= rdm[90] \n",
    "X_1_10_is_0= 1-rdm[90]\n",
    "X_10_10_is_1= rdm[99]\n",
    "X_10_10_is_0= 1-rdm[99]\n",
    "\n",
    "print(X_1_10_is_0*X_10_10_is_0)\n",
    "print(X_1_10_is_0*X_10_10_is_1)\n",
    "print(X_1_10_is_1*X_10_10_is_0)\n",
    "print(X_1_10_is_1*X_10_10_is_1)"
   ]
  },
  {
   "cell_type": "markdown",
   "metadata": {},
   "source": [
    "# Define parameters and get probability tables for beta = 1"
   ]
  },
  {
   "cell_type": "code",
   "execution_count": 29,
   "metadata": {},
   "outputs": [
    {
     "name": "stdout",
     "output_type": "stream",
     "text": [
      "0.131927020395963\n",
      "0.7134737097478534\n",
      "0.024125625044170526\n",
      "0.13047364481201296\n"
     ]
    }
   ],
   "source": [
    "beta = 1\n",
    "\n",
    "#Define the lattice \n",
    "xmax = 10\n",
    "ymax = 10\n",
    "\n",
    "#pre-compute : less time consumming \n",
    "rdm = np.random.random(xmax * ymax)\n",
    "\n",
    "tends_to_0 = 0.000001\n",
    "tends_to_inf = 100000\n",
    "\n",
    "#initialization \n",
    "update_elbo =0\n",
    "\n",
    "while 1:\n",
    "    update_elbo = ELBO(beta)\n",
    "    \n",
    "    if tends_to_inf - update_elbo < tends_to_0 and tends_to_inf - update_elbo >= 0:\n",
    "        break\n",
    "        \n",
    "    tends_to_inf = update_elbo\n",
    "    \n",
    "X_1_10_is_1= rdm[90] \n",
    "X_1_10_is_0= 1-rdm[90]\n",
    "X_10_10_is_1= rdm[99]\n",
    "X_10_10_is_0= 1-rdm[99]\n",
    "\n",
    "print(X_1_10_is_0*X_10_10_is_0)\n",
    "print(X_1_10_is_0*X_10_10_is_1)\n",
    "print(X_1_10_is_1*X_10_10_is_0)\n",
    "print(X_1_10_is_1*X_10_10_is_1)"
   ]
  },
  {
   "cell_type": "markdown",
   "metadata": {},
   "source": [
    "# Define parameters and get probability tables for beta = 4"
   ]
  },
  {
   "cell_type": "code",
   "execution_count": 25,
   "metadata": {},
   "outputs": [
    {
     "name": "stdout",
     "output_type": "stream",
     "text": [
      "1.1248187637422915e-07\n",
      "0.0003352706965542518\n",
      "0.0003352706965542518\n",
      "0.9993293461250151\n"
     ]
    }
   ],
   "source": [
    "beta = 4\n",
    "\n",
    "#Define the lattice \n",
    "xmax = 10\n",
    "ymax = 10\n",
    "\n",
    "#pre-compute : less time consumming \n",
    "rdm = np.random.random(xmax * ymax)\n",
    "\n",
    "tends_to_0 = 0.000001\n",
    "tends_to_inf = 100000\n",
    "\n",
    "#initialization \n",
    "update_elbo =0\n",
    "\n",
    "while 1:\n",
    "    update_elbo = ELBO(beta)\n",
    "    \n",
    "    if tends_to_inf - update_elbo < tends_to_0 and tends_to_inf - update_elbo >= 0:\n",
    "        break\n",
    "        \n",
    "    tends_to_inf = update_elbo\n",
    "    \n",
    "X_1_10_is_1= rdm[90] \n",
    "X_1_10_is_0= 1-rdm[90]\n",
    "X_10_10_is_1= rdm[99]\n",
    "X_10_10_is_0= 1-rdm[99]\n",
    "\n",
    "print(X_1_10_is_0*X_10_10_is_0)\n",
    "print(X_1_10_is_0*X_10_10_is_1)\n",
    "print(X_1_10_is_1*X_10_10_is_0)\n",
    "print(X_1_10_is_1*X_10_10_is_1)"
   ]
  },
  {
   "cell_type": "code",
   "execution_count": null,
   "metadata": {},
   "outputs": [],
   "source": []
  }
 ],
 "metadata": {
  "kernelspec": {
   "display_name": "Python 3",
   "language": "python",
   "name": "python3"
  },
  "language_info": {
   "codemirror_mode": {
    "name": "ipython",
    "version": 3
   },
   "file_extension": ".py",
   "mimetype": "text/x-python",
   "name": "python",
   "nbconvert_exporter": "python",
   "pygments_lexer": "ipython3",
   "version": "3.8.3"
  }
 },
 "nbformat": 4,
 "nbformat_minor": 4
}
